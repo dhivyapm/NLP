{
 "cells": [
  {
   "cell_type": "code",
   "execution_count": 1,
   "metadata": {},
   "outputs": [],
   "source": [
    "import pandas as pd\n",
    "from textblob import TextBlob\n",
    "namess= ['Speech']\n",
    "df3 = pd.read_csv('ID 3-complete.csv',header = None, names= namess)"
   ]
  },
  {
   "cell_type": "code",
   "execution_count": 411,
   "metadata": {},
   "outputs": [],
   "source": [
    "namess= ['Speech']\n",
    "df4 = pd.read_csv('ID 4-complete.csv',header=None)\n",
    "df4.columns = df4.columns.astype(str)\n",
    "df4.columns = ['Speech','N']\n",
    "df4 = df4.drop(['N'],axis=1)\n",
    "df4.Speech = df4.Speech.astype(str)"
   ]
  },
  {
   "cell_type": "code",
   "execution_count": 402,
   "metadata": {},
   "outputs": [
    {
     "data": {
      "text/plain": [
       "'That should be good, all right.'"
      ]
     },
     "execution_count": 402,
     "metadata": {},
     "output_type": "execute_result"
    }
   ],
   "source": [
    "df4['Speech']"
   ]
  },
  {
   "cell_type": "code",
   "execution_count": 390,
   "metadata": {},
   "outputs": [
    {
     "data": {
      "text/plain": [
       "Index(['Speech'], dtype='object')"
      ]
     },
     "execution_count": 390,
     "metadata": {},
     "output_type": "execute_result"
    }
   ],
   "source": [
    "namess= ['Speech']\n",
    "df5 = pd.read_csv('ID 5- Complete.csv',header = None, names= namess, encoding='cp1252')\n",
    "df5.columns"
   ]
  },
  {
   "cell_type": "code",
   "execution_count": 139,
   "metadata": {},
   "outputs": [],
   "source": [
    "namess= ['Speech']\n",
    "df6 = pd.read_csv('ID 6- Complete.csv',header = None, names= namess)"
   ]
  },
  {
   "cell_type": "code",
   "execution_count": 148,
   "metadata": {},
   "outputs": [],
   "source": [
    "namess= ['Speech']\n",
    "df7 = pd.read_csv('ID 7-Complete.csv',header = None, names= namess)"
   ]
  },
  {
   "cell_type": "code",
   "execution_count": 421,
   "metadata": {},
   "outputs": [],
   "source": [
    "namess= ['Speech']\n",
    "df8 = pd.read_csv('ID 8-complete.csv',header=None)\n",
    "df8.columns = df8.columns.astype(str)\n",
    "df8.columns = ['Speech','N']\n",
    "df8 = df8.drop(['N'],axis=1)\n",
    "df8.Speech = df8.Speech.astype(str)\n"
   ]
  },
  {
   "cell_type": "code",
   "execution_count": 159,
   "metadata": {},
   "outputs": [],
   "source": [
    "namess= ['Speech']\n",
    "df11 = pd.read_csv('ID 11- Complete.csv',header = None, names= namess)"
   ]
  },
  {
   "cell_type": "code",
   "execution_count": 168,
   "metadata": {},
   "outputs": [],
   "source": [
    "namess= ['Speech']\n",
    "df12 = pd.read_csv('ID 12- Complete.csv',header = None, names= namess)"
   ]
  },
  {
   "cell_type": "code",
   "execution_count": 435,
   "metadata": {},
   "outputs": [],
   "source": [
    "namess= ['Speech']\n",
    "df13 = pd.read_csv('ID 13-Complete.csv',header=None, encoding='cp1252')\n",
    "df13.columns = df13.columns.astype(str)\n",
    "df13.columns = ['Speech','N','S','T']\n",
    "df13 = df13.drop(['N','S','T'],axis=1)\n",
    "df13.Speech = df13.Speech.astype(str)"
   ]
  },
  {
   "cell_type": "code",
   "execution_count": 179,
   "metadata": {},
   "outputs": [],
   "source": [
    "namess= ['Speech']\n",
    "df14 = pd.read_csv('ID 14-Complete.csv',header = None, names= namess, encoding='cp1252')"
   ]
  },
  {
   "cell_type": "code",
   "execution_count": 188,
   "metadata": {},
   "outputs": [],
   "source": [
    "namess= ['Speech']\n",
    "df15 = pd.read_csv('ID 15-complete.csv',header = None, names= namess)"
   ]
  },
  {
   "cell_type": "code",
   "execution_count": 197,
   "metadata": {},
   "outputs": [],
   "source": [
    "namess= ['Speech']\n",
    "df16 = pd.read_csv('ID 16-complete.csv',header = None, names= namess, encoding='cp1252')"
   ]
  },
  {
   "cell_type": "code",
   "execution_count": 206,
   "metadata": {},
   "outputs": [],
   "source": [
    "namess= ['Speech']\n",
    "df17 = pd.read_csv('ID 17-Complete.csv',header = None, names= namess)"
   ]
  },
  {
   "cell_type": "code",
   "execution_count": 215,
   "metadata": {},
   "outputs": [],
   "source": [
    "namess= ['Speech']\n",
    "df18 = pd.read_csv('ID 18-Complete.csv',header = None, names= namess)"
   ]
  },
  {
   "cell_type": "code",
   "execution_count": 444,
   "metadata": {},
   "outputs": [],
   "source": [
    "namess= ['Speech']\n",
    "df21 = pd.read_csv('ID 21-complete.csv',header=None)\n",
    "df21.columns = df21.columns.astype(str)\n",
    "df21.columns = ['Speech','N']\n",
    "df21 = df21.drop(['N'],axis=1)\n",
    "df21.Speech = df21.Speech.astype(str)"
   ]
  },
  {
   "cell_type": "code",
   "execution_count": 226,
   "metadata": {},
   "outputs": [],
   "source": [
    "namess= ['Speech']\n",
    "df22 = pd.read_csv('ID 22-Complete.csv',header = None, names= namess, encoding='cp1252')"
   ]
  },
  {
   "cell_type": "code",
   "execution_count": 235,
   "metadata": {},
   "outputs": [],
   "source": [
    "namess= ['Speech']\n",
    "df23 = pd.read_csv('ID 23-Complete.csv',header = None, names= namess)"
   ]
  },
  {
   "cell_type": "code",
   "execution_count": 257,
   "metadata": {},
   "outputs": [],
   "source": [
    "namess= ['Speech']\n",
    "df24 = pd.read_csv('ID 24-Complete.csv',header = None, names= namess)"
   ]
  },
  {
   "cell_type": "code",
   "execution_count": 268,
   "metadata": {},
   "outputs": [],
   "source": [
    "namess= ['Speech']\n",
    "df33 = pd.read_csv('ID 33-complete.csv',header = None, names= namess)"
   ]
  },
  {
   "cell_type": "code",
   "execution_count": 277,
   "metadata": {},
   "outputs": [],
   "source": [
    "namess= ['Speech']\n",
    "df34 = pd.read_csv('ID 34-compelte.csv',header = None, names= namess, encoding='cp1252')"
   ]
  },
  {
   "cell_type": "code",
   "execution_count": 286,
   "metadata": {},
   "outputs": [],
   "source": [
    "namess= ['Speech']\n",
    "df35 = pd.read_csv('ID 35-complete.csv',header = None, names= namess)"
   ]
  },
  {
   "cell_type": "code",
   "execution_count": 295,
   "metadata": {},
   "outputs": [],
   "source": [
    "namess= ['Speech']\n",
    "df36 = pd.read_csv('ID 36-complete.csv',header = None, names= namess, encoding='cp1252')"
   ]
  },
  {
   "cell_type": "code",
   "execution_count": 304,
   "metadata": {},
   "outputs": [],
   "source": [
    "namess= ['Speech']\n",
    "df41 = pd.read_csv('ID 41-complete.csv',header = None, names= namess)"
   ]
  },
  {
   "cell_type": "code",
   "execution_count": 313,
   "metadata": {},
   "outputs": [],
   "source": [
    "namess= ['Speech']\n",
    "df42 = pd.read_csv('ID 42-complete.csv',header = None, names= namess, encoding='cp1252')"
   ]
  },
  {
   "cell_type": "code",
   "execution_count": 322,
   "metadata": {},
   "outputs": [],
   "source": [
    "namess= ['Speech']\n",
    "df47 = pd.read_csv('ID 47-complete.csv',header = None, names= namess)"
   ]
  },
  {
   "cell_type": "code",
   "execution_count": 335,
   "metadata": {},
   "outputs": [],
   "source": [
    "namess= ['Speech']\n",
    "df48 = pd.read_csv('ID 48-complete.csv',header = None, names= namess)"
   ]
  },
  {
   "cell_type": "code",
   "execution_count": 445,
   "metadata": {},
   "outputs": [],
   "source": [
    "from textblob import TextBlob\n",
    "def sentiment_calc(text):\n",
    "    try:\n",
    "        return TextBlob(text).sentiment[0]\n",
    "    except:\n",
    "        return None\n",
    "\n",
    "#df8['Polarity'] = df['Speech'].apply(sentiment_calc)\n",
    "    \n",
    "df['Polarity'] = df21['Speech'].apply(lambda x: TextBlob(x).sentiment[0])\n",
    "df21['Sentiment'] = df21['Polarity'].apply(lambda n: 1 if n > 0.05 else (0 if n < 0.05  else -1))"
   ]
  },
  {
   "cell_type": "code",
   "execution_count": 446,
   "metadata": {},
   "outputs": [],
   "source": [
    "import text2emotion as te\n",
    "def text_2_emotions(text):\n",
    "    result = te.get_emotion(text)\n",
    "    return result\n",
    "res = [text_2_emotions(df21['Speech'][asp]) for asp in range(len(df21))]"
   ]
  },
  {
   "cell_type": "code",
   "execution_count": 447,
   "metadata": {},
   "outputs": [],
   "source": [
    "df21['emotions'] = res"
   ]
  },
  {
   "cell_type": "code",
   "execution_count": 448,
   "metadata": {},
   "outputs": [],
   "source": [
    "import text2emotion as te\n",
    "import numpy as np\n",
    "def text_2_emotions(text):\n",
    "    r = []\n",
    "    result = te.get_emotion(text)\n",
    "    for k,v in result.items(): \n",
    "        if result[k] != 0.0:\n",
    "            r.append(max(result, key=result.get))\n",
    "    return np.unique(r)"
   ]
  },
  {
   "cell_type": "code",
   "execution_count": 449,
   "metadata": {},
   "outputs": [],
   "source": [
    "res = [text_2_emotions(df21['Speech'][asp]) for asp in range(len(df21))]"
   ]
  },
  {
   "cell_type": "code",
   "execution_count": 450,
   "metadata": {},
   "outputs": [],
   "source": [
    "df21['M_emotions'] = res"
   ]
  },
  {
   "cell_type": "code",
   "execution_count": 451,
   "metadata": {},
   "outputs": [],
   "source": [
    "df21 = df21[['Sentiment','Speech','emotions','M_emotions']]"
   ]
  },
  {
   "cell_type": "code",
   "execution_count": 452,
   "metadata": {},
   "outputs": [],
   "source": [
    "df21.to_csv('student_21_emotions.csv')"
   ]
  },
  {
   "cell_type": "code",
   "execution_count": null,
   "metadata": {},
   "outputs": [],
   "source": []
  }
 ],
 "metadata": {
  "kernelspec": {
   "display_name": "Python 3",
   "language": "python",
   "name": "python3"
  },
  "language_info": {
   "codemirror_mode": {
    "name": "ipython",
    "version": 3
   },
   "file_extension": ".py",
   "mimetype": "text/x-python",
   "name": "python",
   "nbconvert_exporter": "python",
   "pygments_lexer": "ipython3",
   "version": "3.8.5"
  }
 },
 "nbformat": 4,
 "nbformat_minor": 4
}
