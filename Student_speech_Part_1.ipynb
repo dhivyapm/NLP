{
 "cells": [
  {
   "cell_type": "code",
   "execution_count": 99,
   "metadata": {},
   "outputs": [],
   "source": [
    "import pandas as pd\n",
    "namess= ['Speech']\n",
    "df1 = pd.read_csv('ID 1- comeplete.csv',header = None, names= namess)"
   ]
  },
  {
   "cell_type": "code",
   "execution_count": 100,
   "metadata": {},
   "outputs": [],
   "source": [
    "std_1 = df1['Speech'].str.cat(sep=' ')"
   ]
  },
  {
   "cell_type": "code",
   "execution_count": 101,
   "metadata": {},
   "outputs": [],
   "source": [
    "namess= ['Speech']\n",
    "df2 = pd.read_csv('ID 2 - Complete.csv',header = None, names= namess)"
   ]
  },
  {
   "cell_type": "code",
   "execution_count": 102,
   "metadata": {},
   "outputs": [],
   "source": [
    "std_2 = df2['Speech'].str.cat(sep=' ')"
   ]
  },
  {
   "cell_type": "code",
   "execution_count": 103,
   "metadata": {},
   "outputs": [],
   "source": [
    "namess= ['Speech']\n",
    "df3 = pd.read_csv('ID 3-complete.csv',header = None, names= namess)"
   ]
  },
  {
   "cell_type": "code",
   "execution_count": 104,
   "metadata": {},
   "outputs": [],
   "source": [
    "std_3 = df3['Speech'].str.cat(sep=' ')"
   ]
  },
  {
   "cell_type": "code",
   "execution_count": 105,
   "metadata": {},
   "outputs": [],
   "source": [
    "namess= ['Speech','un']\n",
    "df4 = pd.read_csv('ID 4-complete.csv',header = None, names= namess)\n",
    "df4 = df4.drop(['un'],axis=1)"
   ]
  },
  {
   "cell_type": "code",
   "execution_count": 106,
   "metadata": {},
   "outputs": [],
   "source": [
    "std_4 = df4['Speech'].str.cat(sep=' ')"
   ]
  },
  {
   "cell_type": "code",
   "execution_count": 107,
   "metadata": {},
   "outputs": [],
   "source": [
    "namess= ['Speech']\n",
    "df5 = pd.read_csv('ID 5- Complete.csv',header = None, names= namess, encoding='cp1252')"
   ]
  },
  {
   "cell_type": "code",
   "execution_count": 108,
   "metadata": {},
   "outputs": [],
   "source": [
    "std_5 = df5['Speech'].str.cat(sep=' ')"
   ]
  },
  {
   "cell_type": "code",
   "execution_count": 109,
   "metadata": {},
   "outputs": [],
   "source": [
    "namess= ['Speech']\n",
    "df6 = pd.read_csv('ID 6- Complete.csv',header = None, names= namess)"
   ]
  },
  {
   "cell_type": "code",
   "execution_count": 110,
   "metadata": {},
   "outputs": [],
   "source": [
    "std_6 = df6['Speech'].str.cat(sep=' ')"
   ]
  },
  {
   "cell_type": "code",
   "execution_count": 111,
   "metadata": {},
   "outputs": [],
   "source": [
    "namess= ['Speech']\n",
    "df7 = pd.read_csv('ID 7-Complete.csv',header = None, names= namess)"
   ]
  },
  {
   "cell_type": "code",
   "execution_count": 112,
   "metadata": {},
   "outputs": [],
   "source": [
    "std_7 = df7['Speech'].str.cat(sep=' ')"
   ]
  },
  {
   "cell_type": "code",
   "execution_count": 113,
   "metadata": {},
   "outputs": [],
   "source": [
    "namess= ['Speech','un']\n",
    "df8 = pd.read_csv('ID 8-complete.csv',header = None, names= namess)\n",
    "df8 = df8.drop(['un'],axis=1)"
   ]
  },
  {
   "cell_type": "code",
   "execution_count": 114,
   "metadata": {},
   "outputs": [],
   "source": [
    "std_8 = df8['Speech'].str.cat(sep=' ')"
   ]
  },
  {
   "cell_type": "code",
   "execution_count": 115,
   "metadata": {},
   "outputs": [],
   "source": [
    "namess= ['Speech']\n",
    "df11 = pd.read_csv('ID 11- Complete.csv',header = None, names= namess)"
   ]
  },
  {
   "cell_type": "code",
   "execution_count": 116,
   "metadata": {},
   "outputs": [],
   "source": [
    "std_11 = df11['Speech'].str.cat(sep=' ')"
   ]
  },
  {
   "cell_type": "code",
   "execution_count": 117,
   "metadata": {},
   "outputs": [],
   "source": [
    "namess= ['Speech']\n",
    "df12 = pd.read_csv('ID 12- Complete.csv',header = None, names= namess)"
   ]
  },
  {
   "cell_type": "code",
   "execution_count": 118,
   "metadata": {},
   "outputs": [],
   "source": [
    "std_12 = df12['Speech'].str.cat(sep=' ')"
   ]
  },
  {
   "cell_type": "code",
   "execution_count": 119,
   "metadata": {},
   "outputs": [],
   "source": [
    "namess= ['Speech','un1','un2','un3']\n",
    "df13 = pd.read_csv('ID 13-Complete.csv',header = None, names= namess, encoding='cp1252')\n",
    "df13 = df13.drop(['un1','un2','un3'],axis=1)"
   ]
  },
  {
   "cell_type": "code",
   "execution_count": 120,
   "metadata": {},
   "outputs": [],
   "source": [
    "std_13 = df13['Speech'].str.cat(sep=' ')"
   ]
  },
  {
   "cell_type": "code",
   "execution_count": 121,
   "metadata": {},
   "outputs": [],
   "source": [
    "namess= ['Speech']\n",
    "df14 = pd.read_csv('ID 14-Complete.csv',header = None, names= namess, encoding='cp1252')"
   ]
  },
  {
   "cell_type": "code",
   "execution_count": 122,
   "metadata": {},
   "outputs": [],
   "source": [
    "std_14 = df14['Speech'].str.cat(sep=' ')"
   ]
  },
  {
   "cell_type": "code",
   "execution_count": 123,
   "metadata": {},
   "outputs": [],
   "source": [
    "namess= ['Speech']\n",
    "df15 = pd.read_csv('ID 15-complete.csv',header = None, names= namess)"
   ]
  },
  {
   "cell_type": "code",
   "execution_count": 124,
   "metadata": {},
   "outputs": [],
   "source": [
    "std_15 = df15['Speech'].str.cat(sep=' ')"
   ]
  },
  {
   "cell_type": "code",
   "execution_count": 125,
   "metadata": {},
   "outputs": [],
   "source": [
    "namess= ['Speech']\n",
    "df16 = pd.read_csv('ID 16-complete.csv',header = None, names= namess, encoding='cp1252')"
   ]
  },
  {
   "cell_type": "code",
   "execution_count": 126,
   "metadata": {},
   "outputs": [],
   "source": [
    "std_16 = df16['Speech'].str.cat(sep=' ')"
   ]
  },
  {
   "cell_type": "code",
   "execution_count": 127,
   "metadata": {},
   "outputs": [],
   "source": [
    "namess= ['Speech']\n",
    "df17 = pd.read_csv('ID 17-Complete.csv',header = None, names= namess)"
   ]
  },
  {
   "cell_type": "code",
   "execution_count": 128,
   "metadata": {},
   "outputs": [],
   "source": [
    "std_17 = df17['Speech'].str.cat(sep=' ')"
   ]
  },
  {
   "cell_type": "code",
   "execution_count": 129,
   "metadata": {},
   "outputs": [],
   "source": [
    "namess= ['Speech']\n",
    "df18 = pd.read_csv('ID 18-Complete.csv',header = None, names= namess)"
   ]
  },
  {
   "cell_type": "code",
   "execution_count": 130,
   "metadata": {},
   "outputs": [],
   "source": [
    "std_18 = df18['Speech'].str.cat(sep=' ')"
   ]
  },
  {
   "cell_type": "code",
   "execution_count": 131,
   "metadata": {},
   "outputs": [],
   "source": [
    "namess= ['Speech','un']\n",
    "df21 = pd.read_csv('ID 21-complete.csv',header = None,names=namess)\n",
    "df21 = df21.drop(['un'],axis=1)"
   ]
  },
  {
   "cell_type": "code",
   "execution_count": 132,
   "metadata": {},
   "outputs": [],
   "source": [
    "std_21 = df21['Speech'].str.cat(sep=' ')"
   ]
  },
  {
   "cell_type": "code",
   "execution_count": 133,
   "metadata": {},
   "outputs": [],
   "source": [
    "namess= ['Speech']\n",
    "df22 = pd.read_csv('ID 22-Complete.csv',header = None, names= namess, encoding='cp1252')"
   ]
  },
  {
   "cell_type": "code",
   "execution_count": 134,
   "metadata": {},
   "outputs": [],
   "source": [
    "std_22 = df22['Speech'].str.cat(sep=' ')"
   ]
  },
  {
   "cell_type": "code",
   "execution_count": 135,
   "metadata": {},
   "outputs": [],
   "source": [
    "namess= ['Speech']\n",
    "df23 = pd.read_csv('ID 23-Complete.csv',header = None, names= namess)"
   ]
  },
  {
   "cell_type": "code",
   "execution_count": 136,
   "metadata": {},
   "outputs": [],
   "source": [
    "std_23 = df23['Speech'].str.cat(sep=' ')"
   ]
  },
  {
   "cell_type": "code",
   "execution_count": 137,
   "metadata": {},
   "outputs": [],
   "source": [
    "namess= ['Speech']\n",
    "df24 = pd.read_csv('ID 24-Complete.csv',header = None, names= namess)"
   ]
  },
  {
   "cell_type": "code",
   "execution_count": 138,
   "metadata": {},
   "outputs": [],
   "source": [
    "std_24 = df24['Speech'].str.cat(sep=' ')"
   ]
  },
  {
   "cell_type": "code",
   "execution_count": 139,
   "metadata": {},
   "outputs": [],
   "source": [
    "namess= ['Speech']\n",
    "df33 = pd.read_csv('ID 33-complete.csv',header = None, names= namess)"
   ]
  },
  {
   "cell_type": "code",
   "execution_count": 140,
   "metadata": {},
   "outputs": [],
   "source": [
    "std_33 = df33['Speech'].str.cat(sep=' ')"
   ]
  },
  {
   "cell_type": "code",
   "execution_count": 141,
   "metadata": {},
   "outputs": [],
   "source": [
    "namess= ['Speech']\n",
    "df34 = pd.read_csv('ID 34-compelte.csv',header = None, names= namess, encoding='cp1252')"
   ]
  },
  {
   "cell_type": "code",
   "execution_count": 142,
   "metadata": {},
   "outputs": [],
   "source": [
    "std_34 = df34['Speech'].str.cat(sep=' ')"
   ]
  },
  {
   "cell_type": "code",
   "execution_count": 143,
   "metadata": {},
   "outputs": [],
   "source": [
    "namess= ['Speech']\n",
    "df35 = pd.read_csv('ID 35-complete.csv',header = None, names= namess)"
   ]
  },
  {
   "cell_type": "code",
   "execution_count": 144,
   "metadata": {},
   "outputs": [],
   "source": [
    "std_35 = df35['Speech'].str.cat(sep=' ')"
   ]
  },
  {
   "cell_type": "code",
   "execution_count": 145,
   "metadata": {},
   "outputs": [],
   "source": [
    "namess= ['Speech']\n",
    "df36 = pd.read_csv('ID 36-complete.csv',header = None, names= namess, encoding='cp1252')"
   ]
  },
  {
   "cell_type": "code",
   "execution_count": 146,
   "metadata": {},
   "outputs": [],
   "source": [
    "std_36 = df36['Speech'].str.cat(sep=' ')"
   ]
  },
  {
   "cell_type": "code",
   "execution_count": 147,
   "metadata": {},
   "outputs": [],
   "source": [
    "namess= ['Speech']\n",
    "df41 = pd.read_csv('ID 41-complete.csv',header = None, names= namess)"
   ]
  },
  {
   "cell_type": "code",
   "execution_count": 148,
   "metadata": {},
   "outputs": [],
   "source": [
    "std_41 = df41['Speech'].str.cat(sep=' ')"
   ]
  },
  {
   "cell_type": "code",
   "execution_count": 149,
   "metadata": {},
   "outputs": [],
   "source": [
    "namess= ['Speech']\n",
    "df42 = pd.read_csv('ID 42-complete.csv',header = None, names= namess, encoding='cp1252')"
   ]
  },
  {
   "cell_type": "code",
   "execution_count": 150,
   "metadata": {},
   "outputs": [],
   "source": [
    "std_42 = df42['Speech'].str.cat(sep=' ')"
   ]
  },
  {
   "cell_type": "code",
   "execution_count": 151,
   "metadata": {},
   "outputs": [],
   "source": [
    "namess= ['Speech']\n",
    "df47 = pd.read_csv('ID 47-complete.csv',header = None, names= namess)"
   ]
  },
  {
   "cell_type": "code",
   "execution_count": 152,
   "metadata": {},
   "outputs": [],
   "source": [
    "std_47 = df47['Speech'].str.cat(sep=' ')"
   ]
  },
  {
   "cell_type": "code",
   "execution_count": 153,
   "metadata": {},
   "outputs": [],
   "source": [
    "namess= ['Speech']\n",
    "df48 = pd.read_csv('ID 48-complete.csv',header = None, names= namess)"
   ]
  },
  {
   "cell_type": "code",
   "execution_count": 154,
   "metadata": {},
   "outputs": [],
   "source": [
    "std_48 = df48['Speech'].str.cat(sep=' ')"
   ]
  },
  {
   "cell_type": "code",
   "execution_count": 155,
   "metadata": {},
   "outputs": [],
   "source": [
    "df_0 = pd.DataFrame([std_1,std_2,std_3,std_4,std_5,std_6,std_7,std_8,std_11,std_12,std_13,std_14,std_15,\n",
    "                    std_16,std_17,std_18,std_21,std_22,std_23,std_24,std_33,std_34,std_35,std_36,std_41,std_42,\n",
    "                    std_47,std_48], columns=['Speech'])"
   ]
  },
  {
   "cell_type": "code",
   "execution_count": 158,
   "metadata": {},
   "outputs": [],
   "source": [
    "df_0.to_csv('Student_combined_dataset.csv')"
   ]
  },
  {
   "cell_type": "code",
   "execution_count": 267,
   "metadata": {},
   "outputs": [
    {
     "data": {
      "text/html": [
       "<div>\n",
       "<style scoped>\n",
       "    .dataframe tbody tr th:only-of-type {\n",
       "        vertical-align: middle;\n",
       "    }\n",
       "\n",
       "    .dataframe tbody tr th {\n",
       "        vertical-align: top;\n",
       "    }\n",
       "\n",
       "    .dataframe thead th {\n",
       "        text-align: right;\n",
       "    }\n",
       "</style>\n",
       "<table border=\"1\" class=\"dataframe\">\n",
       "  <thead>\n",
       "    <tr style=\"text-align: right;\">\n",
       "      <th></th>\n",
       "      <th>Speech</th>\n",
       "    </tr>\n",
       "  </thead>\n",
       "  <tbody>\n",
       "    <tr>\n",
       "      <th>0</th>\n",
       "      <td>i guess yeah sure yeah just say you do just ne...</td>\n",
       "    </tr>\n",
       "    <tr>\n",
       "      <th>1</th>\n",
       "      <td>does it matter where it goes all right because...</td>\n",
       "    </tr>\n",
       "    <tr>\n",
       "      <th>2</th>\n",
       "      <td>all right so then the user needs to choose the...</td>\n",
       "    </tr>\n",
       "    <tr>\n",
       "      <th>3</th>\n",
       "      <td>that should be good all right so they need to ...</td>\n",
       "    </tr>\n",
       "    <tr>\n",
       "      <th>4</th>\n",
       "      <td>i didnt realize how loud was  inaudible   inau...</td>\n",
       "    </tr>\n",
       "    <tr>\n",
       "      <th>5</th>\n",
       "      <td>inaudible  put it on your shirt bro inaudible ...</td>\n",
       "    </tr>\n",
       "    <tr>\n",
       "      <th>6</th>\n",
       "      <td>i recently found out crosstalk  okay thats how...</td>\n",
       "    </tr>\n",
       "    <tr>\n",
       "      <th>7</th>\n",
       "      <td>yeah just crosstalk  mmhmm affirmative crossta...</td>\n",
       "    </tr>\n",
       "    <tr>\n",
       "      <th>8</th>\n",
       "      <td>th   max inaudible   that basically just goes...</td>\n",
       "    </tr>\n",
       "    <tr>\n",
       "      <th>9</th>\n",
       "      <td>all right on the average what did they averag...</td>\n",
       "    </tr>\n",
       "    <tr>\n",
       "      <th>10</th>\n",
       "      <td>thats good does this one open ah i know right ...</td>\n",
       "    </tr>\n",
       "    <tr>\n",
       "      <th>11</th>\n",
       "      <td>just checking if it works yeah it opens it op...</td>\n",
       "    </tr>\n",
       "    <tr>\n",
       "      <th>12</th>\n",
       "      <td>yeah march  okay and you are team  or group  y...</td>\n",
       "    </tr>\n",
       "    <tr>\n",
       "      <th>13</th>\n",
       "      <td>okay it says draw the flow chart but it doesnt...</td>\n",
       "    </tr>\n",
       "    <tr>\n",
       "      <th>14</th>\n",
       "      <td>plus people oh there it is crosstalk  like to ...</td>\n",
       "    </tr>\n",
       "    <tr>\n",
       "      <th>15</th>\n",
       "      <td>oh yeah i can imagine must be very difficult a...</td>\n",
       "    </tr>\n",
       "    <tr>\n",
       "      <th>16</th>\n",
       "      <td>i think its recording now is there anything yo...</td>\n",
       "    </tr>\n",
       "    <tr>\n",
       "      <th>17</th>\n",
       "      <td>oh god inaudible  oh my god this is actually r...</td>\n",
       "    </tr>\n",
       "    <tr>\n",
       "      <th>18</th>\n",
       "      <td>yes okay okay do this activity with the sum an...</td>\n",
       "    </tr>\n",
       "    <tr>\n",
       "      <th>19</th>\n",
       "      <td>inaudible  marco lets try the functions first ...</td>\n",
       "    </tr>\n",
       "    <tr>\n",
       "      <th>20</th>\n",
       "      <td>working yeah im trying to figure out how to us...</td>\n",
       "    </tr>\n",
       "    <tr>\n",
       "      <th>21</th>\n",
       "      <td>is it working yeah thats pretty confusing you ...</td>\n",
       "    </tr>\n",
       "    <tr>\n",
       "      <th>22</th>\n",
       "      <td>thank you i like it too  were going to be play...</td>\n",
       "    </tr>\n",
       "    <tr>\n",
       "      <th>23</th>\n",
       "      <td>when you finish today call me over and i will ...</td>\n",
       "    </tr>\n",
       "    <tr>\n",
       "      <th>24</th>\n",
       "      <td>richard hoel  your number  im going to be an i...</td>\n",
       "    </tr>\n",
       "    <tr>\n",
       "      <th>25</th>\n",
       "      <td>no its anonymous youre a number and  damn i fe...</td>\n",
       "    </tr>\n",
       "    <tr>\n",
       "      <th>26</th>\n",
       "      <td>i apologize in advanced because i cuss a lot t...</td>\n",
       "    </tr>\n",
       "    <tr>\n",
       "      <th>27</th>\n",
       "      <td>today is march th  i got it sick lit i guess j...</td>\n",
       "    </tr>\n",
       "  </tbody>\n",
       "</table>\n",
       "</div>"
      ],
      "text/plain": [
       "                                               Speech\n",
       "0   i guess yeah sure yeah just say you do just ne...\n",
       "1   does it matter where it goes all right because...\n",
       "2   all right so then the user needs to choose the...\n",
       "3   that should be good all right so they need to ...\n",
       "4   i didnt realize how loud was  inaudible   inau...\n",
       "5   inaudible  put it on your shirt bro inaudible ...\n",
       "6   i recently found out crosstalk  okay thats how...\n",
       "7   yeah just crosstalk  mmhmm affirmative crossta...\n",
       "8    th   max inaudible   that basically just goes...\n",
       "9    all right on the average what did they averag...\n",
       "10  thats good does this one open ah i know right ...\n",
       "11   just checking if it works yeah it opens it op...\n",
       "12  yeah march  okay and you are team  or group  y...\n",
       "13  okay it says draw the flow chart but it doesnt...\n",
       "14  plus people oh there it is crosstalk  like to ...\n",
       "15  oh yeah i can imagine must be very difficult a...\n",
       "16  i think its recording now is there anything yo...\n",
       "17  oh god inaudible  oh my god this is actually r...\n",
       "18  yes okay okay do this activity with the sum an...\n",
       "19  inaudible  marco lets try the functions first ...\n",
       "20  working yeah im trying to figure out how to us...\n",
       "21  is it working yeah thats pretty confusing you ...\n",
       "22  thank you i like it too  were going to be play...\n",
       "23  when you finish today call me over and i will ...\n",
       "24  richard hoel  your number  im going to be an i...\n",
       "25  no its anonymous youre a number and  damn i fe...\n",
       "26  i apologize in advanced because i cuss a lot t...\n",
       "27  today is march th  i got it sick lit i guess j..."
      ]
     },
     "execution_count": 267,
     "metadata": {},
     "output_type": "execute_result"
    }
   ],
   "source": [
    "import string\n",
    "df_0 = pd.read_csv('Student_combined_dataset.csv',sep=',')\n",
    "df_0 = df_0.drop(['Unnamed: 0'],axis=1)\n",
    "#converting the reviews to lowercase\n",
    "df_0['Speech'] = df_0['Speech'].apply(str.lower)\n",
    "df_0['Speech'] = df_0['Speech'].str.replace('[{}]'.format(string.punctuation), '')\n",
    "df_0['Speech'] = df_0['Speech'].str.replace('[{}]'.format(string.digits), '')\n",
    "df_0"
   ]
  },
  {
   "cell_type": "code",
   "execution_count": 268,
   "metadata": {},
   "outputs": [
    {
     "name": "stderr",
     "output_type": "stream",
     "text": [
      "[nltk_data] Downloading package stopwords to\n",
      "[nltk_data]     C:\\Users\\divya\\AppData\\Roaming\\nltk_data...\n",
      "[nltk_data]   Package stopwords is already up-to-date!\n",
      "[nltk_data] Downloading package wordnet to\n",
      "[nltk_data]     C:\\Users\\divya\\AppData\\Roaming\\nltk_data...\n",
      "[nltk_data]   Package wordnet is already up-to-date!\n"
     ]
    }
   ],
   "source": [
    "from collections import Counter\n",
    "from nltk.corpus import stopwords\n",
    "import nltk\n",
    "rem = ['hoel','crosstalk','inaudible','affirmative','yeah','oh','uh','hm','urgh','hmm',\n",
    "       'mmhmm','ohhhhh','woo','uhhuh']\n",
    "#Word Tokenize the reviews\n",
    "df_0['clean_Speech'] = df_0.apply(lambda row: nltk.word_tokenize(row['Speech']), axis=1)\n",
    "        \n",
    "#Remove all stop words\n",
    "nltk.download('stopwords')\n",
    "df_0['clean_Speech'] = df_0.apply(lambda row: [t for t in row['clean_Speech'] if t not in stopwords.words('english')], axis=1) \n",
    "df_0['clean_Speech'] = df_0.apply(lambda row: [t for t in row['clean_Speech'] if t not in rem], axis=1)\n",
    "    \n",
    "#Instantiate the WordNetLemmatizer\n",
    "from nltk import WordNetLemmatizer\n",
    "lemmatizer = WordNetLemmatizer()\n",
    "# stripping suffixes such as ‘ed’, ‘ing’, ‘tion’ etc. Ex. stemming ‘walked’ returns walk.  \n",
    "nltk.download('wordnet')\n",
    "df_0['clean_Speech'] = df_0.apply(lambda row: [lemmatizer.lemmatize(t) for t in row['clean_Speech']], axis=1)"
   ]
  },
  {
   "cell_type": "code",
   "execution_count": 269,
   "metadata": {},
   "outputs": [
    {
     "data": {
      "text/html": [
       "<div>\n",
       "<style scoped>\n",
       "    .dataframe tbody tr th:only-of-type {\n",
       "        vertical-align: middle;\n",
       "    }\n",
       "\n",
       "    .dataframe tbody tr th {\n",
       "        vertical-align: top;\n",
       "    }\n",
       "\n",
       "    .dataframe thead th {\n",
       "        text-align: right;\n",
       "    }\n",
       "</style>\n",
       "<table border=\"1\" class=\"dataframe\">\n",
       "  <thead>\n",
       "    <tr style=\"text-align: right;\">\n",
       "      <th></th>\n",
       "      <th>Speech</th>\n",
       "      <th>clean_Speech</th>\n",
       "    </tr>\n",
       "  </thead>\n",
       "  <tbody>\n",
       "    <tr>\n",
       "      <th>0</th>\n",
       "      <td>i guess yeah sure yeah just say you do just ne...</td>\n",
       "      <td>[guess, sure, say, need, make, sure, dont, get...</td>\n",
       "    </tr>\n",
       "    <tr>\n",
       "      <th>1</th>\n",
       "      <td>does it matter where it goes all right because...</td>\n",
       "      <td>[matter, go, right, going, say, put, right, go...</td>\n",
       "    </tr>\n",
       "    <tr>\n",
       "      <th>2</th>\n",
       "      <td>all right so then the user needs to choose the...</td>\n",
       "      <td>[right, user, need, choose, want, straight, on...</td>\n",
       "    </tr>\n",
       "    <tr>\n",
       "      <th>3</th>\n",
       "      <td>that should be good all right so they need to ...</td>\n",
       "      <td>[good, right, need, choose, either, one, menu,...</td>\n",
       "    </tr>\n",
       "    <tr>\n",
       "      <th>4</th>\n",
       "      <td>i didnt realize how loud was  inaudible   inau...</td>\n",
       "      <td>[didnt, realize, loud, ncc, tournament, going,...</td>\n",
       "    </tr>\n",
       "    <tr>\n",
       "      <th>5</th>\n",
       "      <td>inaudible  put it on your shirt bro inaudible ...</td>\n",
       "      <td>[put, shirt, bro, put, shirt, yo, go, like, go...</td>\n",
       "    </tr>\n",
       "    <tr>\n",
       "      <th>6</th>\n",
       "      <td>i recently found out crosstalk  okay thats how...</td>\n",
       "      <td>[recently, found, okay, thats, work, right, im...</td>\n",
       "    </tr>\n",
       "    <tr>\n",
       "      <th>7</th>\n",
       "      <td>yeah just crosstalk  mmhmm affirmative crossta...</td>\n",
       "      <td>[dude, idea, im, great, think, know, talking, ...</td>\n",
       "    </tr>\n",
       "    <tr>\n",
       "      <th>8</th>\n",
       "      <td>th   max inaudible   that basically just goes...</td>\n",
       "      <td>[th, max, basically, go, number, bigger, doesn...</td>\n",
       "    </tr>\n",
       "    <tr>\n",
       "      <th>9</th>\n",
       "      <td>all right on the average what did they averag...</td>\n",
       "      <td>[right, average, average, right, think, unders...</td>\n",
       "    </tr>\n",
       "    <tr>\n",
       "      <th>10</th>\n",
       "      <td>thats good does this one open ah i know right ...</td>\n",
       "      <td>[thats, good, one, open, ah, know, right, sorr...</td>\n",
       "    </tr>\n",
       "    <tr>\n",
       "      <th>11</th>\n",
       "      <td>just checking if it works yeah it opens it op...</td>\n",
       "      <td>[checking, work, open, open, keep, putting, pr...</td>\n",
       "    </tr>\n",
       "    <tr>\n",
       "      <th>12</th>\n",
       "      <td>yeah march  okay and you are team  or group  y...</td>\n",
       "      <td>[march, okay, team, group, perfect, thank, oka...</td>\n",
       "    </tr>\n",
       "    <tr>\n",
       "      <th>13</th>\n",
       "      <td>okay it says draw the flow chart but it doesnt...</td>\n",
       "      <td>[okay, say, draw, flow, chart, doesnt, say, su...</td>\n",
       "    </tr>\n",
       "    <tr>\n",
       "      <th>14</th>\n",
       "      <td>plus people oh there it is crosstalk  like to ...</td>\n",
       "      <td>[plus, people, like, invoke, method, say, righ...</td>\n",
       "    </tr>\n",
       "    <tr>\n",
       "      <th>15</th>\n",
       "      <td>oh yeah i can imagine must be very difficult a...</td>\n",
       "      <td>[imagine, must, difficult, anyways, yall, good...</td>\n",
       "    </tr>\n",
       "    <tr>\n",
       "      <th>16</th>\n",
       "      <td>i think its recording now is there anything yo...</td>\n",
       "      <td>[think, recording, anything, want, say, teache...</td>\n",
       "    </tr>\n",
       "    <tr>\n",
       "      <th>17</th>\n",
       "      <td>oh god inaudible  oh my god this is actually r...</td>\n",
       "      <td>[god, god, actually, ridiculous, boy, public, ...</td>\n",
       "    </tr>\n",
       "    <tr>\n",
       "      <th>18</th>\n",
       "      <td>yes okay okay do this activity with the sum an...</td>\n",
       "      <td>[yes, okay, okay, activity, sum, activity, wri...</td>\n",
       "    </tr>\n",
       "    <tr>\n",
       "      <th>19</th>\n",
       "      <td>inaudible  marco lets try the functions first ...</td>\n",
       "      <td>[marco, let, try, function, first, could, inpu...</td>\n",
       "    </tr>\n",
       "    <tr>\n",
       "      <th>20</th>\n",
       "      <td>working yeah im trying to figure out how to us...</td>\n",
       "      <td>[working, im, trying, figure, use, method, thi...</td>\n",
       "    </tr>\n",
       "    <tr>\n",
       "      <th>21</th>\n",
       "      <td>is it working yeah thats pretty confusing you ...</td>\n",
       "      <td>[working, thats, pretty, confusing, wouldnt, u...</td>\n",
       "    </tr>\n",
       "    <tr>\n",
       "      <th>22</th>\n",
       "      <td>thank you i like it too  were going to be play...</td>\n",
       "      <td>[thank, like, going, playing, around, method, ...</td>\n",
       "    </tr>\n",
       "    <tr>\n",
       "      <th>23</th>\n",
       "      <td>when you finish today call me over and i will ...</td>\n",
       "      <td>[finish, today, call, hows, looking, aw, dude,...</td>\n",
       "    </tr>\n",
       "    <tr>\n",
       "      <th>24</th>\n",
       "      <td>richard hoel  your number  im going to be an i...</td>\n",
       "      <td>[richard, number, im, going, integer, today, k...</td>\n",
       "    </tr>\n",
       "    <tr>\n",
       "      <th>25</th>\n",
       "      <td>no its anonymous youre a number and  damn i fe...</td>\n",
       "      <td>[anonymous, youre, number, damn, feel, like, g...</td>\n",
       "    </tr>\n",
       "    <tr>\n",
       "      <th>26</th>\n",
       "      <td>i apologize in advanced because i cuss a lot t...</td>\n",
       "      <td>[apologize, advanced, cuss, lot, testing, one,...</td>\n",
       "    </tr>\n",
       "    <tr>\n",
       "      <th>27</th>\n",
       "      <td>today is march th  i got it sick lit i guess j...</td>\n",
       "      <td>[today, march, th, got, sick, lit, guess, clip...</td>\n",
       "    </tr>\n",
       "  </tbody>\n",
       "</table>\n",
       "</div>"
      ],
      "text/plain": [
       "                                               Speech  \\\n",
       "0   i guess yeah sure yeah just say you do just ne...   \n",
       "1   does it matter where it goes all right because...   \n",
       "2   all right so then the user needs to choose the...   \n",
       "3   that should be good all right so they need to ...   \n",
       "4   i didnt realize how loud was  inaudible   inau...   \n",
       "5   inaudible  put it on your shirt bro inaudible ...   \n",
       "6   i recently found out crosstalk  okay thats how...   \n",
       "7   yeah just crosstalk  mmhmm affirmative crossta...   \n",
       "8    th   max inaudible   that basically just goes...   \n",
       "9    all right on the average what did they averag...   \n",
       "10  thats good does this one open ah i know right ...   \n",
       "11   just checking if it works yeah it opens it op...   \n",
       "12  yeah march  okay and you are team  or group  y...   \n",
       "13  okay it says draw the flow chart but it doesnt...   \n",
       "14  plus people oh there it is crosstalk  like to ...   \n",
       "15  oh yeah i can imagine must be very difficult a...   \n",
       "16  i think its recording now is there anything yo...   \n",
       "17  oh god inaudible  oh my god this is actually r...   \n",
       "18  yes okay okay do this activity with the sum an...   \n",
       "19  inaudible  marco lets try the functions first ...   \n",
       "20  working yeah im trying to figure out how to us...   \n",
       "21  is it working yeah thats pretty confusing you ...   \n",
       "22  thank you i like it too  were going to be play...   \n",
       "23  when you finish today call me over and i will ...   \n",
       "24  richard hoel  your number  im going to be an i...   \n",
       "25  no its anonymous youre a number and  damn i fe...   \n",
       "26  i apologize in advanced because i cuss a lot t...   \n",
       "27  today is march th  i got it sick lit i guess j...   \n",
       "\n",
       "                                         clean_Speech  \n",
       "0   [guess, sure, say, need, make, sure, dont, get...  \n",
       "1   [matter, go, right, going, say, put, right, go...  \n",
       "2   [right, user, need, choose, want, straight, on...  \n",
       "3   [good, right, need, choose, either, one, menu,...  \n",
       "4   [didnt, realize, loud, ncc, tournament, going,...  \n",
       "5   [put, shirt, bro, put, shirt, yo, go, like, go...  \n",
       "6   [recently, found, okay, thats, work, right, im...  \n",
       "7   [dude, idea, im, great, think, know, talking, ...  \n",
       "8   [th, max, basically, go, number, bigger, doesn...  \n",
       "9   [right, average, average, right, think, unders...  \n",
       "10  [thats, good, one, open, ah, know, right, sorr...  \n",
       "11  [checking, work, open, open, keep, putting, pr...  \n",
       "12  [march, okay, team, group, perfect, thank, oka...  \n",
       "13  [okay, say, draw, flow, chart, doesnt, say, su...  \n",
       "14  [plus, people, like, invoke, method, say, righ...  \n",
       "15  [imagine, must, difficult, anyways, yall, good...  \n",
       "16  [think, recording, anything, want, say, teache...  \n",
       "17  [god, god, actually, ridiculous, boy, public, ...  \n",
       "18  [yes, okay, okay, activity, sum, activity, wri...  \n",
       "19  [marco, let, try, function, first, could, inpu...  \n",
       "20  [working, im, trying, figure, use, method, thi...  \n",
       "21  [working, thats, pretty, confusing, wouldnt, u...  \n",
       "22  [thank, like, going, playing, around, method, ...  \n",
       "23  [finish, today, call, hows, looking, aw, dude,...  \n",
       "24  [richard, number, im, going, integer, today, k...  \n",
       "25  [anonymous, youre, number, damn, feel, like, g...  \n",
       "26  [apologize, advanced, cuss, lot, testing, one,...  \n",
       "27  [today, march, th, got, sick, lit, guess, clip...  "
      ]
     },
     "execution_count": 269,
     "metadata": {},
     "output_type": "execute_result"
    }
   ],
   "source": [
    "df_0"
   ]
  },
  {
   "cell_type": "code",
   "execution_count": 270,
   "metadata": {},
   "outputs": [],
   "source": [
    "def unique_words(l):\n",
    "    #creating list to store the unique words\n",
    "    uwords = []\n",
    "    # for loop to run each row in a dataset and append the result in uwords\n",
    "    [uwords.append(x) for x in l if x not in uwords]\n",
    "    return uwords\n",
    "def words(train):\n",
    "    u_words_train = []\n",
    "\n",
    "    #for loop to run for entire dataset\n",
    "    for i in range(0,len(train)):\n",
    "        #append the split words from unique_words function \n",
    "        u_words_train.append(unique_words(train[i]))\n",
    "    return u_words_train"
   ]
  },
  {
   "cell_type": "code",
   "execution_count": 111,
   "metadata": {},
   "outputs": [],
   "source": [
    "df_0['clean_Speech'] = words(df_0['clean_Speech'])\n"
   ]
  },
  {
   "cell_type": "code",
   "execution_count": 1,
   "metadata": {},
   "outputs": [
    {
     "ename": "NameError",
     "evalue": "name 'df_0' is not defined",
     "output_type": "error",
     "traceback": [
      "\u001b[1;31m---------------------------------------------------------------------------\u001b[0m",
      "\u001b[1;31mNameError\u001b[0m                                 Traceback (most recent call last)",
      "\u001b[1;32m<ipython-input-1-144e06026f4d>\u001b[0m in \u001b[0;36m<module>\u001b[1;34m\u001b[0m\n\u001b[1;32m----> 1\u001b[1;33m \u001b[0mdf_0\u001b[0m\u001b[1;33m[\u001b[0m\u001b[1;34m'Speech_sent'\u001b[0m\u001b[1;33m]\u001b[0m \u001b[1;33m=\u001b[0m \u001b[0mdf_0\u001b[0m\u001b[1;33m[\u001b[0m\u001b[1;34m'clean_Speech'\u001b[0m\u001b[1;33m]\u001b[0m\u001b[1;33m.\u001b[0m\u001b[0mapply\u001b[0m\u001b[1;33m(\u001b[0m\u001b[1;32mlambda\u001b[0m \u001b[0mx\u001b[0m\u001b[1;33m:\u001b[0m \u001b[1;34m'  '\u001b[0m\u001b[1;33m.\u001b[0m\u001b[0mjoin\u001b[0m\u001b[1;33m(\u001b[0m\u001b[0mx\u001b[0m\u001b[1;33m)\u001b[0m\u001b[1;33m)\u001b[0m\u001b[1;33m\u001b[0m\u001b[1;33m\u001b[0m\u001b[0m\n\u001b[0m",
      "\u001b[1;31mNameError\u001b[0m: name 'df_0' is not defined"
     ]
    }
   ],
   "source": [
    "df_0['Speech_sent'] = df_0['clean_Speech'].apply(lambda x: '  '.join(x))"
   ]
  },
  {
   "cell_type": "code",
   "execution_count": 272,
   "metadata": {},
   "outputs": [],
   "source": [
    "df_0 = df_0.drop(['Speech','clean_Speech'],axis=1)"
   ]
  },
  {
   "cell_type": "code",
   "execution_count": 273,
   "metadata": {},
   "outputs": [],
   "source": [
    "df_0.to_csv('Student_dataset.csv',index=False)"
   ]
  },
  {
   "cell_type": "markdown",
   "metadata": {},
   "source": [
    "#  Polarity Detection"
   ]
  },
  {
   "cell_type": "code",
   "execution_count": 274,
   "metadata": {},
   "outputs": [],
   "source": [
    "from textblob import TextBlob"
   ]
  },
  {
   "cell_type": "code",
   "execution_count": 275,
   "metadata": {},
   "outputs": [],
   "source": [
    "df_0['Polarity'] = df_0['Speech_sent'].apply(lambda x: TextBlob(x).sentiment[0])"
   ]
  },
  {
   "cell_type": "code",
   "execution_count": 276,
   "metadata": {},
   "outputs": [],
   "source": [
    "df_0['Sentiment'] = df_0['Polarity'].apply(lambda n: 1 if n >= 0.05 else (0 if n <= 0.05  else -1))"
   ]
  },
  {
   "cell_type": "code",
   "execution_count": 277,
   "metadata": {},
   "outputs": [],
   "source": [
    "df_0.to_csv('Polarity_Student.csv',index=False)"
   ]
  },
  {
   "cell_type": "code",
   "execution_count": 278,
   "metadata": {},
   "outputs": [],
   "source": [
    "df_0 = df_0.drop(['Polarity'],axis=1)"
   ]
  },
  {
   "cell_type": "code",
   "execution_count": 279,
   "metadata": {
    "scrolled": true
   },
   "outputs": [
    {
     "data": {
      "text/html": [
       "<div>\n",
       "<style scoped>\n",
       "    .dataframe tbody tr th:only-of-type {\n",
       "        vertical-align: middle;\n",
       "    }\n",
       "\n",
       "    .dataframe tbody tr th {\n",
       "        vertical-align: top;\n",
       "    }\n",
       "\n",
       "    .dataframe thead th {\n",
       "        text-align: right;\n",
       "    }\n",
       "</style>\n",
       "<table border=\"1\" class=\"dataframe\">\n",
       "  <thead>\n",
       "    <tr style=\"text-align: right;\">\n",
       "      <th></th>\n",
       "      <th>Speech_sent</th>\n",
       "      <th>Sentiment</th>\n",
       "    </tr>\n",
       "  </thead>\n",
       "  <tbody>\n",
       "    <tr>\n",
       "      <th>0</th>\n",
       "      <td>guess  sure  say  need  make  sure  dont  get ...</td>\n",
       "      <td>1</td>\n",
       "    </tr>\n",
       "    <tr>\n",
       "      <th>1</th>\n",
       "      <td>matter  go  right  going  say  put  right  goo...</td>\n",
       "      <td>1</td>\n",
       "    </tr>\n",
       "    <tr>\n",
       "      <th>2</th>\n",
       "      <td>right  user  need  choose  want  straight  one...</td>\n",
       "      <td>1</td>\n",
       "    </tr>\n",
       "    <tr>\n",
       "      <th>3</th>\n",
       "      <td>good  right  need  choose  either  one  menu  ...</td>\n",
       "      <td>1</td>\n",
       "    </tr>\n",
       "    <tr>\n",
       "      <th>4</th>\n",
       "      <td>didnt  realize  loud  ncc  tournament  going  ...</td>\n",
       "      <td>0</td>\n",
       "    </tr>\n",
       "    <tr>\n",
       "      <th>5</th>\n",
       "      <td>put  shirt  bro  put  shirt  yo  go  like  god...</td>\n",
       "      <td>1</td>\n",
       "    </tr>\n",
       "    <tr>\n",
       "      <th>6</th>\n",
       "      <td>recently  found  okay  thats  work  right  im ...</td>\n",
       "      <td>1</td>\n",
       "    </tr>\n",
       "    <tr>\n",
       "      <th>7</th>\n",
       "      <td>dude  idea  im  great  think  know  talking  s...</td>\n",
       "      <td>1</td>\n",
       "    </tr>\n",
       "    <tr>\n",
       "      <th>8</th>\n",
       "      <td>th  max  basically  go  number  bigger  doesnt...</td>\n",
       "      <td>1</td>\n",
       "    </tr>\n",
       "    <tr>\n",
       "      <th>9</th>\n",
       "      <td>right  average  average  right  think  underst...</td>\n",
       "      <td>1</td>\n",
       "    </tr>\n",
       "    <tr>\n",
       "      <th>10</th>\n",
       "      <td>thats  good  one  open  ah  know  right  sorry...</td>\n",
       "      <td>0</td>\n",
       "    </tr>\n",
       "    <tr>\n",
       "      <th>11</th>\n",
       "      <td>checking  work  open  open  keep  putting  pre...</td>\n",
       "      <td>1</td>\n",
       "    </tr>\n",
       "    <tr>\n",
       "      <th>12</th>\n",
       "      <td>march  okay  team  group  perfect  thank  okay...</td>\n",
       "      <td>1</td>\n",
       "    </tr>\n",
       "    <tr>\n",
       "      <th>13</th>\n",
       "      <td>okay  say  draw  flow  chart  doesnt  say  sub...</td>\n",
       "      <td>1</td>\n",
       "    </tr>\n",
       "    <tr>\n",
       "      <th>14</th>\n",
       "      <td>plus  people  like  invoke  method  say  right...</td>\n",
       "      <td>1</td>\n",
       "    </tr>\n",
       "    <tr>\n",
       "      <th>15</th>\n",
       "      <td>imagine  must  difficult  anyways  yall  good ...</td>\n",
       "      <td>1</td>\n",
       "    </tr>\n",
       "    <tr>\n",
       "      <th>16</th>\n",
       "      <td>think  recording  anything  want  say  teacher...</td>\n",
       "      <td>0</td>\n",
       "    </tr>\n",
       "    <tr>\n",
       "      <th>17</th>\n",
       "      <td>god  god  actually  ridiculous  boy  public  s...</td>\n",
       "      <td>0</td>\n",
       "    </tr>\n",
       "    <tr>\n",
       "      <th>18</th>\n",
       "      <td>yes  okay  okay  activity  sum  activity  writ...</td>\n",
       "      <td>1</td>\n",
       "    </tr>\n",
       "    <tr>\n",
       "      <th>19</th>\n",
       "      <td>marco  let  try  function  first  could  input...</td>\n",
       "      <td>1</td>\n",
       "    </tr>\n",
       "    <tr>\n",
       "      <th>20</th>\n",
       "      <td>working  im  trying  figure  use  method  thin...</td>\n",
       "      <td>1</td>\n",
       "    </tr>\n",
       "    <tr>\n",
       "      <th>21</th>\n",
       "      <td>working  thats  pretty  confusing  wouldnt  us...</td>\n",
       "      <td>1</td>\n",
       "    </tr>\n",
       "    <tr>\n",
       "      <th>22</th>\n",
       "      <td>thank  like  going  playing  around  method  d...</td>\n",
       "      <td>1</td>\n",
       "    </tr>\n",
       "    <tr>\n",
       "      <th>23</th>\n",
       "      <td>finish  today  call  hows  looking  aw  dude  ...</td>\n",
       "      <td>1</td>\n",
       "    </tr>\n",
       "    <tr>\n",
       "      <th>24</th>\n",
       "      <td>richard  number  im  going  integer  today  ke...</td>\n",
       "      <td>0</td>\n",
       "    </tr>\n",
       "    <tr>\n",
       "      <th>25</th>\n",
       "      <td>anonymous  youre  number  damn  feel  like  go...</td>\n",
       "      <td>0</td>\n",
       "    </tr>\n",
       "    <tr>\n",
       "      <th>26</th>\n",
       "      <td>apologize  advanced  cuss  lot  testing  one  ...</td>\n",
       "      <td>1</td>\n",
       "    </tr>\n",
       "    <tr>\n",
       "      <th>27</th>\n",
       "      <td>today  march  th  got  sick  lit  guess  clipp...</td>\n",
       "      <td>1</td>\n",
       "    </tr>\n",
       "  </tbody>\n",
       "</table>\n",
       "</div>"
      ],
      "text/plain": [
       "                                          Speech_sent  Sentiment\n",
       "0   guess  sure  say  need  make  sure  dont  get ...          1\n",
       "1   matter  go  right  going  say  put  right  goo...          1\n",
       "2   right  user  need  choose  want  straight  one...          1\n",
       "3   good  right  need  choose  either  one  menu  ...          1\n",
       "4   didnt  realize  loud  ncc  tournament  going  ...          0\n",
       "5   put  shirt  bro  put  shirt  yo  go  like  god...          1\n",
       "6   recently  found  okay  thats  work  right  im ...          1\n",
       "7   dude  idea  im  great  think  know  talking  s...          1\n",
       "8   th  max  basically  go  number  bigger  doesnt...          1\n",
       "9   right  average  average  right  think  underst...          1\n",
       "10  thats  good  one  open  ah  know  right  sorry...          0\n",
       "11  checking  work  open  open  keep  putting  pre...          1\n",
       "12  march  okay  team  group  perfect  thank  okay...          1\n",
       "13  okay  say  draw  flow  chart  doesnt  say  sub...          1\n",
       "14  plus  people  like  invoke  method  say  right...          1\n",
       "15  imagine  must  difficult  anyways  yall  good ...          1\n",
       "16  think  recording  anything  want  say  teacher...          0\n",
       "17  god  god  actually  ridiculous  boy  public  s...          0\n",
       "18  yes  okay  okay  activity  sum  activity  writ...          1\n",
       "19  marco  let  try  function  first  could  input...          1\n",
       "20  working  im  trying  figure  use  method  thin...          1\n",
       "21  working  thats  pretty  confusing  wouldnt  us...          1\n",
       "22  thank  like  going  playing  around  method  d...          1\n",
       "23  finish  today  call  hows  looking  aw  dude  ...          1\n",
       "24  richard  number  im  going  integer  today  ke...          0\n",
       "25  anonymous  youre  number  damn  feel  like  go...          0\n",
       "26  apologize  advanced  cuss  lot  testing  one  ...          1\n",
       "27  today  march  th  got  sick  lit  guess  clipp...          1"
      ]
     },
     "execution_count": 279,
     "metadata": {},
     "output_type": "execute_result"
    }
   ],
   "source": [
    "df_0"
   ]
  },
  {
   "cell_type": "markdown",
   "metadata": {},
   "source": [
    "#                Multi-Class Emotion Analysis for each student"
   ]
  },
  {
   "cell_type": "code",
   "execution_count": 280,
   "metadata": {},
   "outputs": [],
   "source": [
    "import text2emotion as te\n",
    "def text_2_emotions(text):\n",
    "    result = te.get_emotion(text)\n",
    "    return result"
   ]
  },
  {
   "cell_type": "code",
   "execution_count": 281,
   "metadata": {},
   "outputs": [],
   "source": [
    "res = [text_2_emotions(df_0['Speech_sent'][asp]) for asp in range(len(df_0))]"
   ]
  },
  {
   "cell_type": "code",
   "execution_count": 282,
   "metadata": {},
   "outputs": [],
   "source": [
    "df_0['emotions'] = res"
   ]
  },
  {
   "cell_type": "code",
   "execution_count": 283,
   "metadata": {},
   "outputs": [
    {
     "data": {
      "text/plain": [
       "{'Happy': 0.05, 'Angry': 0.03, 'Surprise': 0.27, 'Sad': 0.2, 'Fear': 0.45}"
      ]
     },
     "execution_count": 283,
     "metadata": {},
     "output_type": "execute_result"
    }
   ],
   "source": [
    "df_0['emotions'][27]"
   ]
  },
  {
   "cell_type": "code",
   "execution_count": 284,
   "metadata": {},
   "outputs": [],
   "source": [
    "df_0.to_csv('student_emotions_modified.csv',index=False)"
   ]
  },
  {
   "cell_type": "code",
   "execution_count": 285,
   "metadata": {},
   "outputs": [],
   "source": [
    "import text2emotion as te\n",
    "import numpy as np\n",
    "def text_2_emotions(text):\n",
    "    r = []\n",
    "    result = te.get_emotion(text)\n",
    "    for k,v in result.items(): \n",
    "        if result[k] != 0.0:\n",
    "            r.append(max(result, key=result.get))\n",
    "    return np.unique(r)"
   ]
  },
  {
   "cell_type": "code",
   "execution_count": 286,
   "metadata": {},
   "outputs": [],
   "source": [
    "res = [text_2_emotions(df_0['Speech_sent'][asp]) for asp in range(len(df_0))]"
   ]
  },
  {
   "cell_type": "code",
   "execution_count": 287,
   "metadata": {},
   "outputs": [
    {
     "data": {
      "text/html": [
       "<div>\n",
       "<style scoped>\n",
       "    .dataframe tbody tr th:only-of-type {\n",
       "        vertical-align: middle;\n",
       "    }\n",
       "\n",
       "    .dataframe tbody tr th {\n",
       "        vertical-align: top;\n",
       "    }\n",
       "\n",
       "    .dataframe thead th {\n",
       "        text-align: right;\n",
       "    }\n",
       "</style>\n",
       "<table border=\"1\" class=\"dataframe\">\n",
       "  <thead>\n",
       "    <tr style=\"text-align: right;\">\n",
       "      <th></th>\n",
       "      <th>Speech_sent</th>\n",
       "      <th>Sentiment</th>\n",
       "      <th>emotions</th>\n",
       "      <th>M_emotions</th>\n",
       "    </tr>\n",
       "  </thead>\n",
       "  <tbody>\n",
       "    <tr>\n",
       "      <th>0</th>\n",
       "      <td>guess  sure  say  need  make  sure  dont  get ...</td>\n",
       "      <td>1</td>\n",
       "      <td>{'Happy': 0.06, 'Angry': 0.03, 'Surprise': 0.2...</td>\n",
       "      <td>[Fear]</td>\n",
       "    </tr>\n",
       "    <tr>\n",
       "      <th>1</th>\n",
       "      <td>matter  go  right  going  say  put  right  goo...</td>\n",
       "      <td>1</td>\n",
       "      <td>{'Happy': 0.08, 'Angry': 0.03, 'Surprise': 0.3...</td>\n",
       "      <td>[Fear]</td>\n",
       "    </tr>\n",
       "    <tr>\n",
       "      <th>2</th>\n",
       "      <td>right  user  need  choose  want  straight  one...</td>\n",
       "      <td>1</td>\n",
       "      <td>{'Happy': 0.04, 'Angry': 0.02, 'Surprise': 0.2...</td>\n",
       "      <td>[Fear]</td>\n",
       "    </tr>\n",
       "    <tr>\n",
       "      <th>3</th>\n",
       "      <td>good  right  need  choose  either  one  menu  ...</td>\n",
       "      <td>1</td>\n",
       "      <td>{'Happy': 0.07, 'Angry': 0.03, 'Surprise': 0.2...</td>\n",
       "      <td>[Fear]</td>\n",
       "    </tr>\n",
       "    <tr>\n",
       "      <th>4</th>\n",
       "      <td>didnt  realize  loud  ncc  tournament  going  ...</td>\n",
       "      <td>0</td>\n",
       "      <td>{'Happy': 0.1, 'Angry': 0.06, 'Surprise': 0.32...</td>\n",
       "      <td>[Fear]</td>\n",
       "    </tr>\n",
       "    <tr>\n",
       "      <th>5</th>\n",
       "      <td>put  shirt  bro  put  shirt  yo  go  like  god...</td>\n",
       "      <td>1</td>\n",
       "      <td>{'Happy': 0.08, 'Angry': 0.04, 'Surprise': 0.3...</td>\n",
       "      <td>[Fear]</td>\n",
       "    </tr>\n",
       "    <tr>\n",
       "      <th>6</th>\n",
       "      <td>recently  found  okay  thats  work  right  im ...</td>\n",
       "      <td>1</td>\n",
       "      <td>{'Happy': 0.07, 'Angry': 0.02, 'Surprise': 0.2...</td>\n",
       "      <td>[Fear]</td>\n",
       "    </tr>\n",
       "    <tr>\n",
       "      <th>7</th>\n",
       "      <td>dude  idea  im  great  think  know  talking  s...</td>\n",
       "      <td>1</td>\n",
       "      <td>{'Happy': 0.06, 'Angry': 0.04, 'Surprise': 0.2...</td>\n",
       "      <td>[Fear]</td>\n",
       "    </tr>\n",
       "    <tr>\n",
       "      <th>8</th>\n",
       "      <td>th  max  basically  go  number  bigger  doesnt...</td>\n",
       "      <td>1</td>\n",
       "      <td>{'Happy': 0.02, 'Angry': 0.03, 'Surprise': 0.2...</td>\n",
       "      <td>[Fear]</td>\n",
       "    </tr>\n",
       "    <tr>\n",
       "      <th>9</th>\n",
       "      <td>right  average  average  right  think  underst...</td>\n",
       "      <td>1</td>\n",
       "      <td>{'Happy': 0.05, 'Angry': 0.03, 'Surprise': 0.3...</td>\n",
       "      <td>[Fear]</td>\n",
       "    </tr>\n",
       "    <tr>\n",
       "      <th>10</th>\n",
       "      <td>thats  good  one  open  ah  know  right  sorry...</td>\n",
       "      <td>0</td>\n",
       "      <td>{'Happy': 0.03, 'Angry': 0.05, 'Surprise': 0.2...</td>\n",
       "      <td>[Fear]</td>\n",
       "    </tr>\n",
       "    <tr>\n",
       "      <th>11</th>\n",
       "      <td>checking  work  open  open  keep  putting  pre...</td>\n",
       "      <td>1</td>\n",
       "      <td>{'Happy': 0.06, 'Angry': 0.04, 'Surprise': 0.2...</td>\n",
       "      <td>[Fear]</td>\n",
       "    </tr>\n",
       "    <tr>\n",
       "      <th>12</th>\n",
       "      <td>march  okay  team  group  perfect  thank  okay...</td>\n",
       "      <td>1</td>\n",
       "      <td>{'Happy': 0.01, 'Angry': 0.06, 'Surprise': 0.3...</td>\n",
       "      <td>[Surprise]</td>\n",
       "    </tr>\n",
       "    <tr>\n",
       "      <th>13</th>\n",
       "      <td>okay  say  draw  flow  chart  doesnt  say  sub...</td>\n",
       "      <td>1</td>\n",
       "      <td>{'Happy': 0.04, 'Angry': 0.05, 'Surprise': 0.2...</td>\n",
       "      <td>[Fear]</td>\n",
       "    </tr>\n",
       "    <tr>\n",
       "      <th>14</th>\n",
       "      <td>plus  people  like  invoke  method  say  right...</td>\n",
       "      <td>1</td>\n",
       "      <td>{'Happy': 0.06, 'Angry': 0.03, 'Surprise': 0.2...</td>\n",
       "      <td>[Fear]</td>\n",
       "    </tr>\n",
       "    <tr>\n",
       "      <th>15</th>\n",
       "      <td>imagine  must  difficult  anyways  yall  good ...</td>\n",
       "      <td>1</td>\n",
       "      <td>{'Happy': 0.05, 'Angry': 0.02, 'Surprise': 0.2...</td>\n",
       "      <td>[Fear]</td>\n",
       "    </tr>\n",
       "    <tr>\n",
       "      <th>16</th>\n",
       "      <td>think  recording  anything  want  say  teacher...</td>\n",
       "      <td>0</td>\n",
       "      <td>{'Happy': 0.08, 'Angry': 0.05, 'Surprise': 0.2...</td>\n",
       "      <td>[Fear]</td>\n",
       "    </tr>\n",
       "    <tr>\n",
       "      <th>17</th>\n",
       "      <td>god  god  actually  ridiculous  boy  public  s...</td>\n",
       "      <td>0</td>\n",
       "      <td>{'Happy': 0.11, 'Angry': 0.04, 'Surprise': 0.2...</td>\n",
       "      <td>[Fear]</td>\n",
       "    </tr>\n",
       "    <tr>\n",
       "      <th>18</th>\n",
       "      <td>yes  okay  okay  activity  sum  activity  writ...</td>\n",
       "      <td>1</td>\n",
       "      <td>{'Happy': 0.07, 'Angry': 0.03, 'Surprise': 0.2...</td>\n",
       "      <td>[Fear]</td>\n",
       "    </tr>\n",
       "    <tr>\n",
       "      <th>19</th>\n",
       "      <td>marco  let  try  function  first  could  input...</td>\n",
       "      <td>1</td>\n",
       "      <td>{'Happy': 0.13, 'Angry': 0.04, 'Surprise': 0.2...</td>\n",
       "      <td>[Fear]</td>\n",
       "    </tr>\n",
       "    <tr>\n",
       "      <th>20</th>\n",
       "      <td>working  im  trying  figure  use  method  thin...</td>\n",
       "      <td>1</td>\n",
       "      <td>{'Happy': 0.03, 'Angry': 0.04, 'Surprise': 0.3...</td>\n",
       "      <td>[Fear]</td>\n",
       "    </tr>\n",
       "    <tr>\n",
       "      <th>21</th>\n",
       "      <td>working  thats  pretty  confusing  wouldnt  us...</td>\n",
       "      <td>1</td>\n",
       "      <td>{'Happy': 0.08, 'Angry': 0.06, 'Surprise': 0.3...</td>\n",
       "      <td>[Fear]</td>\n",
       "    </tr>\n",
       "    <tr>\n",
       "      <th>22</th>\n",
       "      <td>thank  like  going  playing  around  method  d...</td>\n",
       "      <td>1</td>\n",
       "      <td>{'Happy': 0.07, 'Angry': 0.04, 'Surprise': 0.2...</td>\n",
       "      <td>[Fear]</td>\n",
       "    </tr>\n",
       "    <tr>\n",
       "      <th>23</th>\n",
       "      <td>finish  today  call  hows  looking  aw  dude  ...</td>\n",
       "      <td>1</td>\n",
       "      <td>{'Happy': 0.06, 'Angry': 0.05, 'Surprise': 0.2...</td>\n",
       "      <td>[Fear]</td>\n",
       "    </tr>\n",
       "    <tr>\n",
       "      <th>24</th>\n",
       "      <td>richard  number  im  going  integer  today  ke...</td>\n",
       "      <td>0</td>\n",
       "      <td>{'Happy': 0.1, 'Angry': 0.05, 'Surprise': 0.27...</td>\n",
       "      <td>[Fear]</td>\n",
       "    </tr>\n",
       "    <tr>\n",
       "      <th>25</th>\n",
       "      <td>anonymous  youre  number  damn  feel  like  go...</td>\n",
       "      <td>0</td>\n",
       "      <td>{'Happy': 0.1, 'Angry': 0.03, 'Surprise': 0.31...</td>\n",
       "      <td>[Fear]</td>\n",
       "    </tr>\n",
       "    <tr>\n",
       "      <th>26</th>\n",
       "      <td>apologize  advanced  cuss  lot  testing  one  ...</td>\n",
       "      <td>1</td>\n",
       "      <td>{'Happy': 0.07, 'Angry': 0.04, 'Surprise': 0.2...</td>\n",
       "      <td>[Fear]</td>\n",
       "    </tr>\n",
       "    <tr>\n",
       "      <th>27</th>\n",
       "      <td>today  march  th  got  sick  lit  guess  clipp...</td>\n",
       "      <td>1</td>\n",
       "      <td>{'Happy': 0.05, 'Angry': 0.03, 'Surprise': 0.2...</td>\n",
       "      <td>[Fear]</td>\n",
       "    </tr>\n",
       "  </tbody>\n",
       "</table>\n",
       "</div>"
      ],
      "text/plain": [
       "                                          Speech_sent  Sentiment  \\\n",
       "0   guess  sure  say  need  make  sure  dont  get ...          1   \n",
       "1   matter  go  right  going  say  put  right  goo...          1   \n",
       "2   right  user  need  choose  want  straight  one...          1   \n",
       "3   good  right  need  choose  either  one  menu  ...          1   \n",
       "4   didnt  realize  loud  ncc  tournament  going  ...          0   \n",
       "5   put  shirt  bro  put  shirt  yo  go  like  god...          1   \n",
       "6   recently  found  okay  thats  work  right  im ...          1   \n",
       "7   dude  idea  im  great  think  know  talking  s...          1   \n",
       "8   th  max  basically  go  number  bigger  doesnt...          1   \n",
       "9   right  average  average  right  think  underst...          1   \n",
       "10  thats  good  one  open  ah  know  right  sorry...          0   \n",
       "11  checking  work  open  open  keep  putting  pre...          1   \n",
       "12  march  okay  team  group  perfect  thank  okay...          1   \n",
       "13  okay  say  draw  flow  chart  doesnt  say  sub...          1   \n",
       "14  plus  people  like  invoke  method  say  right...          1   \n",
       "15  imagine  must  difficult  anyways  yall  good ...          1   \n",
       "16  think  recording  anything  want  say  teacher...          0   \n",
       "17  god  god  actually  ridiculous  boy  public  s...          0   \n",
       "18  yes  okay  okay  activity  sum  activity  writ...          1   \n",
       "19  marco  let  try  function  first  could  input...          1   \n",
       "20  working  im  trying  figure  use  method  thin...          1   \n",
       "21  working  thats  pretty  confusing  wouldnt  us...          1   \n",
       "22  thank  like  going  playing  around  method  d...          1   \n",
       "23  finish  today  call  hows  looking  aw  dude  ...          1   \n",
       "24  richard  number  im  going  integer  today  ke...          0   \n",
       "25  anonymous  youre  number  damn  feel  like  go...          0   \n",
       "26  apologize  advanced  cuss  lot  testing  one  ...          1   \n",
       "27  today  march  th  got  sick  lit  guess  clipp...          1   \n",
       "\n",
       "                                             emotions  M_emotions  \n",
       "0   {'Happy': 0.06, 'Angry': 0.03, 'Surprise': 0.2...      [Fear]  \n",
       "1   {'Happy': 0.08, 'Angry': 0.03, 'Surprise': 0.3...      [Fear]  \n",
       "2   {'Happy': 0.04, 'Angry': 0.02, 'Surprise': 0.2...      [Fear]  \n",
       "3   {'Happy': 0.07, 'Angry': 0.03, 'Surprise': 0.2...      [Fear]  \n",
       "4   {'Happy': 0.1, 'Angry': 0.06, 'Surprise': 0.32...      [Fear]  \n",
       "5   {'Happy': 0.08, 'Angry': 0.04, 'Surprise': 0.3...      [Fear]  \n",
       "6   {'Happy': 0.07, 'Angry': 0.02, 'Surprise': 0.2...      [Fear]  \n",
       "7   {'Happy': 0.06, 'Angry': 0.04, 'Surprise': 0.2...      [Fear]  \n",
       "8   {'Happy': 0.02, 'Angry': 0.03, 'Surprise': 0.2...      [Fear]  \n",
       "9   {'Happy': 0.05, 'Angry': 0.03, 'Surprise': 0.3...      [Fear]  \n",
       "10  {'Happy': 0.03, 'Angry': 0.05, 'Surprise': 0.2...      [Fear]  \n",
       "11  {'Happy': 0.06, 'Angry': 0.04, 'Surprise': 0.2...      [Fear]  \n",
       "12  {'Happy': 0.01, 'Angry': 0.06, 'Surprise': 0.3...  [Surprise]  \n",
       "13  {'Happy': 0.04, 'Angry': 0.05, 'Surprise': 0.2...      [Fear]  \n",
       "14  {'Happy': 0.06, 'Angry': 0.03, 'Surprise': 0.2...      [Fear]  \n",
       "15  {'Happy': 0.05, 'Angry': 0.02, 'Surprise': 0.2...      [Fear]  \n",
       "16  {'Happy': 0.08, 'Angry': 0.05, 'Surprise': 0.2...      [Fear]  \n",
       "17  {'Happy': 0.11, 'Angry': 0.04, 'Surprise': 0.2...      [Fear]  \n",
       "18  {'Happy': 0.07, 'Angry': 0.03, 'Surprise': 0.2...      [Fear]  \n",
       "19  {'Happy': 0.13, 'Angry': 0.04, 'Surprise': 0.2...      [Fear]  \n",
       "20  {'Happy': 0.03, 'Angry': 0.04, 'Surprise': 0.3...      [Fear]  \n",
       "21  {'Happy': 0.08, 'Angry': 0.06, 'Surprise': 0.3...      [Fear]  \n",
       "22  {'Happy': 0.07, 'Angry': 0.04, 'Surprise': 0.2...      [Fear]  \n",
       "23  {'Happy': 0.06, 'Angry': 0.05, 'Surprise': 0.2...      [Fear]  \n",
       "24  {'Happy': 0.1, 'Angry': 0.05, 'Surprise': 0.27...      [Fear]  \n",
       "25  {'Happy': 0.1, 'Angry': 0.03, 'Surprise': 0.31...      [Fear]  \n",
       "26  {'Happy': 0.07, 'Angry': 0.04, 'Surprise': 0.2...      [Fear]  \n",
       "27  {'Happy': 0.05, 'Angry': 0.03, 'Surprise': 0.2...      [Fear]  "
      ]
     },
     "execution_count": 287,
     "metadata": {},
     "output_type": "execute_result"
    }
   ],
   "source": [
    "df_0['M_emotions'] = res\n",
    "df_0"
   ]
  },
  {
   "cell_type": "code",
   "execution_count": 288,
   "metadata": {},
   "outputs": [],
   "source": [
    "df_0.to_csv('student_emotions.csv')"
   ]
  },
  {
   "cell_type": "code",
   "execution_count": 13,
   "metadata": {},
   "outputs": [],
   "source": [
    "import pandas as pd\n",
    "from textblob import TextBlob\n",
    "namess= ['Speech']\n",
    "df = pd.read_csv('ID 2 - Complete.csv',header = None, names= namess)"
   ]
  },
  {
   "cell_type": "code",
   "execution_count": 142,
   "metadata": {},
   "outputs": [],
   "source": [
    "import string\n",
    "#converting the reviews to lowercase\n",
    "df1['Speech'] = df1['Speech'].apply(str.lower)\n",
    "df1['Speech'] = df1['Speech'].str.replace('[{}]'.format(string.punctuation), '')\n",
    "df1['Speech'] = df1['Speech'].str.replace('[{}]'.format(string.digits), '')"
   ]
  },
  {
   "cell_type": "code",
   "execution_count": 143,
   "metadata": {},
   "outputs": [
    {
     "name": "stderr",
     "output_type": "stream",
     "text": [
      "[nltk_data] Downloading package stopwords to\n",
      "[nltk_data]     C:\\Users\\divya\\AppData\\Roaming\\nltk_data...\n",
      "[nltk_data]   Package stopwords is already up-to-date!\n",
      "[nltk_data] Downloading package wordnet to\n",
      "[nltk_data]     C:\\Users\\divya\\AppData\\Roaming\\nltk_data...\n",
      "[nltk_data]   Package wordnet is already up-to-date!\n"
     ]
    }
   ],
   "source": [
    "from collections import Counter\n",
    "from nltk.corpus import stopwords\n",
    "import nltk\n",
    "rem = ['hoel','crosstalk','inaudible','affirmative']\n",
    "#Word Tokenize the reviews\n",
    "df1['clean_Speech'] = df1.apply(lambda row: nltk.word_tokenize(row['Speech']), axis=1)\n",
    "  \n",
    "#Convert the tokens into lowercase\n",
    "df1['clean_Speech'] = df1.apply(lambda row: [t.lower() for t in row['clean_Speech']], axis=1)\n",
    "    \n",
    "#Retain only alphabetic_words\n",
    "df1['clean_Speech'] = df1.apply(lambda row: [t for t in row['clean_Speech'] if t.isalpha()], axis=1)    \n",
    "    \n",
    "#Remove all stop words\n",
    "nltk.download('stopwords')\n",
    "df1['clean_Speech'] = df1.apply(lambda row: [t for t in row['clean_Speech'] if t not in stopwords.words('english')], axis=1) \n",
    "df1['clean_Speech'] = df1.apply(lambda row: [t for t in row['clean_Speech'] if t not in rem], axis=1)\n",
    "    \n",
    "#Instantiate the WordNetLemmatizer\n",
    "from nltk import WordNetLemmatizer\n",
    "lemmatizer = WordNetLemmatizer()\n",
    "# stripping suffixes such as ‘ed’, ‘ing’, ‘tion’ etc. Ex. stemming ‘walked’ returns walk.  \n",
    "nltk.download('wordnet')\n",
    "df1['clean_Speech'] = df1.apply(lambda row: [lemmatizer.lemmatize(t) for t in row['clean_Speech']], axis=1)\n",
    "df1['Pos_Tag'] = df1.apply(lambda row: nltk.pos_tag(row['clean_Speech']), axis=1)"
   ]
  },
  {
   "cell_type": "code",
   "execution_count": 144,
   "metadata": {},
   "outputs": [],
   "source": [
    "df1['Speech_sent'] = df1['clean_Speech'].apply(lambda x: '  '.join(x))"
   ]
  },
  {
   "cell_type": "code",
   "execution_count": 145,
   "metadata": {},
   "outputs": [],
   "source": [
    "df1 = df1.drop(['clean_Speech','Speech'],axis=1)"
   ]
  },
  {
   "cell_type": "code",
   "execution_count": 87,
   "metadata": {},
   "outputs": [],
   "source": [
    "df_0['Polarity'] = df_0['Speech'].apply(lambda x: TextBlob(x).sentiment[0])"
   ]
  },
  {
   "cell_type": "code",
   "execution_count": 88,
   "metadata": {},
   "outputs": [],
   "source": [
    "df_0['Sentiment'] = df_0['Polarity'].apply(lambda n: 1 if n > 0.05 else (0 if n < -0.05  else -1))"
   ]
  },
  {
   "cell_type": "code",
   "execution_count": 89,
   "metadata": {},
   "outputs": [],
   "source": [
    "import text2emotion as te\n",
    "def text_2_emotions(text):\n",
    "    result = te.get_emotion(text)\n",
    "    return result"
   ]
  },
  {
   "cell_type": "code",
   "execution_count": 90,
   "metadata": {},
   "outputs": [],
   "source": [
    "res = [text_2_emotions(df_0['Speech'][asp]) for asp in range(len(df_0))]"
   ]
  },
  {
   "cell_type": "code",
   "execution_count": 94,
   "metadata": {},
   "outputs": [],
   "source": [
    "df_0['multi_Emotion'] = res"
   ]
  },
  {
   "cell_type": "code",
   "execution_count": 95,
   "metadata": {},
   "outputs": [],
   "source": [
    "import numpy as np\n",
    "def text_2_emotions(text):\n",
    "    r = []\n",
    "    result = te.get_emotion(text)\n",
    "    for k,v in result.items(): \n",
    "        if result[k] != 0.0:\n",
    "            r.append(max(result, key=result.get))\n",
    "    return np.unique(r)"
   ]
  },
  {
   "cell_type": "code",
   "execution_count": 96,
   "metadata": {},
   "outputs": [],
   "source": [
    "res1 = [text_2_emotions(df_0['Speech'][asp]) for asp in range(len(df_0))]"
   ]
  },
  {
   "cell_type": "code",
   "execution_count": 97,
   "metadata": {},
   "outputs": [],
   "source": [
    "df_0['Emotion'] = res1"
   ]
  },
  {
   "cell_type": "code",
   "execution_count": 98,
   "metadata": {},
   "outputs": [
    {
     "data": {
      "text/html": [
       "<div>\n",
       "<style scoped>\n",
       "    .dataframe tbody tr th:only-of-type {\n",
       "        vertical-align: middle;\n",
       "    }\n",
       "\n",
       "    .dataframe tbody tr th {\n",
       "        vertical-align: top;\n",
       "    }\n",
       "\n",
       "    .dataframe thead th {\n",
       "        text-align: right;\n",
       "    }\n",
       "</style>\n",
       "<table border=\"1\" class=\"dataframe\">\n",
       "  <thead>\n",
       "    <tr style=\"text-align: right;\">\n",
       "      <th></th>\n",
       "      <th>Speech</th>\n",
       "      <th>Polarity</th>\n",
       "      <th>Sentiment</th>\n",
       "      <th>multi_Emotion</th>\n",
       "      <th>Emotion</th>\n",
       "    </tr>\n",
       "  </thead>\n",
       "  <tbody>\n",
       "    <tr>\n",
       "      <th>0</th>\n",
       "      <td>I guess. Yeah. Sure. Yeah. Just say you do. Ju...</td>\n",
       "      <td>0.132065</td>\n",
       "      <td>1</td>\n",
       "      <td>{'Happy': 0.06, 'Angry': 0.03, 'Surprise': 0.2...</td>\n",
       "      <td>[Fear]</td>\n",
       "    </tr>\n",
       "    <tr>\n",
       "      <th>1</th>\n",
       "      <td>Does it matter where it goes? All right. Becau...</td>\n",
       "      <td>0.111017</td>\n",
       "      <td>1</td>\n",
       "      <td>{'Happy': 0.07, 'Angry': 0.04, 'Surprise': 0.2...</td>\n",
       "      <td>[Fear]</td>\n",
       "    </tr>\n",
       "    <tr>\n",
       "      <th>2</th>\n",
       "      <td>All right, so then the user needs to choose th...</td>\n",
       "      <td>0.185642</td>\n",
       "      <td>1</td>\n",
       "      <td>{'Happy': 0.04, 'Angry': 0.03, 'Surprise': 0.2...</td>\n",
       "      <td>[Fear]</td>\n",
       "    </tr>\n",
       "    <tr>\n",
       "      <th>3</th>\n",
       "      <td>That should be good, all right. So they need t...</td>\n",
       "      <td>0.179767</td>\n",
       "      <td>1</td>\n",
       "      <td>{'Happy': 0.07, 'Angry': 0.04, 'Surprise': 0.2...</td>\n",
       "      <td>[Fear]</td>\n",
       "    </tr>\n",
       "    <tr>\n",
       "      <th>4</th>\n",
       "      <td>I didn't realize how loud was.  [inaudible 00:...</td>\n",
       "      <td>0.001343</td>\n",
       "      <td>-1</td>\n",
       "      <td>{'Happy': 0.09, 'Angry': 0.06, 'Surprise': 0.3...</td>\n",
       "      <td>[Fear]</td>\n",
       "    </tr>\n",
       "    <tr>\n",
       "      <th>5</th>\n",
       "      <td>[inaudible 00:00:06] Put it on your shirt, bro...</td>\n",
       "      <td>0.120812</td>\n",
       "      <td>1</td>\n",
       "      <td>{'Happy': 0.07, 'Angry': 0.04, 'Surprise': 0.2...</td>\n",
       "      <td>[Fear]</td>\n",
       "    </tr>\n",
       "    <tr>\n",
       "      <th>6</th>\n",
       "      <td>I recently found out [crosstalk 00:00:20] Okay...</td>\n",
       "      <td>0.158519</td>\n",
       "      <td>1</td>\n",
       "      <td>{'Happy': 0.07, 'Angry': 0.04, 'Surprise': 0.2...</td>\n",
       "      <td>[Fear]</td>\n",
       "    </tr>\n",
       "    <tr>\n",
       "      <th>7</th>\n",
       "      <td>Yeah, just [crosstalk 00:00:00]. Mm-hmm (affir...</td>\n",
       "      <td>0.100774</td>\n",
       "      <td>1</td>\n",
       "      <td>{'Happy': 0.06, 'Angry': 0.05, 'Surprise': 0.2...</td>\n",
       "      <td>[Fear]</td>\n",
       "    </tr>\n",
       "    <tr>\n",
       "      <th>8</th>\n",
       "      <td>28th. 11  Max [inaudible 00:00:23].  That bas...</td>\n",
       "      <td>0.124810</td>\n",
       "      <td>1</td>\n",
       "      <td>{'Happy': 0.02, 'Angry': 0.03, 'Surprise': 0.2...</td>\n",
       "      <td>[Fear]</td>\n",
       "    </tr>\n",
       "    <tr>\n",
       "      <th>9</th>\n",
       "      <td>12 All right, on the average. What did they av...</td>\n",
       "      <td>0.113540</td>\n",
       "      <td>1</td>\n",
       "      <td>{'Happy': 0.05, 'Angry': 0.04, 'Surprise': 0.2...</td>\n",
       "      <td>[Fear]</td>\n",
       "    </tr>\n",
       "    <tr>\n",
       "      <th>10</th>\n",
       "      <td>That's good. Does this one open? Ah. I know, r...</td>\n",
       "      <td>0.048838</td>\n",
       "      <td>-1</td>\n",
       "      <td>{'Happy': 0.03, 'Angry': 0.06, 'Surprise': 0.2...</td>\n",
       "      <td>[Fear]</td>\n",
       "    </tr>\n",
       "    <tr>\n",
       "      <th>11</th>\n",
       "      <td>14 Just checking if it works. Yeah, it opens, ...</td>\n",
       "      <td>0.159224</td>\n",
       "      <td>1</td>\n",
       "      <td>{'Happy': 0.06, 'Angry': 0.05, 'Surprise': 0.2...</td>\n",
       "      <td>[Fear]</td>\n",
       "    </tr>\n",
       "    <tr>\n",
       "      <th>12</th>\n",
       "      <td>Yeah, March 14. Okay. And you are Team 8, or G...</td>\n",
       "      <td>0.236779</td>\n",
       "      <td>1</td>\n",
       "      <td>{'Happy': 0.01, 'Angry': 0.09, 'Surprise': 0.3...</td>\n",
       "      <td>[Surprise]</td>\n",
       "    </tr>\n",
       "    <tr>\n",
       "      <th>13</th>\n",
       "      <td>Okay. It says \"draw the flow chart\" but it doe...</td>\n",
       "      <td>0.123567</td>\n",
       "      <td>1</td>\n",
       "      <td>{'Happy': 0.04, 'Angry': 0.06, 'Surprise': 0.2...</td>\n",
       "      <td>[Fear]</td>\n",
       "    </tr>\n",
       "    <tr>\n",
       "      <th>14</th>\n",
       "      <td>Plus people. Oh, there it is. [crosstalk 00:01...</td>\n",
       "      <td>0.084036</td>\n",
       "      <td>1</td>\n",
       "      <td>{'Happy': 0.06, 'Angry': 0.03, 'Surprise': 0.2...</td>\n",
       "      <td>[Fear]</td>\n",
       "    </tr>\n",
       "    <tr>\n",
       "      <th>15</th>\n",
       "      <td>Oh yeah, I can imagine. Must be very difficult...</td>\n",
       "      <td>0.047137</td>\n",
       "      <td>-1</td>\n",
       "      <td>{'Happy': 0.03, 'Angry': 0.03, 'Surprise': 0.2...</td>\n",
       "      <td>[Fear]</td>\n",
       "    </tr>\n",
       "    <tr>\n",
       "      <th>16</th>\n",
       "      <td>I think it's recording now. Is there anything ...</td>\n",
       "      <td>0.058709</td>\n",
       "      <td>1</td>\n",
       "      <td>{'Happy': 0.07, 'Angry': 0.06, 'Surprise': 0.2...</td>\n",
       "      <td>[Fear]</td>\n",
       "    </tr>\n",
       "    <tr>\n",
       "      <th>17</th>\n",
       "      <td>Oh God. [inaudible 00:00:18] Oh my God, this i...</td>\n",
       "      <td>0.042626</td>\n",
       "      <td>-1</td>\n",
       "      <td>{'Happy': 0.1, 'Angry': 0.05, 'Surprise': 0.26...</td>\n",
       "      <td>[Fear]</td>\n",
       "    </tr>\n",
       "    <tr>\n",
       "      <th>18</th>\n",
       "      <td>Yes. Okay. Okay. -Do this activity with the su...</td>\n",
       "      <td>0.089858</td>\n",
       "      <td>1</td>\n",
       "      <td>{'Happy': 0.07, 'Angry': 0.03, 'Surprise': 0.2...</td>\n",
       "      <td>[Fear]</td>\n",
       "    </tr>\n",
       "    <tr>\n",
       "      <th>19</th>\n",
       "      <td>[inaudible 00:01:02] Marco. Let's try the func...</td>\n",
       "      <td>0.136761</td>\n",
       "      <td>1</td>\n",
       "      <td>{'Happy': 0.12, 'Angry': 0.04, 'Surprise': 0.2...</td>\n",
       "      <td>[Fear]</td>\n",
       "    </tr>\n",
       "    <tr>\n",
       "      <th>20</th>\n",
       "      <td>Working. Yeah. I'm trying to figure out how to...</td>\n",
       "      <td>0.115462</td>\n",
       "      <td>1</td>\n",
       "      <td>{'Happy': 0.03, 'Angry': 0.05, 'Surprise': 0.3...</td>\n",
       "      <td>[Fear]</td>\n",
       "    </tr>\n",
       "    <tr>\n",
       "      <th>21</th>\n",
       "      <td>Is it working? Yeah, that's pretty confusing. ...</td>\n",
       "      <td>0.104669</td>\n",
       "      <td>1</td>\n",
       "      <td>{'Happy': 0.07, 'Angry': 0.05, 'Surprise': 0.2...</td>\n",
       "      <td>[Fear]</td>\n",
       "    </tr>\n",
       "    <tr>\n",
       "      <th>22</th>\n",
       "      <td>Thank you. I like it, too.  We're going to be ...</td>\n",
       "      <td>0.134786</td>\n",
       "      <td>1</td>\n",
       "      <td>{'Happy': 0.06, 'Angry': 0.04, 'Surprise': 0.2...</td>\n",
       "      <td>[Fear]</td>\n",
       "    </tr>\n",
       "    <tr>\n",
       "      <th>23</th>\n",
       "      <td>When you finish today, call me over, and I wil...</td>\n",
       "      <td>0.139956</td>\n",
       "      <td>1</td>\n",
       "      <td>{'Happy': 0.05, 'Angry': 0.05, 'Surprise': 0.2...</td>\n",
       "      <td>[Fear]</td>\n",
       "    </tr>\n",
       "    <tr>\n",
       "      <th>24</th>\n",
       "      <td>Richard [Hoel 00:00:08] Your number? 41 I'm go...</td>\n",
       "      <td>0.043392</td>\n",
       "      <td>-1</td>\n",
       "      <td>{'Happy': 0.09, 'Angry': 0.06, 'Surprise': 0.2...</td>\n",
       "      <td>[Fear]</td>\n",
       "    </tr>\n",
       "    <tr>\n",
       "      <th>25</th>\n",
       "      <td>No, it's anonymous! You're a number. And 42. D...</td>\n",
       "      <td>0.025562</td>\n",
       "      <td>-1</td>\n",
       "      <td>{'Happy': 0.09, 'Angry': 0.05, 'Surprise': 0.2...</td>\n",
       "      <td>[Fear]</td>\n",
       "    </tr>\n",
       "    <tr>\n",
       "      <th>26</th>\n",
       "      <td>I apologize in advanced because I cuss a lot. ...</td>\n",
       "      <td>0.076766</td>\n",
       "      <td>1</td>\n",
       "      <td>{'Happy': 0.06, 'Angry': 0.05, 'Surprise': 0.2...</td>\n",
       "      <td>[Fear]</td>\n",
       "    </tr>\n",
       "    <tr>\n",
       "      <th>27</th>\n",
       "      <td>Today is March, 19th 4748. I got it. Sick, lit...</td>\n",
       "      <td>0.138703</td>\n",
       "      <td>1</td>\n",
       "      <td>{'Happy': 0.04, 'Angry': 0.04, 'Surprise': 0.2...</td>\n",
       "      <td>[Fear]</td>\n",
       "    </tr>\n",
       "  </tbody>\n",
       "</table>\n",
       "</div>"
      ],
      "text/plain": [
       "                                               Speech  Polarity  Sentiment  \\\n",
       "0   I guess. Yeah. Sure. Yeah. Just say you do. Ju...  0.132065          1   \n",
       "1   Does it matter where it goes? All right. Becau...  0.111017          1   \n",
       "2   All right, so then the user needs to choose th...  0.185642          1   \n",
       "3   That should be good, all right. So they need t...  0.179767          1   \n",
       "4   I didn't realize how loud was.  [inaudible 00:...  0.001343         -1   \n",
       "5   [inaudible 00:00:06] Put it on your shirt, bro...  0.120812          1   \n",
       "6   I recently found out [crosstalk 00:00:20] Okay...  0.158519          1   \n",
       "7   Yeah, just [crosstalk 00:00:00]. Mm-hmm (affir...  0.100774          1   \n",
       "8    28th. 11  Max [inaudible 00:00:23].  That bas...  0.124810          1   \n",
       "9   12 All right, on the average. What did they av...  0.113540          1   \n",
       "10  That's good. Does this one open? Ah. I know, r...  0.048838         -1   \n",
       "11  14 Just checking if it works. Yeah, it opens, ...  0.159224          1   \n",
       "12  Yeah, March 14. Okay. And you are Team 8, or G...  0.236779          1   \n",
       "13  Okay. It says \"draw the flow chart\" but it doe...  0.123567          1   \n",
       "14  Plus people. Oh, there it is. [crosstalk 00:01...  0.084036          1   \n",
       "15  Oh yeah, I can imagine. Must be very difficult...  0.047137         -1   \n",
       "16  I think it's recording now. Is there anything ...  0.058709          1   \n",
       "17  Oh God. [inaudible 00:00:18] Oh my God, this i...  0.042626         -1   \n",
       "18  Yes. Okay. Okay. -Do this activity with the su...  0.089858          1   \n",
       "19  [inaudible 00:01:02] Marco. Let's try the func...  0.136761          1   \n",
       "20  Working. Yeah. I'm trying to figure out how to...  0.115462          1   \n",
       "21  Is it working? Yeah, that's pretty confusing. ...  0.104669          1   \n",
       "22  Thank you. I like it, too.  We're going to be ...  0.134786          1   \n",
       "23  When you finish today, call me over, and I wil...  0.139956          1   \n",
       "24  Richard [Hoel 00:00:08] Your number? 41 I'm go...  0.043392         -1   \n",
       "25  No, it's anonymous! You're a number. And 42. D...  0.025562         -1   \n",
       "26  I apologize in advanced because I cuss a lot. ...  0.076766          1   \n",
       "27  Today is March, 19th 4748. I got it. Sick, lit...  0.138703          1   \n",
       "\n",
       "                                        multi_Emotion     Emotion  \n",
       "0   {'Happy': 0.06, 'Angry': 0.03, 'Surprise': 0.2...      [Fear]  \n",
       "1   {'Happy': 0.07, 'Angry': 0.04, 'Surprise': 0.2...      [Fear]  \n",
       "2   {'Happy': 0.04, 'Angry': 0.03, 'Surprise': 0.2...      [Fear]  \n",
       "3   {'Happy': 0.07, 'Angry': 0.04, 'Surprise': 0.2...      [Fear]  \n",
       "4   {'Happy': 0.09, 'Angry': 0.06, 'Surprise': 0.3...      [Fear]  \n",
       "5   {'Happy': 0.07, 'Angry': 0.04, 'Surprise': 0.2...      [Fear]  \n",
       "6   {'Happy': 0.07, 'Angry': 0.04, 'Surprise': 0.2...      [Fear]  \n",
       "7   {'Happy': 0.06, 'Angry': 0.05, 'Surprise': 0.2...      [Fear]  \n",
       "8   {'Happy': 0.02, 'Angry': 0.03, 'Surprise': 0.2...      [Fear]  \n",
       "9   {'Happy': 0.05, 'Angry': 0.04, 'Surprise': 0.2...      [Fear]  \n",
       "10  {'Happy': 0.03, 'Angry': 0.06, 'Surprise': 0.2...      [Fear]  \n",
       "11  {'Happy': 0.06, 'Angry': 0.05, 'Surprise': 0.2...      [Fear]  \n",
       "12  {'Happy': 0.01, 'Angry': 0.09, 'Surprise': 0.3...  [Surprise]  \n",
       "13  {'Happy': 0.04, 'Angry': 0.06, 'Surprise': 0.2...      [Fear]  \n",
       "14  {'Happy': 0.06, 'Angry': 0.03, 'Surprise': 0.2...      [Fear]  \n",
       "15  {'Happy': 0.03, 'Angry': 0.03, 'Surprise': 0.2...      [Fear]  \n",
       "16  {'Happy': 0.07, 'Angry': 0.06, 'Surprise': 0.2...      [Fear]  \n",
       "17  {'Happy': 0.1, 'Angry': 0.05, 'Surprise': 0.26...      [Fear]  \n",
       "18  {'Happy': 0.07, 'Angry': 0.03, 'Surprise': 0.2...      [Fear]  \n",
       "19  {'Happy': 0.12, 'Angry': 0.04, 'Surprise': 0.2...      [Fear]  \n",
       "20  {'Happy': 0.03, 'Angry': 0.05, 'Surprise': 0.3...      [Fear]  \n",
       "21  {'Happy': 0.07, 'Angry': 0.05, 'Surprise': 0.2...      [Fear]  \n",
       "22  {'Happy': 0.06, 'Angry': 0.04, 'Surprise': 0.2...      [Fear]  \n",
       "23  {'Happy': 0.05, 'Angry': 0.05, 'Surprise': 0.2...      [Fear]  \n",
       "24  {'Happy': 0.09, 'Angry': 0.06, 'Surprise': 0.2...      [Fear]  \n",
       "25  {'Happy': 0.09, 'Angry': 0.05, 'Surprise': 0.2...      [Fear]  \n",
       "26  {'Happy': 0.06, 'Angry': 0.05, 'Surprise': 0.2...      [Fear]  \n",
       "27  {'Happy': 0.04, 'Angry': 0.04, 'Surprise': 0.2...      [Fear]  "
      ]
     },
     "execution_count": 98,
     "metadata": {},
     "output_type": "execute_result"
    }
   ],
   "source": [
    "df_0"
   ]
  },
  {
   "cell_type": "code",
   "execution_count": 23,
   "metadata": {},
   "outputs": [],
   "source": [
    "df1.to_csv('student_2_emotions.csv',index=False)"
   ]
  },
  {
   "cell_type": "code",
   "execution_count": null,
   "metadata": {},
   "outputs": [],
   "source": []
  }
 ],
 "metadata": {
  "kernelspec": {
   "display_name": "Python 3",
   "language": "python",
   "name": "python3"
  },
  "language_info": {
   "codemirror_mode": {
    "name": "ipython",
    "version": 3
   },
   "file_extension": ".py",
   "mimetype": "text/x-python",
   "name": "python",
   "nbconvert_exporter": "python",
   "pygments_lexer": "ipython3",
   "version": "3.8.5"
  }
 },
 "nbformat": 4,
 "nbformat_minor": 4
}
