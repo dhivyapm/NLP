{
 "cells": [
  {
   "cell_type": "code",
   "execution_count": 320,
   "metadata": {},
   "outputs": [],
   "source": [
    "import pandas as pd\n",
    "namess= ['Speech']\n",
    "df1 = pd.read_csv('ID 1- comeplete.csv',header = None, names= namess)"
   ]
  },
  {
   "cell_type": "code",
   "execution_count": 321,
   "metadata": {},
   "outputs": [],
   "source": [
    "std_1 = df1['Speech'].str.cat(sep=' ')"
   ]
  },
  {
   "cell_type": "code",
   "execution_count": 322,
   "metadata": {},
   "outputs": [],
   "source": [
    "namess= ['Speech']\n",
    "df2 = pd.read_csv('ID 2 - Complete.csv',header = None, names= namess)"
   ]
  },
  {
   "cell_type": "code",
   "execution_count": 323,
   "metadata": {},
   "outputs": [],
   "source": [
    "std_2 = df2['Speech'].str.cat(sep=' ')"
   ]
  },
  {
   "cell_type": "code",
   "execution_count": 324,
   "metadata": {},
   "outputs": [],
   "source": [
    "namess= ['Speech']\n",
    "df3 = pd.read_csv('ID 3-complete.csv',header = None, names= namess)"
   ]
  },
  {
   "cell_type": "code",
   "execution_count": 325,
   "metadata": {},
   "outputs": [],
   "source": [
    "std_3 = df3['Speech'].str.cat(sep=' ')"
   ]
  },
  {
   "cell_type": "code",
   "execution_count": 326,
   "metadata": {},
   "outputs": [],
   "source": [
    "namess= ['Speech','un']\n",
    "df4 = pd.read_csv('ID 4-complete.csv',header = None, names= namess)\n",
    "df4 = df4.drop(['un'],axis=1)"
   ]
  },
  {
   "cell_type": "code",
   "execution_count": 327,
   "metadata": {},
   "outputs": [],
   "source": [
    "std_4 = df4['Speech'].str.cat(sep=' ')"
   ]
  },
  {
   "cell_type": "code",
   "execution_count": 328,
   "metadata": {},
   "outputs": [],
   "source": [
    "namess= ['Speech']\n",
    "df5 = pd.read_csv('ID 5- Complete.csv',header = None, names= namess, encoding='cp1252')"
   ]
  },
  {
   "cell_type": "code",
   "execution_count": 329,
   "metadata": {},
   "outputs": [],
   "source": [
    "std_5 = df5['Speech'].str.cat(sep=' ')"
   ]
  },
  {
   "cell_type": "code",
   "execution_count": 330,
   "metadata": {},
   "outputs": [],
   "source": [
    "namess= ['Speech']\n",
    "df6 = pd.read_csv('ID 6- Complete.csv',header = None, names= namess)"
   ]
  },
  {
   "cell_type": "code",
   "execution_count": 331,
   "metadata": {},
   "outputs": [],
   "source": [
    "std_6 = df6['Speech'].str.cat(sep=' ')"
   ]
  },
  {
   "cell_type": "code",
   "execution_count": 332,
   "metadata": {},
   "outputs": [],
   "source": [
    "namess= ['Speech']\n",
    "df7 = pd.read_csv('ID 7-Complete.csv',header = None, names= namess)"
   ]
  },
  {
   "cell_type": "code",
   "execution_count": 333,
   "metadata": {},
   "outputs": [],
   "source": [
    "std_7 = df7['Speech'].str.cat(sep=' ')"
   ]
  },
  {
   "cell_type": "code",
   "execution_count": 334,
   "metadata": {},
   "outputs": [],
   "source": [
    "namess= ['Speech','un']\n",
    "df8 = pd.read_csv('ID 8-complete.csv',header = None, names= namess)\n",
    "df8 = df8.drop(['un'],axis=1)"
   ]
  },
  {
   "cell_type": "code",
   "execution_count": 335,
   "metadata": {},
   "outputs": [],
   "source": [
    "std_8 = df8['Speech'].str.cat(sep=' ')"
   ]
  },
  {
   "cell_type": "code",
   "execution_count": 336,
   "metadata": {},
   "outputs": [],
   "source": [
    "namess= ['Speech']\n",
    "df11 = pd.read_csv('ID 11- Complete.csv',header = None, names= namess)"
   ]
  },
  {
   "cell_type": "code",
   "execution_count": 337,
   "metadata": {},
   "outputs": [],
   "source": [
    "std_11 = df11['Speech'].str.cat(sep=' ')"
   ]
  },
  {
   "cell_type": "code",
   "execution_count": 338,
   "metadata": {},
   "outputs": [],
   "source": [
    "namess= ['Speech']\n",
    "df12 = pd.read_csv('ID 12- Complete.csv',header = None, names= namess)"
   ]
  },
  {
   "cell_type": "code",
   "execution_count": 339,
   "metadata": {},
   "outputs": [],
   "source": [
    "std_12 = df12['Speech'].str.cat(sep=' ')"
   ]
  },
  {
   "cell_type": "code",
   "execution_count": 340,
   "metadata": {},
   "outputs": [],
   "source": [
    "namess= ['Speech','un1','un2','un3']\n",
    "df13 = pd.read_csv('ID 13-Complete.csv',header = None, names= namess, encoding='cp1252')\n",
    "df13 = df13.drop(['un1','un2','un3'],axis=1)"
   ]
  },
  {
   "cell_type": "code",
   "execution_count": 341,
   "metadata": {},
   "outputs": [],
   "source": [
    "std_13 = df13['Speech'].str.cat(sep=' ')"
   ]
  },
  {
   "cell_type": "code",
   "execution_count": 342,
   "metadata": {},
   "outputs": [],
   "source": [
    "namess= ['Speech']\n",
    "df14 = pd.read_csv('ID 14-Complete.csv',header = None, names= namess, encoding='cp1252')"
   ]
  },
  {
   "cell_type": "code",
   "execution_count": 343,
   "metadata": {},
   "outputs": [],
   "source": [
    "std_14 = df14['Speech'].str.cat(sep=' ')"
   ]
  },
  {
   "cell_type": "code",
   "execution_count": 344,
   "metadata": {},
   "outputs": [],
   "source": [
    "namess= ['Speech']\n",
    "df15 = pd.read_csv('ID 15-complete.csv',header = None, names= namess)"
   ]
  },
  {
   "cell_type": "code",
   "execution_count": 345,
   "metadata": {},
   "outputs": [],
   "source": [
    "std_15 = df15['Speech'].str.cat(sep=' ')"
   ]
  },
  {
   "cell_type": "code",
   "execution_count": 346,
   "metadata": {},
   "outputs": [],
   "source": [
    "namess= ['Speech']\n",
    "df16 = pd.read_csv('ID 16-complete.csv',header = None, names= namess, encoding='cp1252')"
   ]
  },
  {
   "cell_type": "code",
   "execution_count": 347,
   "metadata": {},
   "outputs": [],
   "source": [
    "std_16 = df16['Speech'].str.cat(sep=' ')"
   ]
  },
  {
   "cell_type": "code",
   "execution_count": 348,
   "metadata": {},
   "outputs": [],
   "source": [
    "namess= ['Speech']\n",
    "df17 = pd.read_csv('ID 17-Complete.csv',header = None, names= namess)"
   ]
  },
  {
   "cell_type": "code",
   "execution_count": 349,
   "metadata": {},
   "outputs": [],
   "source": [
    "std_17 = df17['Speech'].str.cat(sep=' ')"
   ]
  },
  {
   "cell_type": "code",
   "execution_count": 350,
   "metadata": {},
   "outputs": [],
   "source": [
    "namess= ['Speech']\n",
    "df18 = pd.read_csv('ID 18-Complete.csv',header = None, names= namess)"
   ]
  },
  {
   "cell_type": "code",
   "execution_count": 351,
   "metadata": {},
   "outputs": [],
   "source": [
    "std_18 = df18['Speech'].str.cat(sep=' ')"
   ]
  },
  {
   "cell_type": "code",
   "execution_count": 352,
   "metadata": {},
   "outputs": [],
   "source": [
    "namess= ['Speech','un']\n",
    "df21 = pd.read_csv('ID 21-complete.csv',header = None,names=namess)\n",
    "df21 = df21.drop(['un'],axis=1)"
   ]
  },
  {
   "cell_type": "code",
   "execution_count": 353,
   "metadata": {},
   "outputs": [],
   "source": [
    "std_21 = df21['Speech'].str.cat(sep=' ')"
   ]
  },
  {
   "cell_type": "code",
   "execution_count": 354,
   "metadata": {},
   "outputs": [],
   "source": [
    "namess= ['Speech']\n",
    "df22 = pd.read_csv('ID 22-Complete.csv',header = None, names= namess, encoding='cp1252')"
   ]
  },
  {
   "cell_type": "code",
   "execution_count": 355,
   "metadata": {},
   "outputs": [],
   "source": [
    "std_22 = df22['Speech'].str.cat(sep=' ')"
   ]
  },
  {
   "cell_type": "code",
   "execution_count": 356,
   "metadata": {},
   "outputs": [],
   "source": [
    "namess= ['Speech']\n",
    "df23 = pd.read_csv('ID 23-Complete.csv',header = None, names= namess)"
   ]
  },
  {
   "cell_type": "code",
   "execution_count": 357,
   "metadata": {},
   "outputs": [],
   "source": [
    "std_23 = df23['Speech'].str.cat(sep=' ')"
   ]
  },
  {
   "cell_type": "code",
   "execution_count": 358,
   "metadata": {},
   "outputs": [],
   "source": [
    "namess= ['Speech']\n",
    "df24 = pd.read_csv('ID 24-Complete.csv',header = None, names= namess)"
   ]
  },
  {
   "cell_type": "code",
   "execution_count": 359,
   "metadata": {},
   "outputs": [],
   "source": [
    "std_24 = df24['Speech'].str.cat(sep=' ')"
   ]
  },
  {
   "cell_type": "code",
   "execution_count": 360,
   "metadata": {},
   "outputs": [],
   "source": [
    "namess= ['Speech']\n",
    "df33 = pd.read_csv('ID 33-complete.csv',header = None, names= namess)"
   ]
  },
  {
   "cell_type": "code",
   "execution_count": 361,
   "metadata": {},
   "outputs": [],
   "source": [
    "std_33 = df33['Speech'].str.cat(sep=' ')"
   ]
  },
  {
   "cell_type": "code",
   "execution_count": 362,
   "metadata": {},
   "outputs": [],
   "source": [
    "namess= ['Speech']\n",
    "df34 = pd.read_csv('ID 34-compelte.csv',header = None, names= namess, encoding='cp1252')"
   ]
  },
  {
   "cell_type": "code",
   "execution_count": 363,
   "metadata": {},
   "outputs": [],
   "source": [
    "std_34 = df34['Speech'].str.cat(sep=' ')"
   ]
  },
  {
   "cell_type": "code",
   "execution_count": 364,
   "metadata": {},
   "outputs": [],
   "source": [
    "namess= ['Speech']\n",
    "df35 = pd.read_csv('ID 35-complete.csv',header = None, names= namess)"
   ]
  },
  {
   "cell_type": "code",
   "execution_count": 365,
   "metadata": {},
   "outputs": [],
   "source": [
    "std_35 = df35['Speech'].str.cat(sep=' ')"
   ]
  },
  {
   "cell_type": "code",
   "execution_count": 366,
   "metadata": {},
   "outputs": [],
   "source": [
    "namess= ['Speech']\n",
    "df36 = pd.read_csv('ID 36-complete.csv',header = None, names= namess, encoding='cp1252')"
   ]
  },
  {
   "cell_type": "code",
   "execution_count": 367,
   "metadata": {},
   "outputs": [],
   "source": [
    "std_36 = df36['Speech'].str.cat(sep=' ')"
   ]
  },
  {
   "cell_type": "code",
   "execution_count": 368,
   "metadata": {},
   "outputs": [],
   "source": [
    "namess= ['Speech']\n",
    "df41 = pd.read_csv('ID 41-complete.csv',header = None, names= namess)"
   ]
  },
  {
   "cell_type": "code",
   "execution_count": 369,
   "metadata": {},
   "outputs": [],
   "source": [
    "std_41 = df41['Speech'].str.cat(sep=' ')"
   ]
  },
  {
   "cell_type": "code",
   "execution_count": 370,
   "metadata": {},
   "outputs": [],
   "source": [
    "namess= ['Speech']\n",
    "df42 = pd.read_csv('ID 42-complete.csv',header = None, names= namess, encoding='cp1252')"
   ]
  },
  {
   "cell_type": "code",
   "execution_count": 371,
   "metadata": {},
   "outputs": [],
   "source": [
    "std_42 = df42['Speech'].str.cat(sep=' ')"
   ]
  },
  {
   "cell_type": "code",
   "execution_count": 372,
   "metadata": {},
   "outputs": [],
   "source": [
    "namess= ['Speech']\n",
    "df47 = pd.read_csv('ID 47-complete.csv',header = None, names= namess)"
   ]
  },
  {
   "cell_type": "code",
   "execution_count": 373,
   "metadata": {},
   "outputs": [],
   "source": [
    "std_47 = df47['Speech'].str.cat(sep=' ')"
   ]
  },
  {
   "cell_type": "code",
   "execution_count": 374,
   "metadata": {},
   "outputs": [],
   "source": [
    "namess= ['Speech']\n",
    "df48 = pd.read_csv('ID 48-complete.csv',header = None, names= namess)"
   ]
  },
  {
   "cell_type": "code",
   "execution_count": 375,
   "metadata": {},
   "outputs": [],
   "source": [
    "std_48 = df48['Speech'].str.cat(sep=' ')"
   ]
  },
  {
   "cell_type": "code",
   "execution_count": 392,
   "metadata": {},
   "outputs": [],
   "source": [
    "df_0 = pd.DataFrame([std_1,std_2,std_3,std_4,std_5,std_6,std_7,std_8,std_11,std_12,std_13,std_14,std_15,\n",
    "                    std_16,std_17,std_18,std_21,std_22,std_23,std_24,std_33,std_34,std_35,std_36,std_41,std_42,\n",
    "                    std_47,std_48], columns=['Speech'])"
   ]
  },
  {
   "cell_type": "code",
   "execution_count": 393,
   "metadata": {},
   "outputs": [
    {
     "data": {
      "text/html": [
       "<div>\n",
       "<style scoped>\n",
       "    .dataframe tbody tr th:only-of-type {\n",
       "        vertical-align: middle;\n",
       "    }\n",
       "\n",
       "    .dataframe tbody tr th {\n",
       "        vertical-align: top;\n",
       "    }\n",
       "\n",
       "    .dataframe thead th {\n",
       "        text-align: right;\n",
       "    }\n",
       "</style>\n",
       "<table border=\"1\" class=\"dataframe\">\n",
       "  <thead>\n",
       "    <tr style=\"text-align: right;\">\n",
       "      <th></th>\n",
       "      <th>Speech</th>\n",
       "    </tr>\n",
       "  </thead>\n",
       "  <tbody>\n",
       "    <tr>\n",
       "      <th>0</th>\n",
       "      <td>I guess. Yeah. Sure. Yeah. Just say you do. Ju...</td>\n",
       "    </tr>\n",
       "    <tr>\n",
       "      <th>1</th>\n",
       "      <td>Does it matter where it goes? All right. Becau...</td>\n",
       "    </tr>\n",
       "    <tr>\n",
       "      <th>2</th>\n",
       "      <td>All right, so then the user needs to choose th...</td>\n",
       "    </tr>\n",
       "    <tr>\n",
       "      <th>3</th>\n",
       "      <td>That should be good, all right. So they need t...</td>\n",
       "    </tr>\n",
       "    <tr>\n",
       "      <th>4</th>\n",
       "      <td>I didn't realize how loud was.  [inaudible 00:...</td>\n",
       "    </tr>\n",
       "    <tr>\n",
       "      <th>5</th>\n",
       "      <td>[inaudible 00:00:06] Put it on your shirt, bro...</td>\n",
       "    </tr>\n",
       "    <tr>\n",
       "      <th>6</th>\n",
       "      <td>I recently found out [crosstalk 00:00:20] Okay...</td>\n",
       "    </tr>\n",
       "    <tr>\n",
       "      <th>7</th>\n",
       "      <td>Yeah, just [crosstalk 00:00:00]. Mm-hmm (affir...</td>\n",
       "    </tr>\n",
       "    <tr>\n",
       "      <th>8</th>\n",
       "      <td>28th. 11  Max [inaudible 00:00:23].  That bas...</td>\n",
       "    </tr>\n",
       "    <tr>\n",
       "      <th>9</th>\n",
       "      <td>12 All right, on the average. What did they av...</td>\n",
       "    </tr>\n",
       "    <tr>\n",
       "      <th>10</th>\n",
       "      <td>That's good. Does this one open? Ah. I know, r...</td>\n",
       "    </tr>\n",
       "    <tr>\n",
       "      <th>11</th>\n",
       "      <td>14 Just checking if it works. Yeah, it opens, ...</td>\n",
       "    </tr>\n",
       "    <tr>\n",
       "      <th>12</th>\n",
       "      <td>Yeah, March 14. Okay. And you are Team 8, or G...</td>\n",
       "    </tr>\n",
       "    <tr>\n",
       "      <th>13</th>\n",
       "      <td>Okay. It says \"draw the flow chart\" but it doe...</td>\n",
       "    </tr>\n",
       "    <tr>\n",
       "      <th>14</th>\n",
       "      <td>Plus people. Oh, there it is. [crosstalk 00:01...</td>\n",
       "    </tr>\n",
       "    <tr>\n",
       "      <th>15</th>\n",
       "      <td>Oh yeah, I can imagine. Must be very difficult...</td>\n",
       "    </tr>\n",
       "    <tr>\n",
       "      <th>16</th>\n",
       "      <td>I think it's recording now. Is there anything ...</td>\n",
       "    </tr>\n",
       "    <tr>\n",
       "      <th>17</th>\n",
       "      <td>Oh God. [inaudible 00:00:18] Oh my God, this i...</td>\n",
       "    </tr>\n",
       "    <tr>\n",
       "      <th>18</th>\n",
       "      <td>Yes. Okay. Okay. -Do this activity with the su...</td>\n",
       "    </tr>\n",
       "    <tr>\n",
       "      <th>19</th>\n",
       "      <td>[inaudible 00:01:02] Marco. Let's try the func...</td>\n",
       "    </tr>\n",
       "    <tr>\n",
       "      <th>20</th>\n",
       "      <td>Working. Yeah. I'm trying to figure out how to...</td>\n",
       "    </tr>\n",
       "    <tr>\n",
       "      <th>21</th>\n",
       "      <td>Is it working? Yeah, that's pretty confusing. ...</td>\n",
       "    </tr>\n",
       "    <tr>\n",
       "      <th>22</th>\n",
       "      <td>Thank you. I like it, too.  We're going to be ...</td>\n",
       "    </tr>\n",
       "    <tr>\n",
       "      <th>23</th>\n",
       "      <td>When you finish today, call me over, and I wil...</td>\n",
       "    </tr>\n",
       "    <tr>\n",
       "      <th>24</th>\n",
       "      <td>Richard [Hoel 00:00:08] Your number? 41 I'm go...</td>\n",
       "    </tr>\n",
       "    <tr>\n",
       "      <th>25</th>\n",
       "      <td>No, it's anonymous! You're a number. And 42. D...</td>\n",
       "    </tr>\n",
       "    <tr>\n",
       "      <th>26</th>\n",
       "      <td>I apologize in advanced because I cuss a lot. ...</td>\n",
       "    </tr>\n",
       "    <tr>\n",
       "      <th>27</th>\n",
       "      <td>Today is March, 19th 4748. I got it. Sick, lit...</td>\n",
       "    </tr>\n",
       "  </tbody>\n",
       "</table>\n",
       "</div>"
      ],
      "text/plain": [
       "                                               Speech\n",
       "0   I guess. Yeah. Sure. Yeah. Just say you do. Ju...\n",
       "1   Does it matter where it goes? All right. Becau...\n",
       "2   All right, so then the user needs to choose th...\n",
       "3   That should be good, all right. So they need t...\n",
       "4   I didn't realize how loud was.  [inaudible 00:...\n",
       "5   [inaudible 00:00:06] Put it on your shirt, bro...\n",
       "6   I recently found out [crosstalk 00:00:20] Okay...\n",
       "7   Yeah, just [crosstalk 00:00:00]. Mm-hmm (affir...\n",
       "8    28th. 11  Max [inaudible 00:00:23].  That bas...\n",
       "9   12 All right, on the average. What did they av...\n",
       "10  That's good. Does this one open? Ah. I know, r...\n",
       "11  14 Just checking if it works. Yeah, it opens, ...\n",
       "12  Yeah, March 14. Okay. And you are Team 8, or G...\n",
       "13  Okay. It says \"draw the flow chart\" but it doe...\n",
       "14  Plus people. Oh, there it is. [crosstalk 00:01...\n",
       "15  Oh yeah, I can imagine. Must be very difficult...\n",
       "16  I think it's recording now. Is there anything ...\n",
       "17  Oh God. [inaudible 00:00:18] Oh my God, this i...\n",
       "18  Yes. Okay. Okay. -Do this activity with the su...\n",
       "19  [inaudible 00:01:02] Marco. Let's try the func...\n",
       "20  Working. Yeah. I'm trying to figure out how to...\n",
       "21  Is it working? Yeah, that's pretty confusing. ...\n",
       "22  Thank you. I like it, too.  We're going to be ...\n",
       "23  When you finish today, call me over, and I wil...\n",
       "24  Richard [Hoel 00:00:08] Your number? 41 I'm go...\n",
       "25  No, it's anonymous! You're a number. And 42. D...\n",
       "26  I apologize in advanced because I cuss a lot. ...\n",
       "27  Today is March, 19th 4748. I got it. Sick, lit..."
      ]
     },
     "execution_count": 393,
     "metadata": {},
     "output_type": "execute_result"
    }
   ],
   "source": [
    "df_0"
   ]
  },
  {
   "cell_type": "code",
   "execution_count": 394,
   "metadata": {},
   "outputs": [],
   "source": [
    "import string\n",
    "#converting the reviews to lowercase\n",
    "df_0['Speech'] = df_0['Speech'].apply(str.lower)\n",
    "df_0['Speech'] = df_0['Speech'].str.replace('[{}]'.format(string.punctuation), '')\n",
    "df_0['Speech'] = df_0['Speech'].str.replace('[{}]'.format(string.digits), '')"
   ]
  },
  {
   "cell_type": "code",
   "execution_count": 395,
   "metadata": {},
   "outputs": [
    {
     "name": "stderr",
     "output_type": "stream",
     "text": [
      "[nltk_data] Downloading package stopwords to\n",
      "[nltk_data]     C:\\Users\\divya\\AppData\\Roaming\\nltk_data...\n",
      "[nltk_data]   Package stopwords is already up-to-date!\n",
      "[nltk_data] Downloading package wordnet to\n",
      "[nltk_data]     C:\\Users\\divya\\AppData\\Roaming\\nltk_data...\n",
      "[nltk_data]   Package wordnet is already up-to-date!\n"
     ]
    }
   ],
   "source": [
    "from collections import Counter\n",
    "from nltk.corpus import stopwords\n",
    "import nltk\n",
    "rem = ['hoel','crosstalk','inaudible']\n",
    "#Word Tokenize the reviews\n",
    "df_0['clean_Speech'] = df_0.apply(lambda row: nltk.word_tokenize(row['Speech']), axis=1)\n",
    "  \n",
    "#Convert the tokens into lowercase\n",
    "df_0['clean_Speech'] = df_0.apply(lambda row: [t.lower() for t in row['clean_Speech']], axis=1)\n",
    "    \n",
    "#Retain only alphabetic_words\n",
    "df_0['clean_Speech'] = df_0.apply(lambda row: [t for t in row['clean_Speech'] if t.isalpha()], axis=1)    \n",
    "    \n",
    "#Remove all stop words\n",
    "nltk.download('stopwords')\n",
    "df_0['clean_Speech'] = df_0.apply(lambda row: [t for t in row['clean_Speech'] if t not in stopwords.words('english')], axis=1) \n",
    "df_0['clean_Speech'] = df_0.apply(lambda row: [t for t in row['clean_Speech'] if t not in rem], axis=1)\n",
    "    \n",
    "#Instantiate the WordNetLemmatizer\n",
    "from nltk import WordNetLemmatizer\n",
    "lemmatizer = WordNetLemmatizer()\n",
    "# stripping suffixes such as ‘ed’, ‘ing’, ‘tion’ etc. Ex. stemming ‘walked’ returns walk.  \n",
    "nltk.download('wordnet')\n",
    "df_0['clean_Speech'] = df_0.apply(lambda row: [lemmatizer.lemmatize(t) for t in row['clean_Speech']], axis=1)"
   ]
  },
  {
   "cell_type": "code",
   "execution_count": 396,
   "metadata": {},
   "outputs": [],
   "source": [
    "df_0['Speech_sent'] = df_0['clean_Speech'].apply(lambda x: '  '.join(x))"
   ]
  },
  {
   "cell_type": "code",
   "execution_count": 397,
   "metadata": {},
   "outputs": [
    {
     "data": {
      "text/html": [
       "<div>\n",
       "<style scoped>\n",
       "    .dataframe tbody tr th:only-of-type {\n",
       "        vertical-align: middle;\n",
       "    }\n",
       "\n",
       "    .dataframe tbody tr th {\n",
       "        vertical-align: top;\n",
       "    }\n",
       "\n",
       "    .dataframe thead th {\n",
       "        text-align: right;\n",
       "    }\n",
       "</style>\n",
       "<table border=\"1\" class=\"dataframe\">\n",
       "  <thead>\n",
       "    <tr style=\"text-align: right;\">\n",
       "      <th></th>\n",
       "      <th>Speech</th>\n",
       "      <th>clean_Speech</th>\n",
       "      <th>Speech_sent</th>\n",
       "    </tr>\n",
       "  </thead>\n",
       "  <tbody>\n",
       "    <tr>\n",
       "      <th>0</th>\n",
       "      <td>i guess yeah sure yeah just say you do just ne...</td>\n",
       "      <td>[guess, yeah, sure, yeah, say, need, make, sur...</td>\n",
       "      <td>guess  yeah  sure  yeah  say  need  make  sure...</td>\n",
       "    </tr>\n",
       "    <tr>\n",
       "      <th>1</th>\n",
       "      <td>does it matter where it goes all right because...</td>\n",
       "      <td>[matter, go, right, going, say, put, yeah, rig...</td>\n",
       "      <td>matter  go  right  going  say  put  yeah  righ...</td>\n",
       "    </tr>\n",
       "    <tr>\n",
       "      <th>2</th>\n",
       "      <td>all right so then the user needs to choose the...</td>\n",
       "      <td>[right, user, need, choose, want, straight, on...</td>\n",
       "      <td>right  user  need  choose  want  straight  one...</td>\n",
       "    </tr>\n",
       "    <tr>\n",
       "      <th>3</th>\n",
       "      <td>that should be good all right so they need to ...</td>\n",
       "      <td>[good, right, need, choose, either, one, yeah,...</td>\n",
       "      <td>good  right  need  choose  either  one  yeah  ...</td>\n",
       "    </tr>\n",
       "    <tr>\n",
       "      <th>4</th>\n",
       "      <td>i didnt realize how loud was  inaudible   inau...</td>\n",
       "      <td>[didnt, realize, loud, ncc, tournament, going,...</td>\n",
       "      <td>didnt  realize  loud  ncc  tournament  going  ...</td>\n",
       "    </tr>\n",
       "    <tr>\n",
       "      <th>5</th>\n",
       "      <td>inaudible  put it on your shirt bro inaudible ...</td>\n",
       "      <td>[put, shirt, bro, put, shirt, yo, go, like, oh...</td>\n",
       "      <td>put  shirt  bro  put  shirt  yo  go  like  oh ...</td>\n",
       "    </tr>\n",
       "    <tr>\n",
       "      <th>6</th>\n",
       "      <td>i recently found out crosstalk  okay thats how...</td>\n",
       "      <td>[recently, found, okay, thats, work, right, im...</td>\n",
       "      <td>recently  found  okay  thats  work  right  im ...</td>\n",
       "    </tr>\n",
       "    <tr>\n",
       "      <th>7</th>\n",
       "      <td>yeah just crosstalk  mmhmm affirmative crossta...</td>\n",
       "      <td>[yeah, mmhmm, affirmative, dude, idea, im, gre...</td>\n",
       "      <td>yeah  mmhmm  affirmative  dude  idea  im  grea...</td>\n",
       "    </tr>\n",
       "    <tr>\n",
       "      <th>8</th>\n",
       "      <td>th   max inaudible   that basically just goes...</td>\n",
       "      <td>[th, max, basically, go, number, bigger, doesn...</td>\n",
       "      <td>th  max  basically  go  number  bigger  doesnt...</td>\n",
       "    </tr>\n",
       "    <tr>\n",
       "      <th>9</th>\n",
       "      <td>all right on the average what did they averag...</td>\n",
       "      <td>[right, average, average, right, think, unders...</td>\n",
       "      <td>right  average  average  right  think  underst...</td>\n",
       "    </tr>\n",
       "    <tr>\n",
       "      <th>10</th>\n",
       "      <td>thats good does this one open ah i know right ...</td>\n",
       "      <td>[thats, good, one, open, ah, know, right, sorr...</td>\n",
       "      <td>thats  good  one  open  ah  know  right  sorry...</td>\n",
       "    </tr>\n",
       "    <tr>\n",
       "      <th>11</th>\n",
       "      <td>just checking if it works yeah it opens it op...</td>\n",
       "      <td>[checking, work, yeah, open, open, keep, uh, p...</td>\n",
       "      <td>checking  work  yeah  open  open  keep  uh  pu...</td>\n",
       "    </tr>\n",
       "    <tr>\n",
       "      <th>12</th>\n",
       "      <td>yeah march  okay and you are team  or group  y...</td>\n",
       "      <td>[yeah, march, okay, team, group, yeah, perfect...</td>\n",
       "      <td>yeah  march  okay  team  group  yeah  perfect ...</td>\n",
       "    </tr>\n",
       "    <tr>\n",
       "      <th>13</th>\n",
       "      <td>okay it says draw the flow chart but it doesnt...</td>\n",
       "      <td>[okay, say, draw, flow, chart, doesnt, say, su...</td>\n",
       "      <td>okay  say  draw  flow  chart  doesnt  say  sub...</td>\n",
       "    </tr>\n",
       "    <tr>\n",
       "      <th>14</th>\n",
       "      <td>plus people oh there it is crosstalk  like to ...</td>\n",
       "      <td>[plus, people, oh, like, invoke, method, say, ...</td>\n",
       "      <td>plus  people  oh  like  invoke  method  say  r...</td>\n",
       "    </tr>\n",
       "    <tr>\n",
       "      <th>15</th>\n",
       "      <td>oh yeah i can imagine must be very difficult a...</td>\n",
       "      <td>[oh, yeah, imagine, must, difficult, anyways, ...</td>\n",
       "      <td>oh  yeah  imagine  must  difficult  anyways  y...</td>\n",
       "    </tr>\n",
       "    <tr>\n",
       "      <th>16</th>\n",
       "      <td>i think its recording now is there anything yo...</td>\n",
       "      <td>[think, recording, anything, want, say, teache...</td>\n",
       "      <td>think  recording  anything  want  say  teacher...</td>\n",
       "    </tr>\n",
       "    <tr>\n",
       "      <th>17</th>\n",
       "      <td>oh god inaudible  oh my god this is actually r...</td>\n",
       "      <td>[oh, god, oh, god, actually, ridiculous, oh, b...</td>\n",
       "      <td>oh  god  oh  god  actually  ridiculous  oh  bo...</td>\n",
       "    </tr>\n",
       "    <tr>\n",
       "      <th>18</th>\n",
       "      <td>yes okay okay do this activity with the sum an...</td>\n",
       "      <td>[yes, okay, okay, activity, sum, activity, wri...</td>\n",
       "      <td>yes  okay  okay  activity  sum  activity  writ...</td>\n",
       "    </tr>\n",
       "    <tr>\n",
       "      <th>19</th>\n",
       "      <td>inaudible  marco lets try the functions first ...</td>\n",
       "      <td>[marco, let, try, function, first, could, inpu...</td>\n",
       "      <td>marco  let  try  function  first  could  input...</td>\n",
       "    </tr>\n",
       "    <tr>\n",
       "      <th>20</th>\n",
       "      <td>working yeah im trying to figure out how to us...</td>\n",
       "      <td>[working, yeah, im, trying, figure, use, metho...</td>\n",
       "      <td>working  yeah  im  trying  figure  use  method...</td>\n",
       "    </tr>\n",
       "    <tr>\n",
       "      <th>21</th>\n",
       "      <td>is it working yeah thats pretty confusing you ...</td>\n",
       "      <td>[working, yeah, thats, pretty, confusing, woul...</td>\n",
       "      <td>working  yeah  thats  pretty  confusing  would...</td>\n",
       "    </tr>\n",
       "    <tr>\n",
       "      <th>22</th>\n",
       "      <td>thank you i like it too  were going to be play...</td>\n",
       "      <td>[thank, like, going, playing, around, method, ...</td>\n",
       "      <td>thank  like  going  playing  around  method  d...</td>\n",
       "    </tr>\n",
       "    <tr>\n",
       "      <th>23</th>\n",
       "      <td>when you finish today call me over and i will ...</td>\n",
       "      <td>[finish, today, call, hows, looking, oh, aw, d...</td>\n",
       "      <td>finish  today  call  hows  looking  oh  aw  du...</td>\n",
       "    </tr>\n",
       "    <tr>\n",
       "      <th>24</th>\n",
       "      <td>richard hoel  your number  im going to be an i...</td>\n",
       "      <td>[richard, number, im, going, integer, today, k...</td>\n",
       "      <td>richard  number  im  going  integer  today  ke...</td>\n",
       "    </tr>\n",
       "    <tr>\n",
       "      <th>25</th>\n",
       "      <td>no its anonymous youre a number and  damn i fe...</td>\n",
       "      <td>[anonymous, youre, number, damn, feel, like, g...</td>\n",
       "      <td>anonymous  youre  number  damn  feel  like  go...</td>\n",
       "    </tr>\n",
       "    <tr>\n",
       "      <th>26</th>\n",
       "      <td>i apologize in advanced because i cuss a lot t...</td>\n",
       "      <td>[apologize, advanced, cuss, lot, testing, one,...</td>\n",
       "      <td>apologize  advanced  cuss  lot  testing  one  ...</td>\n",
       "    </tr>\n",
       "    <tr>\n",
       "      <th>27</th>\n",
       "      <td>today is march th  i got it sick lit i guess j...</td>\n",
       "      <td>[today, march, th, got, sick, lit, guess, clip...</td>\n",
       "      <td>today  march  th  got  sick  lit  guess  clipp...</td>\n",
       "    </tr>\n",
       "  </tbody>\n",
       "</table>\n",
       "</div>"
      ],
      "text/plain": [
       "                                               Speech  \\\n",
       "0   i guess yeah sure yeah just say you do just ne...   \n",
       "1   does it matter where it goes all right because...   \n",
       "2   all right so then the user needs to choose the...   \n",
       "3   that should be good all right so they need to ...   \n",
       "4   i didnt realize how loud was  inaudible   inau...   \n",
       "5   inaudible  put it on your shirt bro inaudible ...   \n",
       "6   i recently found out crosstalk  okay thats how...   \n",
       "7   yeah just crosstalk  mmhmm affirmative crossta...   \n",
       "8    th   max inaudible   that basically just goes...   \n",
       "9    all right on the average what did they averag...   \n",
       "10  thats good does this one open ah i know right ...   \n",
       "11   just checking if it works yeah it opens it op...   \n",
       "12  yeah march  okay and you are team  or group  y...   \n",
       "13  okay it says draw the flow chart but it doesnt...   \n",
       "14  plus people oh there it is crosstalk  like to ...   \n",
       "15  oh yeah i can imagine must be very difficult a...   \n",
       "16  i think its recording now is there anything yo...   \n",
       "17  oh god inaudible  oh my god this is actually r...   \n",
       "18  yes okay okay do this activity with the sum an...   \n",
       "19  inaudible  marco lets try the functions first ...   \n",
       "20  working yeah im trying to figure out how to us...   \n",
       "21  is it working yeah thats pretty confusing you ...   \n",
       "22  thank you i like it too  were going to be play...   \n",
       "23  when you finish today call me over and i will ...   \n",
       "24  richard hoel  your number  im going to be an i...   \n",
       "25  no its anonymous youre a number and  damn i fe...   \n",
       "26  i apologize in advanced because i cuss a lot t...   \n",
       "27  today is march th  i got it sick lit i guess j...   \n",
       "\n",
       "                                         clean_Speech  \\\n",
       "0   [guess, yeah, sure, yeah, say, need, make, sur...   \n",
       "1   [matter, go, right, going, say, put, yeah, rig...   \n",
       "2   [right, user, need, choose, want, straight, on...   \n",
       "3   [good, right, need, choose, either, one, yeah,...   \n",
       "4   [didnt, realize, loud, ncc, tournament, going,...   \n",
       "5   [put, shirt, bro, put, shirt, yo, go, like, oh...   \n",
       "6   [recently, found, okay, thats, work, right, im...   \n",
       "7   [yeah, mmhmm, affirmative, dude, idea, im, gre...   \n",
       "8   [th, max, basically, go, number, bigger, doesn...   \n",
       "9   [right, average, average, right, think, unders...   \n",
       "10  [thats, good, one, open, ah, know, right, sorr...   \n",
       "11  [checking, work, yeah, open, open, keep, uh, p...   \n",
       "12  [yeah, march, okay, team, group, yeah, perfect...   \n",
       "13  [okay, say, draw, flow, chart, doesnt, say, su...   \n",
       "14  [plus, people, oh, like, invoke, method, say, ...   \n",
       "15  [oh, yeah, imagine, must, difficult, anyways, ...   \n",
       "16  [think, recording, anything, want, say, teache...   \n",
       "17  [oh, god, oh, god, actually, ridiculous, oh, b...   \n",
       "18  [yes, okay, okay, activity, sum, activity, wri...   \n",
       "19  [marco, let, try, function, first, could, inpu...   \n",
       "20  [working, yeah, im, trying, figure, use, metho...   \n",
       "21  [working, yeah, thats, pretty, confusing, woul...   \n",
       "22  [thank, like, going, playing, around, method, ...   \n",
       "23  [finish, today, call, hows, looking, oh, aw, d...   \n",
       "24  [richard, number, im, going, integer, today, k...   \n",
       "25  [anonymous, youre, number, damn, feel, like, g...   \n",
       "26  [apologize, advanced, cuss, lot, testing, one,...   \n",
       "27  [today, march, th, got, sick, lit, guess, clip...   \n",
       "\n",
       "                                          Speech_sent  \n",
       "0   guess  yeah  sure  yeah  say  need  make  sure...  \n",
       "1   matter  go  right  going  say  put  yeah  righ...  \n",
       "2   right  user  need  choose  want  straight  one...  \n",
       "3   good  right  need  choose  either  one  yeah  ...  \n",
       "4   didnt  realize  loud  ncc  tournament  going  ...  \n",
       "5   put  shirt  bro  put  shirt  yo  go  like  oh ...  \n",
       "6   recently  found  okay  thats  work  right  im ...  \n",
       "7   yeah  mmhmm  affirmative  dude  idea  im  grea...  \n",
       "8   th  max  basically  go  number  bigger  doesnt...  \n",
       "9   right  average  average  right  think  underst...  \n",
       "10  thats  good  one  open  ah  know  right  sorry...  \n",
       "11  checking  work  yeah  open  open  keep  uh  pu...  \n",
       "12  yeah  march  okay  team  group  yeah  perfect ...  \n",
       "13  okay  say  draw  flow  chart  doesnt  say  sub...  \n",
       "14  plus  people  oh  like  invoke  method  say  r...  \n",
       "15  oh  yeah  imagine  must  difficult  anyways  y...  \n",
       "16  think  recording  anything  want  say  teacher...  \n",
       "17  oh  god  oh  god  actually  ridiculous  oh  bo...  \n",
       "18  yes  okay  okay  activity  sum  activity  writ...  \n",
       "19  marco  let  try  function  first  could  input...  \n",
       "20  working  yeah  im  trying  figure  use  method...  \n",
       "21  working  yeah  thats  pretty  confusing  would...  \n",
       "22  thank  like  going  playing  around  method  d...  \n",
       "23  finish  today  call  hows  looking  oh  aw  du...  \n",
       "24  richard  number  im  going  integer  today  ke...  \n",
       "25  anonymous  youre  number  damn  feel  like  go...  \n",
       "26  apologize  advanced  cuss  lot  testing  one  ...  \n",
       "27  today  march  th  got  sick  lit  guess  clipp...  "
      ]
     },
     "execution_count": 397,
     "metadata": {},
     "output_type": "execute_result"
    }
   ],
   "source": [
    "df_0"
   ]
  },
  {
   "cell_type": "code",
   "execution_count": 398,
   "metadata": {},
   "outputs": [],
   "source": [
    "df_0.to_csv('Student_dataset.csv',index=False)"
   ]
  },
  {
   "cell_type": "markdown",
   "metadata": {},
   "source": [
    "#  Polarity Detection"
   ]
  },
  {
   "cell_type": "code",
   "execution_count": 434,
   "metadata": {},
   "outputs": [],
   "source": [
    "import pandas as pd\n",
    "from textblob import TextBlob\n",
    "df_0 = pd.read_csv('Student_dataset.csv')\n",
    "df_0 = df_0.drop(['clean_Speech'],axis=1)"
   ]
  },
  {
   "cell_type": "code",
   "execution_count": 435,
   "metadata": {},
   "outputs": [],
   "source": [
    "df_0['Polarity'] = df_0['Speech_sent'].apply(lambda x: TextBlob(x).sentiment[0])"
   ]
  },
  {
   "cell_type": "code",
   "execution_count": 436,
   "metadata": {},
   "outputs": [],
   "source": [
    "df_0['Sentiment'] = df_0['Polarity'].apply(lambda n: 1 if n > 0.05 else (0 if n < -0.05  else -1))"
   ]
  },
  {
   "cell_type": "code",
   "execution_count": 437,
   "metadata": {},
   "outputs": [],
   "source": [
    "df_0.to_csv('Polarity_Student.csv',index=False)"
   ]
  },
  {
   "cell_type": "code",
   "execution_count": 438,
   "metadata": {},
   "outputs": [],
   "source": [
    "df_0 = df_0.drop(['Polarity'],axis=1)"
   ]
  },
  {
   "cell_type": "code",
   "execution_count": 439,
   "metadata": {},
   "outputs": [
    {
     "data": {
      "text/html": [
       "<div>\n",
       "<style scoped>\n",
       "    .dataframe tbody tr th:only-of-type {\n",
       "        vertical-align: middle;\n",
       "    }\n",
       "\n",
       "    .dataframe tbody tr th {\n",
       "        vertical-align: top;\n",
       "    }\n",
       "\n",
       "    .dataframe thead th {\n",
       "        text-align: right;\n",
       "    }\n",
       "</style>\n",
       "<table border=\"1\" class=\"dataframe\">\n",
       "  <thead>\n",
       "    <tr style=\"text-align: right;\">\n",
       "      <th></th>\n",
       "      <th>Speech</th>\n",
       "      <th>Speech_sent</th>\n",
       "      <th>Sentiment</th>\n",
       "    </tr>\n",
       "  </thead>\n",
       "  <tbody>\n",
       "    <tr>\n",
       "      <th>0</th>\n",
       "      <td>i guess yeah sure yeah just say you do just ne...</td>\n",
       "      <td>guess  yeah  sure  yeah  say  need  make  sure...</td>\n",
       "      <td>1</td>\n",
       "    </tr>\n",
       "    <tr>\n",
       "      <th>1</th>\n",
       "      <td>does it matter where it goes all right because...</td>\n",
       "      <td>matter  go  right  going  say  put  yeah  righ...</td>\n",
       "      <td>1</td>\n",
       "    </tr>\n",
       "    <tr>\n",
       "      <th>2</th>\n",
       "      <td>all right so then the user needs to choose the...</td>\n",
       "      <td>right  user  need  choose  want  straight  one...</td>\n",
       "      <td>1</td>\n",
       "    </tr>\n",
       "    <tr>\n",
       "      <th>3</th>\n",
       "      <td>that should be good all right so they need to ...</td>\n",
       "      <td>good  right  need  choose  either  one  yeah  ...</td>\n",
       "      <td>1</td>\n",
       "    </tr>\n",
       "    <tr>\n",
       "      <th>4</th>\n",
       "      <td>i didnt realize how loud was  inaudible   inau...</td>\n",
       "      <td>didnt  realize  loud  ncc  tournament  going  ...</td>\n",
       "      <td>-1</td>\n",
       "    </tr>\n",
       "    <tr>\n",
       "      <th>5</th>\n",
       "      <td>inaudible  put it on your shirt bro inaudible ...</td>\n",
       "      <td>put  shirt  bro  put  shirt  yo  go  like  oh ...</td>\n",
       "      <td>1</td>\n",
       "    </tr>\n",
       "    <tr>\n",
       "      <th>6</th>\n",
       "      <td>i recently found out crosstalk  okay thats how...</td>\n",
       "      <td>recently  found  okay  thats  work  right  im ...</td>\n",
       "      <td>1</td>\n",
       "    </tr>\n",
       "    <tr>\n",
       "      <th>7</th>\n",
       "      <td>yeah just crosstalk  mmhmm affirmative crossta...</td>\n",
       "      <td>yeah  mmhmm  affirmative  dude  idea  im  grea...</td>\n",
       "      <td>1</td>\n",
       "    </tr>\n",
       "    <tr>\n",
       "      <th>8</th>\n",
       "      <td>th   max inaudible   that basically just goes...</td>\n",
       "      <td>th  max  basically  go  number  bigger  doesnt...</td>\n",
       "      <td>1</td>\n",
       "    </tr>\n",
       "    <tr>\n",
       "      <th>9</th>\n",
       "      <td>all right on the average what did they averag...</td>\n",
       "      <td>right  average  average  right  think  underst...</td>\n",
       "      <td>1</td>\n",
       "    </tr>\n",
       "    <tr>\n",
       "      <th>10</th>\n",
       "      <td>thats good does this one open ah i know right ...</td>\n",
       "      <td>thats  good  one  open  ah  know  right  sorry...</td>\n",
       "      <td>-1</td>\n",
       "    </tr>\n",
       "    <tr>\n",
       "      <th>11</th>\n",
       "      <td>just checking if it works yeah it opens it op...</td>\n",
       "      <td>checking  work  yeah  open  open  keep  uh  pu...</td>\n",
       "      <td>1</td>\n",
       "    </tr>\n",
       "    <tr>\n",
       "      <th>12</th>\n",
       "      <td>yeah march  okay and you are team  or group  y...</td>\n",
       "      <td>yeah  march  okay  team  group  yeah  perfect ...</td>\n",
       "      <td>1</td>\n",
       "    </tr>\n",
       "    <tr>\n",
       "      <th>13</th>\n",
       "      <td>okay it says draw the flow chart but it doesnt...</td>\n",
       "      <td>okay  say  draw  flow  chart  doesnt  say  sub...</td>\n",
       "      <td>1</td>\n",
       "    </tr>\n",
       "    <tr>\n",
       "      <th>14</th>\n",
       "      <td>plus people oh there it is crosstalk  like to ...</td>\n",
       "      <td>plus  people  oh  like  invoke  method  say  r...</td>\n",
       "      <td>1</td>\n",
       "    </tr>\n",
       "    <tr>\n",
       "      <th>15</th>\n",
       "      <td>oh yeah i can imagine must be very difficult a...</td>\n",
       "      <td>oh  yeah  imagine  must  difficult  anyways  y...</td>\n",
       "      <td>1</td>\n",
       "    </tr>\n",
       "    <tr>\n",
       "      <th>16</th>\n",
       "      <td>i think its recording now is there anything yo...</td>\n",
       "      <td>think  recording  anything  want  say  teacher...</td>\n",
       "      <td>-1</td>\n",
       "    </tr>\n",
       "    <tr>\n",
       "      <th>17</th>\n",
       "      <td>oh god inaudible  oh my god this is actually r...</td>\n",
       "      <td>oh  god  oh  god  actually  ridiculous  oh  bo...</td>\n",
       "      <td>-1</td>\n",
       "    </tr>\n",
       "    <tr>\n",
       "      <th>18</th>\n",
       "      <td>yes okay okay do this activity with the sum an...</td>\n",
       "      <td>yes  okay  okay  activity  sum  activity  writ...</td>\n",
       "      <td>1</td>\n",
       "    </tr>\n",
       "    <tr>\n",
       "      <th>19</th>\n",
       "      <td>inaudible  marco lets try the functions first ...</td>\n",
       "      <td>marco  let  try  function  first  could  input...</td>\n",
       "      <td>1</td>\n",
       "    </tr>\n",
       "    <tr>\n",
       "      <th>20</th>\n",
       "      <td>working yeah im trying to figure out how to us...</td>\n",
       "      <td>working  yeah  im  trying  figure  use  method...</td>\n",
       "      <td>1</td>\n",
       "    </tr>\n",
       "    <tr>\n",
       "      <th>21</th>\n",
       "      <td>is it working yeah thats pretty confusing you ...</td>\n",
       "      <td>working  yeah  thats  pretty  confusing  would...</td>\n",
       "      <td>1</td>\n",
       "    </tr>\n",
       "    <tr>\n",
       "      <th>22</th>\n",
       "      <td>thank you i like it too  were going to be play...</td>\n",
       "      <td>thank  like  going  playing  around  method  d...</td>\n",
       "      <td>1</td>\n",
       "    </tr>\n",
       "    <tr>\n",
       "      <th>23</th>\n",
       "      <td>when you finish today call me over and i will ...</td>\n",
       "      <td>finish  today  call  hows  looking  oh  aw  du...</td>\n",
       "      <td>1</td>\n",
       "    </tr>\n",
       "    <tr>\n",
       "      <th>24</th>\n",
       "      <td>richard hoel  your number  im going to be an i...</td>\n",
       "      <td>richard  number  im  going  integer  today  ke...</td>\n",
       "      <td>-1</td>\n",
       "    </tr>\n",
       "    <tr>\n",
       "      <th>25</th>\n",
       "      <td>no its anonymous youre a number and  damn i fe...</td>\n",
       "      <td>anonymous  youre  number  damn  feel  like  go...</td>\n",
       "      <td>-1</td>\n",
       "    </tr>\n",
       "    <tr>\n",
       "      <th>26</th>\n",
       "      <td>i apologize in advanced because i cuss a lot t...</td>\n",
       "      <td>apologize  advanced  cuss  lot  testing  one  ...</td>\n",
       "      <td>1</td>\n",
       "    </tr>\n",
       "    <tr>\n",
       "      <th>27</th>\n",
       "      <td>today is march th  i got it sick lit i guess j...</td>\n",
       "      <td>today  march  th  got  sick  lit  guess  clipp...</td>\n",
       "      <td>1</td>\n",
       "    </tr>\n",
       "  </tbody>\n",
       "</table>\n",
       "</div>"
      ],
      "text/plain": [
       "                                               Speech  \\\n",
       "0   i guess yeah sure yeah just say you do just ne...   \n",
       "1   does it matter where it goes all right because...   \n",
       "2   all right so then the user needs to choose the...   \n",
       "3   that should be good all right so they need to ...   \n",
       "4   i didnt realize how loud was  inaudible   inau...   \n",
       "5   inaudible  put it on your shirt bro inaudible ...   \n",
       "6   i recently found out crosstalk  okay thats how...   \n",
       "7   yeah just crosstalk  mmhmm affirmative crossta...   \n",
       "8    th   max inaudible   that basically just goes...   \n",
       "9    all right on the average what did they averag...   \n",
       "10  thats good does this one open ah i know right ...   \n",
       "11   just checking if it works yeah it opens it op...   \n",
       "12  yeah march  okay and you are team  or group  y...   \n",
       "13  okay it says draw the flow chart but it doesnt...   \n",
       "14  plus people oh there it is crosstalk  like to ...   \n",
       "15  oh yeah i can imagine must be very difficult a...   \n",
       "16  i think its recording now is there anything yo...   \n",
       "17  oh god inaudible  oh my god this is actually r...   \n",
       "18  yes okay okay do this activity with the sum an...   \n",
       "19  inaudible  marco lets try the functions first ...   \n",
       "20  working yeah im trying to figure out how to us...   \n",
       "21  is it working yeah thats pretty confusing you ...   \n",
       "22  thank you i like it too  were going to be play...   \n",
       "23  when you finish today call me over and i will ...   \n",
       "24  richard hoel  your number  im going to be an i...   \n",
       "25  no its anonymous youre a number and  damn i fe...   \n",
       "26  i apologize in advanced because i cuss a lot t...   \n",
       "27  today is march th  i got it sick lit i guess j...   \n",
       "\n",
       "                                          Speech_sent  Sentiment  \n",
       "0   guess  yeah  sure  yeah  say  need  make  sure...          1  \n",
       "1   matter  go  right  going  say  put  yeah  righ...          1  \n",
       "2   right  user  need  choose  want  straight  one...          1  \n",
       "3   good  right  need  choose  either  one  yeah  ...          1  \n",
       "4   didnt  realize  loud  ncc  tournament  going  ...         -1  \n",
       "5   put  shirt  bro  put  shirt  yo  go  like  oh ...          1  \n",
       "6   recently  found  okay  thats  work  right  im ...          1  \n",
       "7   yeah  mmhmm  affirmative  dude  idea  im  grea...          1  \n",
       "8   th  max  basically  go  number  bigger  doesnt...          1  \n",
       "9   right  average  average  right  think  underst...          1  \n",
       "10  thats  good  one  open  ah  know  right  sorry...         -1  \n",
       "11  checking  work  yeah  open  open  keep  uh  pu...          1  \n",
       "12  yeah  march  okay  team  group  yeah  perfect ...          1  \n",
       "13  okay  say  draw  flow  chart  doesnt  say  sub...          1  \n",
       "14  plus  people  oh  like  invoke  method  say  r...          1  \n",
       "15  oh  yeah  imagine  must  difficult  anyways  y...          1  \n",
       "16  think  recording  anything  want  say  teacher...         -1  \n",
       "17  oh  god  oh  god  actually  ridiculous  oh  bo...         -1  \n",
       "18  yes  okay  okay  activity  sum  activity  writ...          1  \n",
       "19  marco  let  try  function  first  could  input...          1  \n",
       "20  working  yeah  im  trying  figure  use  method...          1  \n",
       "21  working  yeah  thats  pretty  confusing  would...          1  \n",
       "22  thank  like  going  playing  around  method  d...          1  \n",
       "23  finish  today  call  hows  looking  oh  aw  du...          1  \n",
       "24  richard  number  im  going  integer  today  ke...         -1  \n",
       "25  anonymous  youre  number  damn  feel  like  go...         -1  \n",
       "26  apologize  advanced  cuss  lot  testing  one  ...          1  \n",
       "27  today  march  th  got  sick  lit  guess  clipp...          1  "
      ]
     },
     "execution_count": 439,
     "metadata": {},
     "output_type": "execute_result"
    }
   ],
   "source": [
    "df_0"
   ]
  },
  {
   "cell_type": "markdown",
   "metadata": {},
   "source": [
    "#                Multi-Class Emotion Analysis for each student"
   ]
  },
  {
   "cell_type": "code",
   "execution_count": 440,
   "metadata": {},
   "outputs": [],
   "source": [
    "import text2emotion as te\n",
    "def text_2_emotions(text):\n",
    "    result = te.get_emotion(text)\n",
    "    return result"
   ]
  },
  {
   "cell_type": "code",
   "execution_count": 441,
   "metadata": {},
   "outputs": [],
   "source": [
    "res = [text_2_emotions(df_0['Speech_sent'][asp]) for asp in range(len(df_0))]"
   ]
  },
  {
   "cell_type": "code",
   "execution_count": 442,
   "metadata": {},
   "outputs": [],
   "source": [
    "df_0['emotions'] = res"
   ]
  },
  {
   "cell_type": "code",
   "execution_count": 453,
   "metadata": {},
   "outputs": [
    {
     "data": {
      "text/plain": [
       "{'Happy': 0.06, 'Angry': 0.04, 'Surprise': 0.26, 'Sad': 0.23, 'Fear': 0.41}"
      ]
     },
     "execution_count": 453,
     "metadata": {},
     "output_type": "execute_result"
    }
   ],
   "source": [
    "df_0['emotions'][11]"
   ]
  },
  {
   "cell_type": "code",
   "execution_count": 412,
   "metadata": {},
   "outputs": [
    {
     "data": {
      "text/html": [
       "<div>\n",
       "<style scoped>\n",
       "    .dataframe tbody tr th:only-of-type {\n",
       "        vertical-align: middle;\n",
       "    }\n",
       "\n",
       "    .dataframe tbody tr th {\n",
       "        vertical-align: top;\n",
       "    }\n",
       "\n",
       "    .dataframe thead th {\n",
       "        text-align: right;\n",
       "    }\n",
       "</style>\n",
       "<table border=\"1\" class=\"dataframe\">\n",
       "  <thead>\n",
       "    <tr style=\"text-align: right;\">\n",
       "      <th></th>\n",
       "      <th>Speech</th>\n",
       "      <th>Speech_sent</th>\n",
       "      <th>Sentiment</th>\n",
       "      <th>emotions</th>\n",
       "    </tr>\n",
       "  </thead>\n",
       "  <tbody>\n",
       "    <tr>\n",
       "      <th>0</th>\n",
       "      <td>i guess yeah sure yeah just say you do just ne...</td>\n",
       "      <td>guess  yeah  sure  yeah  say  need  make  sure...</td>\n",
       "      <td>1</td>\n",
       "      <td>{'Happy': 0.06, 'Angry': 0.03, 'Surprise': 0.2...</td>\n",
       "    </tr>\n",
       "    <tr>\n",
       "      <th>1</th>\n",
       "      <td>does it matter where it goes all right because...</td>\n",
       "      <td>matter  go  right  going  say  put  yeah  righ...</td>\n",
       "      <td>1</td>\n",
       "      <td>{'Happy': 0.08, 'Angry': 0.03, 'Surprise': 0.3...</td>\n",
       "    </tr>\n",
       "    <tr>\n",
       "      <th>2</th>\n",
       "      <td>all right so then the user needs to choose the...</td>\n",
       "      <td>right  user  need  choose  want  straight  one...</td>\n",
       "      <td>1</td>\n",
       "      <td>{'Happy': 0.04, 'Angry': 0.02, 'Surprise': 0.2...</td>\n",
       "    </tr>\n",
       "    <tr>\n",
       "      <th>3</th>\n",
       "      <td>that should be good all right so they need to ...</td>\n",
       "      <td>good  right  need  choose  either  one  yeah  ...</td>\n",
       "      <td>1</td>\n",
       "      <td>{'Happy': 0.07, 'Angry': 0.03, 'Surprise': 0.2...</td>\n",
       "    </tr>\n",
       "    <tr>\n",
       "      <th>4</th>\n",
       "      <td>i didnt realize how loud was  inaudible   inau...</td>\n",
       "      <td>didnt  realize  loud  ncc  tournament  going  ...</td>\n",
       "      <td>-1</td>\n",
       "      <td>{'Happy': 0.1, 'Angry': 0.06, 'Surprise': 0.32...</td>\n",
       "    </tr>\n",
       "    <tr>\n",
       "      <th>5</th>\n",
       "      <td>inaudible  put it on your shirt bro inaudible ...</td>\n",
       "      <td>put  shirt  bro  put  shirt  yo  go  like  oh ...</td>\n",
       "      <td>1</td>\n",
       "      <td>{'Happy': 0.08, 'Angry': 0.04, 'Surprise': 0.3...</td>\n",
       "    </tr>\n",
       "    <tr>\n",
       "      <th>6</th>\n",
       "      <td>i recently found out crosstalk  okay thats how...</td>\n",
       "      <td>recently  found  okay  thats  work  right  im ...</td>\n",
       "      <td>1</td>\n",
       "      <td>{'Happy': 0.07, 'Angry': 0.02, 'Surprise': 0.2...</td>\n",
       "    </tr>\n",
       "    <tr>\n",
       "      <th>7</th>\n",
       "      <td>yeah just crosstalk  mmhmm affirmative crossta...</td>\n",
       "      <td>yeah  mmhmm  affirmative  dude  idea  im  grea...</td>\n",
       "      <td>1</td>\n",
       "      <td>{'Happy': 0.06, 'Angry': 0.04, 'Surprise': 0.2...</td>\n",
       "    </tr>\n",
       "    <tr>\n",
       "      <th>8</th>\n",
       "      <td>th   max inaudible   that basically just goes...</td>\n",
       "      <td>th  max  basically  go  number  bigger  doesnt...</td>\n",
       "      <td>1</td>\n",
       "      <td>{'Happy': 0.02, 'Angry': 0.03, 'Surprise': 0.2...</td>\n",
       "    </tr>\n",
       "    <tr>\n",
       "      <th>9</th>\n",
       "      <td>all right on the average what did they averag...</td>\n",
       "      <td>right  average  average  right  think  underst...</td>\n",
       "      <td>1</td>\n",
       "      <td>{'Happy': 0.05, 'Angry': 0.03, 'Surprise': 0.3...</td>\n",
       "    </tr>\n",
       "    <tr>\n",
       "      <th>10</th>\n",
       "      <td>thats good does this one open ah i know right ...</td>\n",
       "      <td>thats  good  one  open  ah  know  right  sorry...</td>\n",
       "      <td>-1</td>\n",
       "      <td>{'Happy': 0.03, 'Angry': 0.05, 'Surprise': 0.2...</td>\n",
       "    </tr>\n",
       "    <tr>\n",
       "      <th>11</th>\n",
       "      <td>just checking if it works yeah it opens it op...</td>\n",
       "      <td>checking  work  yeah  open  open  keep  uh  pu...</td>\n",
       "      <td>1</td>\n",
       "      <td>{'Happy': 0.06, 'Angry': 0.04, 'Surprise': 0.2...</td>\n",
       "    </tr>\n",
       "    <tr>\n",
       "      <th>12</th>\n",
       "      <td>yeah march  okay and you are team  or group  y...</td>\n",
       "      <td>yeah  march  okay  team  group  yeah  perfect ...</td>\n",
       "      <td>1</td>\n",
       "      <td>{'Happy': 0.01, 'Angry': 0.06, 'Surprise': 0.3...</td>\n",
       "    </tr>\n",
       "    <tr>\n",
       "      <th>13</th>\n",
       "      <td>okay it says draw the flow chart but it doesnt...</td>\n",
       "      <td>okay  say  draw  flow  chart  doesnt  say  sub...</td>\n",
       "      <td>1</td>\n",
       "      <td>{'Happy': 0.04, 'Angry': 0.05, 'Surprise': 0.2...</td>\n",
       "    </tr>\n",
       "    <tr>\n",
       "      <th>14</th>\n",
       "      <td>plus people oh there it is crosstalk  like to ...</td>\n",
       "      <td>plus  people  oh  like  invoke  method  say  r...</td>\n",
       "      <td>1</td>\n",
       "      <td>{'Happy': 0.06, 'Angry': 0.03, 'Surprise': 0.2...</td>\n",
       "    </tr>\n",
       "    <tr>\n",
       "      <th>15</th>\n",
       "      <td>oh yeah i can imagine must be very difficult a...</td>\n",
       "      <td>oh  yeah  imagine  must  difficult  anyways  y...</td>\n",
       "      <td>1</td>\n",
       "      <td>{'Happy': 0.05, 'Angry': 0.02, 'Surprise': 0.2...</td>\n",
       "    </tr>\n",
       "    <tr>\n",
       "      <th>16</th>\n",
       "      <td>i think its recording now is there anything yo...</td>\n",
       "      <td>think  recording  anything  want  say  teacher...</td>\n",
       "      <td>-1</td>\n",
       "      <td>{'Happy': 0.08, 'Angry': 0.05, 'Surprise': 0.2...</td>\n",
       "    </tr>\n",
       "    <tr>\n",
       "      <th>17</th>\n",
       "      <td>oh god inaudible  oh my god this is actually r...</td>\n",
       "      <td>oh  god  oh  god  actually  ridiculous  oh  bo...</td>\n",
       "      <td>-1</td>\n",
       "      <td>{'Happy': 0.11, 'Angry': 0.04, 'Surprise': 0.2...</td>\n",
       "    </tr>\n",
       "    <tr>\n",
       "      <th>18</th>\n",
       "      <td>yes okay okay do this activity with the sum an...</td>\n",
       "      <td>yes  okay  okay  activity  sum  activity  writ...</td>\n",
       "      <td>1</td>\n",
       "      <td>{'Happy': 0.07, 'Angry': 0.03, 'Surprise': 0.2...</td>\n",
       "    </tr>\n",
       "    <tr>\n",
       "      <th>19</th>\n",
       "      <td>inaudible  marco lets try the functions first ...</td>\n",
       "      <td>marco  let  try  function  first  could  input...</td>\n",
       "      <td>1</td>\n",
       "      <td>{'Happy': 0.13, 'Angry': 0.04, 'Surprise': 0.2...</td>\n",
       "    </tr>\n",
       "    <tr>\n",
       "      <th>20</th>\n",
       "      <td>working yeah im trying to figure out how to us...</td>\n",
       "      <td>working  yeah  im  trying  figure  use  method...</td>\n",
       "      <td>1</td>\n",
       "      <td>{'Happy': 0.03, 'Angry': 0.04, 'Surprise': 0.3...</td>\n",
       "    </tr>\n",
       "    <tr>\n",
       "      <th>21</th>\n",
       "      <td>is it working yeah thats pretty confusing you ...</td>\n",
       "      <td>working  yeah  thats  pretty  confusing  would...</td>\n",
       "      <td>1</td>\n",
       "      <td>{'Happy': 0.08, 'Angry': 0.06, 'Surprise': 0.3...</td>\n",
       "    </tr>\n",
       "    <tr>\n",
       "      <th>22</th>\n",
       "      <td>thank you i like it too  were going to be play...</td>\n",
       "      <td>thank  like  going  playing  around  method  d...</td>\n",
       "      <td>1</td>\n",
       "      <td>{'Happy': 0.07, 'Angry': 0.04, 'Surprise': 0.2...</td>\n",
       "    </tr>\n",
       "    <tr>\n",
       "      <th>23</th>\n",
       "      <td>when you finish today call me over and i will ...</td>\n",
       "      <td>finish  today  call  hows  looking  oh  aw  du...</td>\n",
       "      <td>1</td>\n",
       "      <td>{'Happy': 0.06, 'Angry': 0.05, 'Surprise': 0.2...</td>\n",
       "    </tr>\n",
       "    <tr>\n",
       "      <th>24</th>\n",
       "      <td>richard hoel  your number  im going to be an i...</td>\n",
       "      <td>richard  number  im  going  integer  today  ke...</td>\n",
       "      <td>-1</td>\n",
       "      <td>{'Happy': 0.1, 'Angry': 0.05, 'Surprise': 0.27...</td>\n",
       "    </tr>\n",
       "    <tr>\n",
       "      <th>25</th>\n",
       "      <td>no its anonymous youre a number and  damn i fe...</td>\n",
       "      <td>anonymous  youre  number  damn  feel  like  go...</td>\n",
       "      <td>-1</td>\n",
       "      <td>{'Happy': 0.1, 'Angry': 0.03, 'Surprise': 0.31...</td>\n",
       "    </tr>\n",
       "    <tr>\n",
       "      <th>26</th>\n",
       "      <td>i apologize in advanced because i cuss a lot t...</td>\n",
       "      <td>apologize  advanced  cuss  lot  testing  one  ...</td>\n",
       "      <td>1</td>\n",
       "      <td>{'Happy': 0.07, 'Angry': 0.04, 'Surprise': 0.2...</td>\n",
       "    </tr>\n",
       "    <tr>\n",
       "      <th>27</th>\n",
       "      <td>today is march th  i got it sick lit i guess j...</td>\n",
       "      <td>today  march  th  got  sick  lit  guess  clipp...</td>\n",
       "      <td>1</td>\n",
       "      <td>{'Happy': 0.05, 'Angry': 0.03, 'Surprise': 0.2...</td>\n",
       "    </tr>\n",
       "  </tbody>\n",
       "</table>\n",
       "</div>"
      ],
      "text/plain": [
       "                                               Speech  \\\n",
       "0   i guess yeah sure yeah just say you do just ne...   \n",
       "1   does it matter where it goes all right because...   \n",
       "2   all right so then the user needs to choose the...   \n",
       "3   that should be good all right so they need to ...   \n",
       "4   i didnt realize how loud was  inaudible   inau...   \n",
       "5   inaudible  put it on your shirt bro inaudible ...   \n",
       "6   i recently found out crosstalk  okay thats how...   \n",
       "7   yeah just crosstalk  mmhmm affirmative crossta...   \n",
       "8    th   max inaudible   that basically just goes...   \n",
       "9    all right on the average what did they averag...   \n",
       "10  thats good does this one open ah i know right ...   \n",
       "11   just checking if it works yeah it opens it op...   \n",
       "12  yeah march  okay and you are team  or group  y...   \n",
       "13  okay it says draw the flow chart but it doesnt...   \n",
       "14  plus people oh there it is crosstalk  like to ...   \n",
       "15  oh yeah i can imagine must be very difficult a...   \n",
       "16  i think its recording now is there anything yo...   \n",
       "17  oh god inaudible  oh my god this is actually r...   \n",
       "18  yes okay okay do this activity with the sum an...   \n",
       "19  inaudible  marco lets try the functions first ...   \n",
       "20  working yeah im trying to figure out how to us...   \n",
       "21  is it working yeah thats pretty confusing you ...   \n",
       "22  thank you i like it too  were going to be play...   \n",
       "23  when you finish today call me over and i will ...   \n",
       "24  richard hoel  your number  im going to be an i...   \n",
       "25  no its anonymous youre a number and  damn i fe...   \n",
       "26  i apologize in advanced because i cuss a lot t...   \n",
       "27  today is march th  i got it sick lit i guess j...   \n",
       "\n",
       "                                          Speech_sent  Sentiment  \\\n",
       "0   guess  yeah  sure  yeah  say  need  make  sure...          1   \n",
       "1   matter  go  right  going  say  put  yeah  righ...          1   \n",
       "2   right  user  need  choose  want  straight  one...          1   \n",
       "3   good  right  need  choose  either  one  yeah  ...          1   \n",
       "4   didnt  realize  loud  ncc  tournament  going  ...         -1   \n",
       "5   put  shirt  bro  put  shirt  yo  go  like  oh ...          1   \n",
       "6   recently  found  okay  thats  work  right  im ...          1   \n",
       "7   yeah  mmhmm  affirmative  dude  idea  im  grea...          1   \n",
       "8   th  max  basically  go  number  bigger  doesnt...          1   \n",
       "9   right  average  average  right  think  underst...          1   \n",
       "10  thats  good  one  open  ah  know  right  sorry...         -1   \n",
       "11  checking  work  yeah  open  open  keep  uh  pu...          1   \n",
       "12  yeah  march  okay  team  group  yeah  perfect ...          1   \n",
       "13  okay  say  draw  flow  chart  doesnt  say  sub...          1   \n",
       "14  plus  people  oh  like  invoke  method  say  r...          1   \n",
       "15  oh  yeah  imagine  must  difficult  anyways  y...          1   \n",
       "16  think  recording  anything  want  say  teacher...         -1   \n",
       "17  oh  god  oh  god  actually  ridiculous  oh  bo...         -1   \n",
       "18  yes  okay  okay  activity  sum  activity  writ...          1   \n",
       "19  marco  let  try  function  first  could  input...          1   \n",
       "20  working  yeah  im  trying  figure  use  method...          1   \n",
       "21  working  yeah  thats  pretty  confusing  would...          1   \n",
       "22  thank  like  going  playing  around  method  d...          1   \n",
       "23  finish  today  call  hows  looking  oh  aw  du...          1   \n",
       "24  richard  number  im  going  integer  today  ke...         -1   \n",
       "25  anonymous  youre  number  damn  feel  like  go...         -1   \n",
       "26  apologize  advanced  cuss  lot  testing  one  ...          1   \n",
       "27  today  march  th  got  sick  lit  guess  clipp...          1   \n",
       "\n",
       "                                             emotions  \n",
       "0   {'Happy': 0.06, 'Angry': 0.03, 'Surprise': 0.2...  \n",
       "1   {'Happy': 0.08, 'Angry': 0.03, 'Surprise': 0.3...  \n",
       "2   {'Happy': 0.04, 'Angry': 0.02, 'Surprise': 0.2...  \n",
       "3   {'Happy': 0.07, 'Angry': 0.03, 'Surprise': 0.2...  \n",
       "4   {'Happy': 0.1, 'Angry': 0.06, 'Surprise': 0.32...  \n",
       "5   {'Happy': 0.08, 'Angry': 0.04, 'Surprise': 0.3...  \n",
       "6   {'Happy': 0.07, 'Angry': 0.02, 'Surprise': 0.2...  \n",
       "7   {'Happy': 0.06, 'Angry': 0.04, 'Surprise': 0.2...  \n",
       "8   {'Happy': 0.02, 'Angry': 0.03, 'Surprise': 0.2...  \n",
       "9   {'Happy': 0.05, 'Angry': 0.03, 'Surprise': 0.3...  \n",
       "10  {'Happy': 0.03, 'Angry': 0.05, 'Surprise': 0.2...  \n",
       "11  {'Happy': 0.06, 'Angry': 0.04, 'Surprise': 0.2...  \n",
       "12  {'Happy': 0.01, 'Angry': 0.06, 'Surprise': 0.3...  \n",
       "13  {'Happy': 0.04, 'Angry': 0.05, 'Surprise': 0.2...  \n",
       "14  {'Happy': 0.06, 'Angry': 0.03, 'Surprise': 0.2...  \n",
       "15  {'Happy': 0.05, 'Angry': 0.02, 'Surprise': 0.2...  \n",
       "16  {'Happy': 0.08, 'Angry': 0.05, 'Surprise': 0.2...  \n",
       "17  {'Happy': 0.11, 'Angry': 0.04, 'Surprise': 0.2...  \n",
       "18  {'Happy': 0.07, 'Angry': 0.03, 'Surprise': 0.2...  \n",
       "19  {'Happy': 0.13, 'Angry': 0.04, 'Surprise': 0.2...  \n",
       "20  {'Happy': 0.03, 'Angry': 0.04, 'Surprise': 0.3...  \n",
       "21  {'Happy': 0.08, 'Angry': 0.06, 'Surprise': 0.3...  \n",
       "22  {'Happy': 0.07, 'Angry': 0.04, 'Surprise': 0.2...  \n",
       "23  {'Happy': 0.06, 'Angry': 0.05, 'Surprise': 0.2...  \n",
       "24  {'Happy': 0.1, 'Angry': 0.05, 'Surprise': 0.27...  \n",
       "25  {'Happy': 0.1, 'Angry': 0.03, 'Surprise': 0.31...  \n",
       "26  {'Happy': 0.07, 'Angry': 0.04, 'Surprise': 0.2...  \n",
       "27  {'Happy': 0.05, 'Angry': 0.03, 'Surprise': 0.2...  "
      ]
     },
     "execution_count": 412,
     "metadata": {},
     "output_type": "execute_result"
    }
   ],
   "source": [
    "df_0"
   ]
  },
  {
   "cell_type": "code",
   "execution_count": 454,
   "metadata": {},
   "outputs": [],
   "source": [
    "df_0.to_csv('student_emotions.csv',index=False)"
   ]
  }
 ],
 "metadata": {
  "kernelspec": {
   "display_name": "Python 3",
   "language": "python",
   "name": "python3"
  },
  "language_info": {
   "codemirror_mode": {
    "name": "ipython",
    "version": 3
   },
   "file_extension": ".py",
   "mimetype": "text/x-python",
   "name": "python",
   "nbconvert_exporter": "python",
   "pygments_lexer": "ipython3",
   "version": "3.8.5"
  }
 },
 "nbformat": 4,
 "nbformat_minor": 4
}
