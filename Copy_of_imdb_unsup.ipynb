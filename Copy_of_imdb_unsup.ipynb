{
  "nbformat": 4,
  "nbformat_minor": 0,
  "metadata": {
    "colab": {
      "name": "Copy of imdb_unsup.ipynb",
      "provenance": [],
      "collapsed_sections": [],
      "authorship_tag": "ABX9TyMXF4SW9WYMqYsJBTClxoCU",
      "include_colab_link": true
    },
    "kernelspec": {
      "name": "python3",
      "display_name": "Python 3"
    }
  },
  "cells": [
    {
      "cell_type": "markdown",
      "metadata": {
        "id": "view-in-github",
        "colab_type": "text"
      },
      "source": [
        "<a href=\"https://colab.research.google.com/github/dhivyapm/NLP/blob/main/Copy_of_imdb_unsup.ipynb\" target=\"_parent\"><img src=\"https://colab.research.google.com/assets/colab-badge.svg\" alt=\"Open In Colab\"/></a>"
      ]
    },
    {
      "cell_type": "code",
      "metadata": {
        "id": "RAw57w6jmcqn"
      },
      "source": [
        "import matplotlib.pyplot as plt\r\n",
        "import os\r\n",
        "import re\r\n",
        "import pandas as pd\r\n",
        "import numpy as np\r\n",
        "import tensorflow as tf"
      ],
      "execution_count": null,
      "outputs": []
    },
    {
      "cell_type": "code",
      "metadata": {
        "colab": {
          "base_uri": "https://localhost:8080/"
        },
        "id": "bxDEjky-mgI5",
        "outputId": "1eb8406e-4ee7-4b72-d818-8b9e8e1c3fbf"
      },
      "source": [
        "url = \"https://ai.stanford.edu/~amaas/data/sentiment/aclImdb_v1.tar.gz\"\r\n",
        "\r\n",
        "dataset = tf.keras.utils.get_file(\"aclImdb_v1.tar.gz\", url,\r\n",
        "                                    untar=True, cache_dir='.',\r\n",
        "                                    cache_subdir='')\r\n",
        "\r\n",
        "dataset_dir = os.path.join(os.path.dirname(dataset), 'aclImdb')"
      ],
      "execution_count": null,
      "outputs": [
        {
          "output_type": "stream",
          "text": [
            "Downloading data from https://ai.stanford.edu/~amaas/data/sentiment/aclImdb_v1.tar.gz\n",
            "84131840/84125825 [==============================] - 5s 0us/step\n"
          ],
          "name": "stdout"
        }
      ]
    },
    {
      "cell_type": "code",
      "metadata": {
        "colab": {
          "base_uri": "https://localhost:8080/"
        },
        "id": "I9gcQHoVmjos",
        "outputId": "3619d72f-ae23-4d7e-e120-ee262d07469a"
      },
      "source": [
        "os.listdir(dataset_dir)"
      ],
      "execution_count": null,
      "outputs": [
        {
          "output_type": "execute_result",
          "data": {
            "text/plain": [
              "['train', 'imdbEr.txt', 'imdb.vocab', 'test', 'README']"
            ]
          },
          "metadata": {
            "tags": []
          },
          "execution_count": 5
        }
      ]
    },
    {
      "cell_type": "code",
      "metadata": {
        "colab": {
          "base_uri": "https://localhost:8080/"
        },
        "id": "eeFQoPWXmrv3",
        "outputId": "6ed87b6e-230f-435f-c7af-1787f94931d7"
      },
      "source": [
        "train_dir = os.path.join(dataset_dir, 'train')\r\n",
        "os.listdir(train_dir)"
      ],
      "execution_count": null,
      "outputs": [
        {
          "output_type": "execute_result",
          "data": {
            "text/plain": [
              "['urls_unsup.txt',\n",
              " 'labeledBow.feat',\n",
              " 'unsupBow.feat',\n",
              " 'urls_neg.txt',\n",
              " 'urls_pos.txt',\n",
              " 'pos',\n",
              " 'neg',\n",
              " 'unsup']"
            ]
          },
          "metadata": {
            "tags": []
          },
          "execution_count": 6
        }
      ]
    },
    {
      "cell_type": "code",
      "metadata": {
        "id": "npenWL0r7W18"
      },
      "source": [
        "from glob import glob\r\n",
        "input_path = './aclImdb/train'\r\n",
        "# glob method from glob library used to retrieve files in specified path\r\n",
        "txt_paths = glob(input_path + '/unsup/*.txt')"
      ],
      "execution_count": null,
      "outputs": []
    },
    {
      "cell_type": "code",
      "metadata": {
        "id": "QOI8HeI59Ino"
      },
      "source": [
        "#reading the files in the path specified\r\n",
        "def get_text_from_file(path):\r\n",
        "    with open(path, 'r') as file:\r\n",
        "        return file.read()"
      ],
      "execution_count": null,
      "outputs": []
    },
    {
      "cell_type": "code",
      "metadata": {
        "id": "USuH7cQD7w1C"
      },
      "source": [
        "import pandas as pd\r\n",
        "#storing the review data to dataframe\r\n",
        "df = pd.DataFrame({'review': txt_paths})\r\n",
        "df['review'] = df['review'].apply(lambda path: get_text_from_file(path))"
      ],
      "execution_count": null,
      "outputs": []
    },
    {
      "cell_type": "code",
      "metadata": {
        "id": "D-dohlh7A9Iy"
      },
      "source": [
        "#saving the dataframe into csv format in the location\r\n",
        "output_path = './unsup.csv'\r\n",
        "df.to_csv(output_path, index = None, header=True)"
      ],
      "execution_count": null,
      "outputs": []
    },
    {
      "cell_type": "code",
      "metadata": {
        "colab": {
          "base_uri": "https://localhost:8080/",
          "height": 195
        },
        "id": "y8I8JbiO86l4",
        "outputId": "7416ecf5-d598-4714-bc28-f77c673a2a5b"
      },
      "source": [
        "import pandas as pd\r\n",
        "#reading the csv file \r\n",
        "df = pd.read_csv('/content/unsup.csv', sep=',')\r\n",
        "df.head(5)"
      ],
      "execution_count": null,
      "outputs": [
        {
          "output_type": "execute_result",
          "data": {
            "text/html": [
              "<div>\n",
              "<style scoped>\n",
              "    .dataframe tbody tr th:only-of-type {\n",
              "        vertical-align: middle;\n",
              "    }\n",
              "\n",
              "    .dataframe tbody tr th {\n",
              "        vertical-align: top;\n",
              "    }\n",
              "\n",
              "    .dataframe thead th {\n",
              "        text-align: right;\n",
              "    }\n",
              "</style>\n",
              "<table border=\"1\" class=\"dataframe\">\n",
              "  <thead>\n",
              "    <tr style=\"text-align: right;\">\n",
              "      <th></th>\n",
              "      <th>review</th>\n",
              "    </tr>\n",
              "  </thead>\n",
              "  <tbody>\n",
              "    <tr>\n",
              "      <th>0</th>\n",
              "      <td>Sometimes I review lists of the greatest 10, 2...</td>\n",
              "    </tr>\n",
              "    <tr>\n",
              "      <th>1</th>\n",
              "      <td>When I first heard that Eddie Murphy was going...</td>\n",
              "    </tr>\n",
              "    <tr>\n",
              "      <th>2</th>\n",
              "      <td>taking this legacy and making it into a movie ...</td>\n",
              "    </tr>\n",
              "    <tr>\n",
              "      <th>3</th>\n",
              "      <td>Truly, truly awful. The questions were mind-nu...</td>\n",
              "    </tr>\n",
              "    <tr>\n",
              "      <th>4</th>\n",
              "      <td>The idea of a mockumentary on creating a stere...</td>\n",
              "    </tr>\n",
              "  </tbody>\n",
              "</table>\n",
              "</div>"
            ],
            "text/plain": [
              "                                              review\n",
              "0  Sometimes I review lists of the greatest 10, 2...\n",
              "1  When I first heard that Eddie Murphy was going...\n",
              "2  taking this legacy and making it into a movie ...\n",
              "3  Truly, truly awful. The questions were mind-nu...\n",
              "4  The idea of a mockumentary on creating a stere..."
            ]
          },
          "metadata": {
            "tags": []
          },
          "execution_count": 75
        }
      ]
    },
    {
      "cell_type": "code",
      "metadata": {
        "id": "HXO0XH4aC299"
      },
      "source": [
        "#removing the punctuations from review column in the file \r\n",
        "punc = '''!()-[]{};:'\"\\, <>./?@#$%^&*_~''</br>,;'''\r\n",
        "for ele in df['review']:  \r\n",
        "    if ele in punc:  \r\n",
        "        df['review'] = test_str.replace(ele, \"\") "
      ],
      "execution_count": null,
      "outputs": []
    },
    {
      "cell_type": "code",
      "metadata": {
        "id": "i7-rORkcD5Ct"
      },
      "source": [
        "#converting the reviews to lowercase\r\n",
        "df['review'] = df['review'].apply(str.lower)"
      ],
      "execution_count": null,
      "outputs": []
    },
    {
      "cell_type": "code",
      "metadata": {
        "colab": {
          "base_uri": "https://localhost:8080/",
          "height": 402
        },
        "id": "Zx1C3wR-Jj2t",
        "outputId": "89031e79-e5eb-43ff-bf83-64884eef83f9"
      },
      "source": [
        "#count the sentence in each row in dataframe\r\n",
        "#df['sentence_count'] = df.apply(lambda row: nltk.sent_tokenize(row['review']), axis=1).apply(lambda x: len(x))\r\n",
        "from collections import Counter\r\n",
        "from nltk.corpus import stopwords\r\n",
        "#Word Tokenize the reviews\r\n",
        "df['clean_review'] = df.apply(lambda row: nltk.word_tokenize(row['review']), axis=1)\r\n",
        "  \r\n",
        "#Convert the tokens into lowercase\r\n",
        "df['clean_review'] = df.apply(lambda row: [t.lower() for t in row['clean_review']], axis=1)\r\n",
        "    \r\n",
        "#Retain only alphabetic_words\r\n",
        "df['clean_review'] = df.apply(lambda row: [t for t in row['clean_review'] if t.isalpha()], axis=1)    \r\n",
        "    \r\n",
        "#Remove all stop words\r\n",
        "nltk.download('stopwords')\r\n",
        "df['clean_review'] = df.apply(lambda row: [t for t in row['clean_review'] if t not in stopwords.words('english')], axis=1) \r\n",
        "    \r\n",
        "#Instantiate the WordNetLemmatizer\r\n",
        "from nltk import WordNetLemmatizer\r\n",
        "lemmatizer = WordNetLemmatizer()\r\n",
        "# stripping suffixes such as ‘ed’, ‘ing’, ‘tion’ etc. Ex. stemming ‘walked’ returns walk.  \r\n",
        "nltk.download('wordnet')\r\n",
        "df['clean_review'] = df.apply(lambda row: [lemmatizer.lemmatize(t) for t in row['clean_review']], axis=1)\r\n",
        "    \r\n",
        "#Stored Counter of tokenized words\r\n",
        "df['word_count'] = df.apply(lambda row: Counter(row['clean_review']), axis=1)\r\n",
        "df"
      ],
      "execution_count": null,
      "outputs": [
        {
          "output_type": "execute_result",
          "data": {
            "text/html": [
              "<div>\n",
              "<style scoped>\n",
              "    .dataframe tbody tr th:only-of-type {\n",
              "        vertical-align: middle;\n",
              "    }\n",
              "\n",
              "    .dataframe tbody tr th {\n",
              "        vertical-align: top;\n",
              "    }\n",
              "\n",
              "    .dataframe thead th {\n",
              "        text-align: right;\n",
              "    }\n",
              "</style>\n",
              "<table border=\"1\" class=\"dataframe\">\n",
              "  <thead>\n",
              "    <tr style=\"text-align: right;\">\n",
              "      <th></th>\n",
              "      <th>review</th>\n",
              "      <th>sentence_count</th>\n",
              "      <th>clean_review</th>\n",
              "      <th>word_count</th>\n",
              "    </tr>\n",
              "  </thead>\n",
              "  <tbody>\n",
              "    <tr>\n",
              "      <th>0</th>\n",
              "      <td>sometimes i review lists of the greatest 10, 2...</td>\n",
              "      <td>21</td>\n",
              "      <td>[sometimes, review, list, greatest, american, ...</td>\n",
              "      <td>{'sometimes': 1, 'review': 2, 'list': 3, 'grea...</td>\n",
              "    </tr>\n",
              "    <tr>\n",
              "      <th>1</th>\n",
              "      <td>when i first heard that eddie murphy was going...</td>\n",
              "      <td>12</td>\n",
              "      <td>[first, heard, eddie, murphy, going, star, hau...</td>\n",
              "      <td>{'first': 1, 'heard': 1, 'eddie': 1, 'murphy':...</td>\n",
              "    </tr>\n",
              "    <tr>\n",
              "      <th>2</th>\n",
              "      <td>taking this legacy and making it into a movie ...</td>\n",
              "      <td>16</td>\n",
              "      <td>[taking, legacy, making, movie, horrible, idea...</td>\n",
              "      <td>{'taking': 1, 'legacy': 1, 'making': 1, 'movie...</td>\n",
              "    </tr>\n",
              "    <tr>\n",
              "      <th>3</th>\n",
              "      <td>truly, truly awful. the questions were mind-nu...</td>\n",
              "      <td>5</td>\n",
              "      <td>[truly, truly, awful, question, dumb, commenta...</td>\n",
              "      <td>{'truly': 3, 'awful': 1, 'question': 1, 'dumb'...</td>\n",
              "    </tr>\n",
              "    <tr>\n",
              "      <th>4</th>\n",
              "      <td>the idea of a mockumentary on creating a stere...</td>\n",
              "      <td>10</td>\n",
              "      <td>[idea, mockumentary, creating, stereotypical, ...</td>\n",
              "      <td>{'idea': 1, 'mockumentary': 1, 'creating': 1, ...</td>\n",
              "    </tr>\n",
              "    <tr>\n",
              "      <th>...</th>\n",
              "      <td>...</td>\n",
              "      <td>...</td>\n",
              "      <td>...</td>\n",
              "      <td>...</td>\n",
              "    </tr>\n",
              "    <tr>\n",
              "      <th>49995</th>\n",
              "      <td>i saw this film at vision fest'05 in new york....</td>\n",
              "      <td>8</td>\n",
              "      <td>[saw, film, vision, new, york, film, worth, wa...</td>\n",
              "      <td>{'saw': 1, 'film': 2, 'vision': 2, 'new': 1, '...</td>\n",
              "    </tr>\n",
              "    <tr>\n",
              "      <th>49996</th>\n",
              "      <td>i saw derailroaded at the ica in london and i ...</td>\n",
              "      <td>12</td>\n",
              "      <td>[saw, derailroaded, ica, london, thrilled, see...</td>\n",
              "      <td>{'saw': 1, 'derailroaded': 2, 'ica': 1, 'londo...</td>\n",
              "    </tr>\n",
              "    <tr>\n",
              "      <th>49997</th>\n",
              "      <td>first, i was attracted by the trailer but i ne...</td>\n",
              "      <td>3</td>\n",
              "      <td>[first, attracted, trailer, never, thought, wo...</td>\n",
              "      <td>{'first': 1, 'attracted': 1, 'trailer': 1, 'ne...</td>\n",
              "    </tr>\n",
              "    <tr>\n",
              "      <th>49998</th>\n",
              "      <td>i have a feeling that most people are going to...</td>\n",
              "      <td>11</td>\n",
              "      <td>[feeling, people, going, either, really, like,...</td>\n",
              "      <td>{'feeling': 1, 'people': 1, 'going': 2, 'eithe...</td>\n",
              "    </tr>\n",
              "    <tr>\n",
              "      <th>49999</th>\n",
              "      <td>this is a good film to watch on a long winter ...</td>\n",
              "      <td>5</td>\n",
              "      <td>[good, film, watch, long, winter, evening, two...</td>\n",
              "      <td>{'good': 1, 'film': 2, 'watch': 1, 'long': 1, ...</td>\n",
              "    </tr>\n",
              "  </tbody>\n",
              "</table>\n",
              "<p>50000 rows × 4 columns</p>\n",
              "</div>"
            ],
            "text/plain": [
              "                                                  review  ...                                         word_count\n",
              "0      sometimes i review lists of the greatest 10, 2...  ...  {'sometimes': 1, 'review': 2, 'list': 3, 'grea...\n",
              "1      when i first heard that eddie murphy was going...  ...  {'first': 1, 'heard': 1, 'eddie': 1, 'murphy':...\n",
              "2      taking this legacy and making it into a movie ...  ...  {'taking': 1, 'legacy': 1, 'making': 1, 'movie...\n",
              "3      truly, truly awful. the questions were mind-nu...  ...  {'truly': 3, 'awful': 1, 'question': 1, 'dumb'...\n",
              "4      the idea of a mockumentary on creating a stere...  ...  {'idea': 1, 'mockumentary': 1, 'creating': 1, ...\n",
              "...                                                  ...  ...                                                ...\n",
              "49995  i saw this film at vision fest'05 in new york....  ...  {'saw': 1, 'film': 2, 'vision': 2, 'new': 1, '...\n",
              "49996  i saw derailroaded at the ica in london and i ...  ...  {'saw': 1, 'derailroaded': 2, 'ica': 1, 'londo...\n",
              "49997  first, i was attracted by the trailer but i ne...  ...  {'first': 1, 'attracted': 1, 'trailer': 1, 'ne...\n",
              "49998  i have a feeling that most people are going to...  ...  {'feeling': 1, 'people': 1, 'going': 2, 'eithe...\n",
              "49999  this is a good film to watch on a long winter ...  ...  {'good': 1, 'film': 2, 'watch': 1, 'long': 1, ...\n",
              "\n",
              "[50000 rows x 4 columns]"
            ]
          },
          "metadata": {
            "tags": []
          },
          "execution_count": 86
        }
      ]
    },
    {
      "cell_type": "code",
      "metadata": {
        "colab": {
          "base_uri": "https://localhost:8080/",
          "height": 570
        },
        "id": "gjKNQLtAEGaI",
        "outputId": "faab5fe9-62c4-4290-af26-af1c8752d9bd"
      },
      "source": [
        "#nltk.download('averaged_perceptron_tagger')\r\n",
        "#df['pos_tag'] = df.apply(lambda row: nltk.pos_tag(row['clean_review']), axis=1)\r\n",
        "df"
      ],
      "execution_count": null,
      "outputs": [
        {
          "output_type": "execute_result",
          "data": {
            "text/html": [
              "<div>\n",
              "<style scoped>\n",
              "    .dataframe tbody tr th:only-of-type {\n",
              "        vertical-align: middle;\n",
              "    }\n",
              "\n",
              "    .dataframe tbody tr th {\n",
              "        vertical-align: top;\n",
              "    }\n",
              "\n",
              "    .dataframe thead th {\n",
              "        text-align: right;\n",
              "    }\n",
              "</style>\n",
              "<table border=\"1\" class=\"dataframe\">\n",
              "  <thead>\n",
              "    <tr style=\"text-align: right;\">\n",
              "      <th></th>\n",
              "      <th>review</th>\n",
              "      <th>sentence_count</th>\n",
              "      <th>clean_review</th>\n",
              "      <th>word_count</th>\n",
              "      <th>pos_tag</th>\n",
              "    </tr>\n",
              "  </thead>\n",
              "  <tbody>\n",
              "    <tr>\n",
              "      <th>0</th>\n",
              "      <td>sometimes i review lists of the greatest 10, 2...</td>\n",
              "      <td>21</td>\n",
              "      <td>[sometimes, review, list, greatest, american, ...</td>\n",
              "      <td>{'sometimes': 1, 'review': 2, 'list': 3, 'grea...</td>\n",
              "      <td>[(sometimes, RB), (review, JJ), (list, NN), (g...</td>\n",
              "    </tr>\n",
              "    <tr>\n",
              "      <th>1</th>\n",
              "      <td>when i first heard that eddie murphy was going...</td>\n",
              "      <td>12</td>\n",
              "      <td>[first, heard, eddie, murphy, going, star, hau...</td>\n",
              "      <td>{'first': 1, 'heard': 1, 'eddie': 1, 'murphy':...</td>\n",
              "      <td>[(first, RB), (heard, NN), (eddie, NN), (murph...</td>\n",
              "    </tr>\n",
              "    <tr>\n",
              "      <th>2</th>\n",
              "      <td>taking this legacy and making it into a movie ...</td>\n",
              "      <td>16</td>\n",
              "      <td>[taking, legacy, making, movie, horrible, idea...</td>\n",
              "      <td>{'taking': 1, 'legacy': 1, 'making': 1, 'movie...</td>\n",
              "      <td>[(taking, VBG), (legacy, NN), (making, VBG), (...</td>\n",
              "    </tr>\n",
              "    <tr>\n",
              "      <th>3</th>\n",
              "      <td>truly, truly awful. the questions were mind-nu...</td>\n",
              "      <td>5</td>\n",
              "      <td>[truly, truly, awful, question, dumb, commenta...</td>\n",
              "      <td>{'truly': 3, 'awful': 1, 'question': 1, 'dumb'...</td>\n",
              "      <td>[(truly, RB), (truly, RB), (awful, JJ), (quest...</td>\n",
              "    </tr>\n",
              "    <tr>\n",
              "      <th>4</th>\n",
              "      <td>the idea of a mockumentary on creating a stere...</td>\n",
              "      <td>10</td>\n",
              "      <td>[idea, mockumentary, creating, stereotypical, ...</td>\n",
              "      <td>{'idea': 1, 'mockumentary': 1, 'creating': 1, ...</td>\n",
              "      <td>[(idea, NN), (mockumentary, JJ), (creating, VB...</td>\n",
              "    </tr>\n",
              "    <tr>\n",
              "      <th>...</th>\n",
              "      <td>...</td>\n",
              "      <td>...</td>\n",
              "      <td>...</td>\n",
              "      <td>...</td>\n",
              "      <td>...</td>\n",
              "    </tr>\n",
              "    <tr>\n",
              "      <th>49995</th>\n",
              "      <td>i saw this film at vision fest'05 in new york....</td>\n",
              "      <td>8</td>\n",
              "      <td>[saw, film, vision, new, york, film, worth, wa...</td>\n",
              "      <td>{'saw': 1, 'film': 2, 'vision': 2, 'new': 1, '...</td>\n",
              "      <td>[(saw, NN), (film, NN), (vision, NN), (new, JJ...</td>\n",
              "    </tr>\n",
              "    <tr>\n",
              "      <th>49996</th>\n",
              "      <td>i saw derailroaded at the ica in london and i ...</td>\n",
              "      <td>12</td>\n",
              "      <td>[saw, derailroaded, ica, london, thrilled, see...</td>\n",
              "      <td>{'saw': 1, 'derailroaded': 2, 'ica': 1, 'londo...</td>\n",
              "      <td>[(saw, NN), (derailroaded, VBD), (ica, JJ), (l...</td>\n",
              "    </tr>\n",
              "    <tr>\n",
              "      <th>49997</th>\n",
              "      <td>first, i was attracted by the trailer but i ne...</td>\n",
              "      <td>3</td>\n",
              "      <td>[first, attracted, trailer, never, thought, wo...</td>\n",
              "      <td>{'first': 1, 'attracted': 1, 'trailer': 1, 'ne...</td>\n",
              "      <td>[(first, RB), (attracted, VBN), (trailer, NN),...</td>\n",
              "    </tr>\n",
              "    <tr>\n",
              "      <th>49998</th>\n",
              "      <td>i have a feeling that most people are going to...</td>\n",
              "      <td>11</td>\n",
              "      <td>[feeling, people, going, either, really, like,...</td>\n",
              "      <td>{'feeling': 1, 'people': 1, 'going': 2, 'eithe...</td>\n",
              "      <td>[(feeling, VBG), (people, NNS), (going, VBG), ...</td>\n",
              "    </tr>\n",
              "    <tr>\n",
              "      <th>49999</th>\n",
              "      <td>this is a good film to watch on a long winter ...</td>\n",
              "      <td>5</td>\n",
              "      <td>[good, film, watch, long, winter, evening, two...</td>\n",
              "      <td>{'good': 1, 'film': 2, 'watch': 1, 'long': 1, ...</td>\n",
              "      <td>[(good, JJ), (film, NN), (watch, NN), (long, R...</td>\n",
              "    </tr>\n",
              "  </tbody>\n",
              "</table>\n",
              "<p>50000 rows × 5 columns</p>\n",
              "</div>"
            ],
            "text/plain": [
              "                                                  review  ...                                            pos_tag\n",
              "0      sometimes i review lists of the greatest 10, 2...  ...  [(sometimes, RB), (review, JJ), (list, NN), (g...\n",
              "1      when i first heard that eddie murphy was going...  ...  [(first, RB), (heard, NN), (eddie, NN), (murph...\n",
              "2      taking this legacy and making it into a movie ...  ...  [(taking, VBG), (legacy, NN), (making, VBG), (...\n",
              "3      truly, truly awful. the questions were mind-nu...  ...  [(truly, RB), (truly, RB), (awful, JJ), (quest...\n",
              "4      the idea of a mockumentary on creating a stere...  ...  [(idea, NN), (mockumentary, JJ), (creating, VB...\n",
              "...                                                  ...  ...                                                ...\n",
              "49995  i saw this film at vision fest'05 in new york....  ...  [(saw, NN), (film, NN), (vision, NN), (new, JJ...\n",
              "49996  i saw derailroaded at the ica in london and i ...  ...  [(saw, NN), (derailroaded, VBD), (ica, JJ), (l...\n",
              "49997  first, i was attracted by the trailer but i ne...  ...  [(first, RB), (attracted, VBN), (trailer, NN),...\n",
              "49998  i have a feeling that most people are going to...  ...  [(feeling, VBG), (people, NNS), (going, VBG), ...\n",
              "49999  this is a good film to watch on a long winter ...  ...  [(good, JJ), (film, NN), (watch, NN), (long, R...\n",
              "\n",
              "[50000 rows x 5 columns]"
            ]
          },
          "metadata": {
            "tags": []
          },
          "execution_count": 89
        }
      ]
    },
    {
      "cell_type": "code",
      "metadata": {
        "id": "8q3ylx6bCUPY"
      },
      "source": [
        "df.to_csv('./clean_unsup.csv', index = None, header=True)"
      ],
      "execution_count": null,
      "outputs": []
    }
  ]
}